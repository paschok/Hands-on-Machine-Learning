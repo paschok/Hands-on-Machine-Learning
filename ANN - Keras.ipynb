{
 "cells": [
  {
   "cell_type": "code",
   "execution_count": 1,
   "metadata": {},
   "outputs": [],
   "source": [
    "import tensorflow as tf\n",
    "from tensorflow import keras"
   ]
  },
  {
   "cell_type": "code",
   "execution_count": 2,
   "metadata": {},
   "outputs": [
    {
     "data": {
      "text/plain": [
       "'2.3.1'"
      ]
     },
     "execution_count": 2,
     "metadata": {},
     "output_type": "execute_result"
    }
   ],
   "source": [
    "tf.__version__"
   ]
  },
  {
   "cell_type": "code",
   "execution_count": 3,
   "metadata": {},
   "outputs": [
    {
     "data": {
      "text/plain": [
       "'2.4.0'"
      ]
     },
     "execution_count": 3,
     "metadata": {},
     "output_type": "execute_result"
    }
   ],
   "source": [
    "keras.__version__"
   ]
  },
  {
   "cell_type": "markdown",
   "metadata": {},
   "source": [
    "#### Fashion MNIST, which is a drop-in replacement of MNIST (the one with digits). It has the exact same format as MNIST (70,000 grayscale images of 28 × 28 pixels each, with 10 classes), but the images represent fashion items rather than handwritten digits, so each class is more diverse, and the problem turns out to be significantly more challenging than MNIST. For example, a simple linear model reaches about 92% accuracy on MNIST, but only about 83% on Fashion MNIST.\n",
    "\n",
    "Keras provides some utility functions to fetch and load common datasets, including MNIST, Fashion MNIST, and the California housing dataset that used in this repo already"
   ]
  },
  {
   "cell_type": "code",
   "execution_count": 6,
   "metadata": {},
   "outputs": [
    {
     "name": "stdout",
     "output_type": "stream",
     "text": [
      "Downloading data from https://storage.googleapis.com/tensorflow/tf-keras-datasets/train-labels-idx1-ubyte.gz\n",
      "32768/29515 [=================================] - 0s 0us/step\n",
      "Downloading data from https://storage.googleapis.com/tensorflow/tf-keras-datasets/train-images-idx3-ubyte.gz\n",
      "26427392/26421880 [==============================] - 1s 0us/step\n",
      "Downloading data from https://storage.googleapis.com/tensorflow/tf-keras-datasets/t10k-labels-idx1-ubyte.gz\n",
      "8192/5148 [===============================================] - 0s 0us/step\n",
      "Downloading data from https://storage.googleapis.com/tensorflow/tf-keras-datasets/t10k-images-idx3-ubyte.gz\n",
      "4423680/4422102 [==============================] - 0s 0us/step\n"
     ]
    }
   ],
   "source": [
    "fashion_mnist = keras.datasets.fashion_mnist\n",
    "\n",
    "(X_train_full, y_train_full), (X_test, y_test) = fashion_mnist.load_data()"
   ]
  },
  {
   "cell_type": "markdown",
   "metadata": {},
   "source": [
    "When loading MNIST or Fashion MNIST using Keras rather than Scikit-Learn, one important difference is that every image is represented as a 28 × 28 array rather than a 1D array of size 784. Moreover, the pixel intensities are represented as integers (from 0 to 255) rather than floats (from 0.0 to 255.0). Let’s take a look at the shape and data type of the training set:"
   ]
  },
  {
   "cell_type": "code",
   "execution_count": 8,
   "metadata": {},
   "outputs": [
    {
     "data": {
      "text/plain": [
       "((60000, 28, 28), 3, dtype('uint8'))"
      ]
     },
     "execution_count": 8,
     "metadata": {},
     "output_type": "execute_result"
    }
   ],
   "source": [
    "X_train_full.shape, X_train_full.ndim, X_train_full.dtype"
   ]
  },
  {
   "cell_type": "code",
   "execution_count": 17,
   "metadata": {
    "scrolled": true
   },
   "outputs": [
    {
     "data": {
      "text/plain": [
       "array([[  0,   0,   0,   0,   0,   0,   0,   0,   0,   0,   0,   0,   0,\n",
       "          0,   0,   0,   0,   0,   0,   0,   0,   0,   0,   0,   0,   0,\n",
       "          0,   0],\n",
       "       [  0,   0,   0,   0,   0,   0,   0,   0,   2,   0,   0, 122, 151,\n",
       "        142, 135, 123, 102,   0,   0,   1,   0,   0,   0,   0,   0,   0,\n",
       "          0,   0],\n",
       "       [  0,   1,   1,   1,   1,   1,   1,   0,   3,   0, 139, 255, 222,\n",
       "        206, 204, 197, 237, 149,   0,   6,   1,   1,   0,   0,   1,   2,\n",
       "          0,   0],\n",
       "       [  1,   0,   0,   1,   3,   0,   0,   2,   2,   0, 183, 191, 221,\n",
       "        209, 210, 194, 200, 158,   0,   2,   5,   2,   0,   0,   0,   1,\n",
       "          0,   0],\n",
       "       [  0,   1,   0,   0,   2,   0,   3,   0,   0,  95, 244, 191, 162,\n",
       "        179, 145, 146, 149, 191,  49,   0,   1,   1,   1,   0,   1,   0,\n",
       "          0,   0],\n",
       "       [  1,   1,   0,   0,   1,   1,   0,   0,  52, 230, 232, 238, 203,\n",
       "        181, 197, 199, 180, 194, 184,  68,  19,   0,   0,   2,   1,   1,\n",
       "          0,   0],\n",
       "       [  1,   2,   0,   0,   4,   0,  71, 199, 215, 184, 179, 194, 216,\n",
       "        221, 164, 181, 157, 143, 166, 191, 212, 119,   0,   1,   2,   2,\n",
       "          0,   0],\n",
       "       [  1,   1,   0,   2,   0,  17, 237, 213, 150, 186, 192, 185, 195,\n",
       "        173, 151, 167, 166, 169, 169, 157, 167, 216,  59,   0,   3,   0,\n",
       "          0,   0],\n",
       "       [  0,   0,   0,   2,   0, 163, 225, 217, 171, 181, 190, 190, 197,\n",
       "        169, 165, 191, 171, 167, 180, 166, 162, 183, 160,   0,   2,   1,\n",
       "          1,   0],\n",
       "       [  1,   0,   4,   0,  22, 238, 220, 226, 188, 202, 191, 190, 198,\n",
       "        172, 165, 213, 171, 173, 182, 189, 171, 181, 199,  27,   0,   3,\n",
       "          1,   0],\n",
       "       [  0,   0,   3,   0, 113, 232, 225, 230, 192, 198, 192, 195, 199,\n",
       "        172, 162, 235, 177, 177, 183, 193, 179, 188, 207, 116,   0,   3,\n",
       "          0,   0],\n",
       "       [  1,   2,   0,   0, 198, 218, 233, 226, 205, 206, 193, 196, 198,\n",
       "        173, 170, 227, 165, 169, 166, 190, 182, 196, 198, 183,   0,   1,\n",
       "          1,   0],\n",
       "       [  0,   2,   0,  23, 226, 202, 220, 233, 212, 218, 200, 198, 200,\n",
       "        168, 170, 225, 167, 172, 167, 196, 179, 195, 176, 198,  41,   0,\n",
       "          2,   0],\n",
       "       [  0,   6,   0, 116, 223, 192, 218, 230, 212, 206, 202, 199, 205,\n",
       "        172, 164, 219, 168, 179, 156, 176, 188, 194, 175, 199,  94,   0,\n",
       "          7,   0],\n",
       "       [  0,   0,   0, 188, 209, 191, 203, 243, 238, 200, 207, 204, 210,\n",
       "        180, 164, 193, 170, 180, 169, 167, 195, 194, 189, 196, 140,   0,\n",
       "          1,   0],\n",
       "       [  8,   0,   8, 234, 198, 195, 193, 226, 244, 202, 207, 198, 204,\n",
       "        189, 182, 193, 184, 182, 188, 182, 159, 206, 186, 191, 196,   0,\n",
       "          0,   1],\n",
       "       [  3,   0,  76, 221, 198, 215, 183,  84, 247, 198, 207, 200, 204,\n",
       "        189, 184, 193, 177, 193, 179, 197,  35, 207, 190, 183, 213,  44,\n",
       "          0,   2],\n",
       "       [  1,   0, 166, 222, 199, 225, 126,  61, 253, 206, 205, 207, 206,\n",
       "        186, 180, 200, 172, 194, 177, 213,   0, 124, 218, 179, 197, 109,\n",
       "          0,   0],\n",
       "       [  0,   0, 221, 215, 199, 229,   2,  88, 251, 223, 202, 205, 211,\n",
       "        189, 186, 205, 173, 188, 193, 207,   0,  18, 229, 183, 196, 169,\n",
       "          0,   0],\n",
       "       [  0,  27, 221, 203, 208, 207,   0,  56, 247, 225, 211, 213, 220,\n",
       "        195, 199, 203, 180, 176, 188, 206,  14,   0, 225, 196, 185, 210,\n",
       "         18,   0],\n",
       "       [  0,  71, 229, 196, 225,  99,   0,  42, 248, 223, 215, 217, 220,\n",
       "        193, 207, 207, 192, 182, 170, 211,  49,   0, 176, 222, 194, 195,\n",
       "         69,   0],\n",
       "       [  0, 151, 225, 200, 221,   4,   0,  34, 253, 222, 210, 212, 215,\n",
       "        181, 209, 209, 193, 195, 175, 211,  70,   0,  59, 231, 216, 210,\n",
       "        125,   0],\n",
       "       [  0, 219, 213, 211, 160,   0,   0,  17, 253, 223, 208, 209, 212,\n",
       "        186, 198, 204, 189, 185, 178, 210,  77,   0,   0, 238, 213, 212,\n",
       "        188,   0],\n",
       "       [  5, 210, 208, 210,  64,   0,   0,   0, 250, 227, 211, 211, 213,\n",
       "        195, 191, 205, 202, 194, 179, 210,  85,   0,   0, 176, 227, 202,\n",
       "        213,  15],\n",
       "       [ 70, 223, 203, 192,   0,   1,   0,   0, 247, 225, 200, 208, 209,\n",
       "        191, 191, 191, 182, 188, 178, 192,  89,   0,   0, 102, 234, 195,\n",
       "        199,  92],\n",
       "       [106, 232, 226, 139,   0,   2,   0,   0, 255, 240, 234, 233, 232,\n",
       "        232, 231, 230, 226, 224, 218, 231,  97,   0,   0,  12, 204, 224,\n",
       "        227,  84],\n",
       "       [  0,  58, 126,  14,   0,   3,   0,   0,  71, 135, 125, 127, 121,\n",
       "        116, 110, 104, 102,  99, 102,  79,   7,   0,   0,   0,  32,  73,\n",
       "         30,   0],\n",
       "       [  0,   0,   0,   0,   0,   0,   0,   0,   0,   0,   0,   0,   0,\n",
       "          0,   0,   0,   0,   0,   0,   0,   0,   0,   0,   0,   0,   0,\n",
       "          0,   0]], dtype=uint8)"
      ]
     },
     "execution_count": 17,
     "metadata": {},
     "output_type": "execute_result"
    }
   ],
   "source": [
    "X_train_full[6578]"
   ]
  },
  {
   "cell_type": "markdown",
   "metadata": {},
   "source": [
    "The dataset is already split into a training set and a test set, but there is no validation set, so we’ll create one now. Additionally, since we are going to train the neural network using Gradient Descent, we must scale the input features. For simplicity, we’ll scale the pixel intensities down to the 0–1 range by dividing them by 255.0 (this also converts them to floats):"
   ]
  },
  {
   "cell_type": "code",
   "execution_count": 9,
   "metadata": {},
   "outputs": [],
   "source": [
    "X_valid, X_train = X_train_full[:5000] / 255.0, X_train_full[5000:] / 255.0 \n",
    "y_valid, y_train = y_train_full[:5000], y_train_full[5000:]"
   ]
  },
  {
   "cell_type": "code",
   "execution_count": 10,
   "metadata": {},
   "outputs": [
    {
     "data": {
      "text/plain": [
       "((55000, 28, 28), (5000, 28, 28))"
      ]
     },
     "execution_count": 10,
     "metadata": {},
     "output_type": "execute_result"
    }
   ],
   "source": [
    "X_train.shape, X_valid.shape"
   ]
  },
  {
   "cell_type": "code",
   "execution_count": 18,
   "metadata": {},
   "outputs": [
    {
     "data": {
      "text/plain": [
       "array([[0.        , 0.        , 0.        , 0.        , 0.        ,\n",
       "        0.        , 0.        , 0.        , 0.        , 0.        ,\n",
       "        0.        , 0.        , 0.        , 0.        , 0.        ,\n",
       "        0.        , 0.        , 0.        , 0.        , 0.        ,\n",
       "        0.        , 0.        , 0.        , 0.        , 0.        ,\n",
       "        0.        , 0.        , 0.        ],\n",
       "       [0.        , 0.        , 0.        , 0.        , 0.        ,\n",
       "        0.        , 0.        , 0.        , 0.00784314, 0.        ,\n",
       "        0.        , 0.47843137, 0.59215686, 0.55686275, 0.52941176,\n",
       "        0.48235294, 0.4       , 0.        , 0.        , 0.00392157,\n",
       "        0.        , 0.        , 0.        , 0.        , 0.        ,\n",
       "        0.        , 0.        , 0.        ],\n",
       "       [0.        , 0.00392157, 0.00392157, 0.00392157, 0.00392157,\n",
       "        0.00392157, 0.00392157, 0.        , 0.01176471, 0.        ,\n",
       "        0.54509804, 1.        , 0.87058824, 0.80784314, 0.8       ,\n",
       "        0.77254902, 0.92941176, 0.58431373, 0.        , 0.02352941,\n",
       "        0.00392157, 0.00392157, 0.        , 0.        , 0.00392157,\n",
       "        0.00784314, 0.        , 0.        ],\n",
       "       [0.00392157, 0.        , 0.        , 0.00392157, 0.01176471,\n",
       "        0.        , 0.        , 0.00784314, 0.00784314, 0.        ,\n",
       "        0.71764706, 0.74901961, 0.86666667, 0.81960784, 0.82352941,\n",
       "        0.76078431, 0.78431373, 0.61960784, 0.        , 0.00784314,\n",
       "        0.01960784, 0.00784314, 0.        , 0.        , 0.        ,\n",
       "        0.00392157, 0.        , 0.        ],\n",
       "       [0.        , 0.00392157, 0.        , 0.        , 0.00784314,\n",
       "        0.        , 0.01176471, 0.        , 0.        , 0.37254902,\n",
       "        0.95686275, 0.74901961, 0.63529412, 0.70196078, 0.56862745,\n",
       "        0.57254902, 0.58431373, 0.74901961, 0.19215686, 0.        ,\n",
       "        0.00392157, 0.00392157, 0.00392157, 0.        , 0.00392157,\n",
       "        0.        , 0.        , 0.        ],\n",
       "       [0.00392157, 0.00392157, 0.        , 0.        , 0.00392157,\n",
       "        0.00392157, 0.        , 0.        , 0.20392157, 0.90196078,\n",
       "        0.90980392, 0.93333333, 0.79607843, 0.70980392, 0.77254902,\n",
       "        0.78039216, 0.70588235, 0.76078431, 0.72156863, 0.26666667,\n",
       "        0.0745098 , 0.        , 0.        , 0.00784314, 0.00392157,\n",
       "        0.00392157, 0.        , 0.        ],\n",
       "       [0.00392157, 0.00784314, 0.        , 0.        , 0.01568627,\n",
       "        0.        , 0.27843137, 0.78039216, 0.84313725, 0.72156863,\n",
       "        0.70196078, 0.76078431, 0.84705882, 0.86666667, 0.64313725,\n",
       "        0.70980392, 0.61568627, 0.56078431, 0.65098039, 0.74901961,\n",
       "        0.83137255, 0.46666667, 0.        , 0.00392157, 0.00784314,\n",
       "        0.00784314, 0.        , 0.        ],\n",
       "       [0.00392157, 0.00392157, 0.        , 0.00784314, 0.        ,\n",
       "        0.06666667, 0.92941176, 0.83529412, 0.58823529, 0.72941176,\n",
       "        0.75294118, 0.7254902 , 0.76470588, 0.67843137, 0.59215686,\n",
       "        0.65490196, 0.65098039, 0.6627451 , 0.6627451 , 0.61568627,\n",
       "        0.65490196, 0.84705882, 0.23137255, 0.        , 0.01176471,\n",
       "        0.        , 0.        , 0.        ],\n",
       "       [0.        , 0.        , 0.        , 0.00784314, 0.        ,\n",
       "        0.63921569, 0.88235294, 0.85098039, 0.67058824, 0.70980392,\n",
       "        0.74509804, 0.74509804, 0.77254902, 0.6627451 , 0.64705882,\n",
       "        0.74901961, 0.67058824, 0.65490196, 0.70588235, 0.65098039,\n",
       "        0.63529412, 0.71764706, 0.62745098, 0.        , 0.00784314,\n",
       "        0.00392157, 0.00392157, 0.        ],\n",
       "       [0.00392157, 0.        , 0.01568627, 0.        , 0.08627451,\n",
       "        0.93333333, 0.8627451 , 0.88627451, 0.7372549 , 0.79215686,\n",
       "        0.74901961, 0.74509804, 0.77647059, 0.6745098 , 0.64705882,\n",
       "        0.83529412, 0.67058824, 0.67843137, 0.71372549, 0.74117647,\n",
       "        0.67058824, 0.70980392, 0.78039216, 0.10588235, 0.        ,\n",
       "        0.01176471, 0.00392157, 0.        ],\n",
       "       [0.        , 0.        , 0.01176471, 0.        , 0.44313725,\n",
       "        0.90980392, 0.88235294, 0.90196078, 0.75294118, 0.77647059,\n",
       "        0.75294118, 0.76470588, 0.78039216, 0.6745098 , 0.63529412,\n",
       "        0.92156863, 0.69411765, 0.69411765, 0.71764706, 0.75686275,\n",
       "        0.70196078, 0.7372549 , 0.81176471, 0.45490196, 0.        ,\n",
       "        0.01176471, 0.        , 0.        ],\n",
       "       [0.00392157, 0.00784314, 0.        , 0.        , 0.77647059,\n",
       "        0.85490196, 0.91372549, 0.88627451, 0.80392157, 0.80784314,\n",
       "        0.75686275, 0.76862745, 0.77647059, 0.67843137, 0.66666667,\n",
       "        0.89019608, 0.64705882, 0.6627451 , 0.65098039, 0.74509804,\n",
       "        0.71372549, 0.76862745, 0.77647059, 0.71764706, 0.        ,\n",
       "        0.00392157, 0.00392157, 0.        ],\n",
       "       [0.        , 0.00784314, 0.        , 0.09019608, 0.88627451,\n",
       "        0.79215686, 0.8627451 , 0.91372549, 0.83137255, 0.85490196,\n",
       "        0.78431373, 0.77647059, 0.78431373, 0.65882353, 0.66666667,\n",
       "        0.88235294, 0.65490196, 0.6745098 , 0.65490196, 0.76862745,\n",
       "        0.70196078, 0.76470588, 0.69019608, 0.77647059, 0.16078431,\n",
       "        0.        , 0.00784314, 0.        ],\n",
       "       [0.        , 0.02352941, 0.        , 0.45490196, 0.8745098 ,\n",
       "        0.75294118, 0.85490196, 0.90196078, 0.83137255, 0.80784314,\n",
       "        0.79215686, 0.78039216, 0.80392157, 0.6745098 , 0.64313725,\n",
       "        0.85882353, 0.65882353, 0.70196078, 0.61176471, 0.69019608,\n",
       "        0.7372549 , 0.76078431, 0.68627451, 0.78039216, 0.36862745,\n",
       "        0.        , 0.02745098, 0.        ],\n",
       "       [0.        , 0.        , 0.        , 0.7372549 , 0.81960784,\n",
       "        0.74901961, 0.79607843, 0.95294118, 0.93333333, 0.78431373,\n",
       "        0.81176471, 0.8       , 0.82352941, 0.70588235, 0.64313725,\n",
       "        0.75686275, 0.66666667, 0.70588235, 0.6627451 , 0.65490196,\n",
       "        0.76470588, 0.76078431, 0.74117647, 0.76862745, 0.54901961,\n",
       "        0.        , 0.00392157, 0.        ],\n",
       "       [0.03137255, 0.        , 0.03137255, 0.91764706, 0.77647059,\n",
       "        0.76470588, 0.75686275, 0.88627451, 0.95686275, 0.79215686,\n",
       "        0.81176471, 0.77647059, 0.8       , 0.74117647, 0.71372549,\n",
       "        0.75686275, 0.72156863, 0.71372549, 0.7372549 , 0.71372549,\n",
       "        0.62352941, 0.80784314, 0.72941176, 0.74901961, 0.76862745,\n",
       "        0.        , 0.        , 0.00392157],\n",
       "       [0.01176471, 0.        , 0.29803922, 0.86666667, 0.77647059,\n",
       "        0.84313725, 0.71764706, 0.32941176, 0.96862745, 0.77647059,\n",
       "        0.81176471, 0.78431373, 0.8       , 0.74117647, 0.72156863,\n",
       "        0.75686275, 0.69411765, 0.75686275, 0.70196078, 0.77254902,\n",
       "        0.1372549 , 0.81176471, 0.74509804, 0.71764706, 0.83529412,\n",
       "        0.17254902, 0.        , 0.00784314],\n",
       "       [0.00392157, 0.        , 0.65098039, 0.87058824, 0.78039216,\n",
       "        0.88235294, 0.49411765, 0.23921569, 0.99215686, 0.80784314,\n",
       "        0.80392157, 0.81176471, 0.80784314, 0.72941176, 0.70588235,\n",
       "        0.78431373, 0.6745098 , 0.76078431, 0.69411765, 0.83529412,\n",
       "        0.        , 0.48627451, 0.85490196, 0.70196078, 0.77254902,\n",
       "        0.42745098, 0.        , 0.        ],\n",
       "       [0.        , 0.        , 0.86666667, 0.84313725, 0.78039216,\n",
       "        0.89803922, 0.00784314, 0.34509804, 0.98431373, 0.8745098 ,\n",
       "        0.79215686, 0.80392157, 0.82745098, 0.74117647, 0.72941176,\n",
       "        0.80392157, 0.67843137, 0.7372549 , 0.75686275, 0.81176471,\n",
       "        0.        , 0.07058824, 0.89803922, 0.71764706, 0.76862745,\n",
       "        0.6627451 , 0.        , 0.        ],\n",
       "       [0.        , 0.10588235, 0.86666667, 0.79607843, 0.81568627,\n",
       "        0.81176471, 0.        , 0.21960784, 0.96862745, 0.88235294,\n",
       "        0.82745098, 0.83529412, 0.8627451 , 0.76470588, 0.78039216,\n",
       "        0.79607843, 0.70588235, 0.69019608, 0.7372549 , 0.80784314,\n",
       "        0.05490196, 0.        , 0.88235294, 0.76862745, 0.7254902 ,\n",
       "        0.82352941, 0.07058824, 0.        ],\n",
       "       [0.        , 0.27843137, 0.89803922, 0.76862745, 0.88235294,\n",
       "        0.38823529, 0.        , 0.16470588, 0.97254902, 0.8745098 ,\n",
       "        0.84313725, 0.85098039, 0.8627451 , 0.75686275, 0.81176471,\n",
       "        0.81176471, 0.75294118, 0.71372549, 0.66666667, 0.82745098,\n",
       "        0.19215686, 0.        , 0.69019608, 0.87058824, 0.76078431,\n",
       "        0.76470588, 0.27058824, 0.        ],\n",
       "       [0.        , 0.59215686, 0.88235294, 0.78431373, 0.86666667,\n",
       "        0.01568627, 0.        , 0.13333333, 0.99215686, 0.87058824,\n",
       "        0.82352941, 0.83137255, 0.84313725, 0.70980392, 0.81960784,\n",
       "        0.81960784, 0.75686275, 0.76470588, 0.68627451, 0.82745098,\n",
       "        0.2745098 , 0.        , 0.23137255, 0.90588235, 0.84705882,\n",
       "        0.82352941, 0.49019608, 0.        ],\n",
       "       [0.        , 0.85882353, 0.83529412, 0.82745098, 0.62745098,\n",
       "        0.        , 0.        , 0.06666667, 0.99215686, 0.8745098 ,\n",
       "        0.81568627, 0.81960784, 0.83137255, 0.72941176, 0.77647059,\n",
       "        0.8       , 0.74117647, 0.7254902 , 0.69803922, 0.82352941,\n",
       "        0.30196078, 0.        , 0.        , 0.93333333, 0.83529412,\n",
       "        0.83137255, 0.7372549 , 0.        ],\n",
       "       [0.01960784, 0.82352941, 0.81568627, 0.82352941, 0.25098039,\n",
       "        0.        , 0.        , 0.        , 0.98039216, 0.89019608,\n",
       "        0.82745098, 0.82745098, 0.83529412, 0.76470588, 0.74901961,\n",
       "        0.80392157, 0.79215686, 0.76078431, 0.70196078, 0.82352941,\n",
       "        0.33333333, 0.        , 0.        , 0.69019608, 0.89019608,\n",
       "        0.79215686, 0.83529412, 0.05882353],\n",
       "       [0.2745098 , 0.8745098 , 0.79607843, 0.75294118, 0.        ,\n",
       "        0.00392157, 0.        , 0.        , 0.96862745, 0.88235294,\n",
       "        0.78431373, 0.81568627, 0.81960784, 0.74901961, 0.74901961,\n",
       "        0.74901961, 0.71372549, 0.7372549 , 0.69803922, 0.75294118,\n",
       "        0.34901961, 0.        , 0.        , 0.4       , 0.91764706,\n",
       "        0.76470588, 0.78039216, 0.36078431],\n",
       "       [0.41568627, 0.90980392, 0.88627451, 0.54509804, 0.        ,\n",
       "        0.00784314, 0.        , 0.        , 1.        , 0.94117647,\n",
       "        0.91764706, 0.91372549, 0.90980392, 0.90980392, 0.90588235,\n",
       "        0.90196078, 0.88627451, 0.87843137, 0.85490196, 0.90588235,\n",
       "        0.38039216, 0.        , 0.        , 0.04705882, 0.8       ,\n",
       "        0.87843137, 0.89019608, 0.32941176],\n",
       "       [0.        , 0.22745098, 0.49411765, 0.05490196, 0.        ,\n",
       "        0.01176471, 0.        , 0.        , 0.27843137, 0.52941176,\n",
       "        0.49019608, 0.49803922, 0.4745098 , 0.45490196, 0.43137255,\n",
       "        0.40784314, 0.4       , 0.38823529, 0.4       , 0.30980392,\n",
       "        0.02745098, 0.        , 0.        , 0.        , 0.1254902 ,\n",
       "        0.28627451, 0.11764706, 0.        ],\n",
       "       [0.        , 0.        , 0.        , 0.        , 0.        ,\n",
       "        0.        , 0.        , 0.        , 0.        , 0.        ,\n",
       "        0.        , 0.        , 0.        , 0.        , 0.        ,\n",
       "        0.        , 0.        , 0.        , 0.        , 0.        ,\n",
       "        0.        , 0.        , 0.        , 0.        , 0.        ,\n",
       "        0.        , 0.        , 0.        ]])"
      ]
     },
     "execution_count": 18,
     "metadata": {},
     "output_type": "execute_result"
    }
   ],
   "source": [
    "X_train[1578]"
   ]
  },
  {
   "cell_type": "code",
   "execution_count": 23,
   "metadata": {},
   "outputs": [
    {
     "data": {
      "text/plain": [
       "4"
      ]
     },
     "execution_count": 23,
     "metadata": {},
     "output_type": "execute_result"
    }
   ],
   "source": [
    "y_train[1578]"
   ]
  },
  {
   "cell_type": "markdown",
   "metadata": {},
   "source": [
    "For Fashion MNIST, however, we need the list of class names to know what we are dealing with:"
   ]
  },
  {
   "cell_type": "code",
   "execution_count": 13,
   "metadata": {},
   "outputs": [],
   "source": [
    "class_names = [\"T-shirt/top\", \"Trouser\", \"Pullover\", \"Dress\", \"Coat\", \"Sandal\", \"Shirt\", \n",
    "               \"Sneaker\", \"Bag\", \"Ankle boot\"]"
   ]
  },
  {
   "cell_type": "markdown",
   "metadata": {},
   "source": [
    "For example, the first image in the training set represents a coat:"
   ]
  },
  {
   "cell_type": "code",
   "execution_count": 14,
   "metadata": {},
   "outputs": [
    {
     "data": {
      "text/plain": [
       "'Coat'"
      ]
     },
     "execution_count": 14,
     "metadata": {},
     "output_type": "execute_result"
    }
   ],
   "source": [
    "class_names[y_train[0]]"
   ]
  },
  {
   "cell_type": "markdown",
   "metadata": {},
   "source": [
    "## Creating the model using the Sequential API\n",
    "Now let’s build the neural network! Here is a classification MLP with two hidden layers:"
   ]
  },
  {
   "cell_type": "code",
   "execution_count": 24,
   "metadata": {},
   "outputs": [],
   "source": [
    "model = keras.models.Sequential() \n",
    "model.add(keras.layers.Flatten(input_shape=[28, 28])) \n",
    "model.add(keras.layers.Dense(300, activation=\"relu\")) \n",
    "model.add(keras.layers.Dense(100, activation=\"relu\")) \n",
    "model.add(keras.layers.Dense(10, activation=\"softmax\"))"
   ]
  },
  {
   "cell_type": "markdown",
   "metadata": {},
   "source": [
    "Instead of adding the layers one by one, we can pass a list of layers when creating the Sequential model:\n",
    "<code>\n",
    "model = keras.models.Sequential([ \n",
    "    keras.layers.Flatten(input_shape=[28, 28]), \n",
    "    keras.layers.Dense(300, activation=\"relu\"), \n",
    "    keras.layers.Dense(100, activation=\"relu\"), \n",
    "    keras.layers.Dense(10, activation=\"softmax\")\n",
    "])\n",
    "</code>"
   ]
  },
  {
   "cell_type": "code",
   "execution_count": 25,
   "metadata": {},
   "outputs": [
    {
     "name": "stdout",
     "output_type": "stream",
     "text": [
      "Model: \"sequential\"\n",
      "_________________________________________________________________\n",
      "Layer (type)                 Output Shape              Param #   \n",
      "=================================================================\n",
      "flatten (Flatten)            (None, 784)               0         \n",
      "_________________________________________________________________\n",
      "dense (Dense)                (None, 300)               235500    \n",
      "_________________________________________________________________\n",
      "dense_1 (Dense)              (None, 100)               30100     \n",
      "_________________________________________________________________\n",
      "dense_2 (Dense)              (None, 10)                1010      \n",
      "=================================================================\n",
      "Total params: 266,610\n",
      "Trainable params: 266,610\n",
      "Non-trainable params: 0\n",
      "_________________________________________________________________\n"
     ]
    }
   ],
   "source": [
    "model.summary()"
   ]
  },
  {
   "cell_type": "markdown",
   "metadata": {},
   "source": [
    "use keras.utils.plot_model() to generate an image of the model"
   ]
  },
  {
   "cell_type": "markdown",
   "metadata": {},
   "source": [
    "Getting a model’s list of layers, to fetch a layer by its index, or you can fetch it by name:"
   ]
  },
  {
   "cell_type": "code",
   "execution_count": 28,
   "metadata": {},
   "outputs": [
    {
     "data": {
      "text/plain": [
       "[<tensorflow.python.keras.layers.core.Flatten at 0x7ff0c71a2c50>,\n",
       " <tensorflow.python.keras.layers.core.Dense at 0x7ff0c71a2990>,\n",
       " <tensorflow.python.keras.layers.core.Dense at 0x7ff0df6ffb50>,\n",
       " <tensorflow.python.keras.layers.core.Dense at 0x7ff0c6653f10>]"
      ]
     },
     "execution_count": 28,
     "metadata": {},
     "output_type": "execute_result"
    }
   ],
   "source": [
    "model.layers"
   ]
  },
  {
   "cell_type": "code",
   "execution_count": 29,
   "metadata": {},
   "outputs": [
    {
     "data": {
      "text/plain": [
       "'dense'"
      ]
     },
     "execution_count": 29,
     "metadata": {},
     "output_type": "execute_result"
    }
   ],
   "source": [
    "hidden1 = model.layers[1]\n",
    "hidden1.name"
   ]
  },
  {
   "cell_type": "code",
   "execution_count": 30,
   "metadata": {},
   "outputs": [
    {
     "data": {
      "text/plain": [
       "True"
      ]
     },
     "execution_count": 30,
     "metadata": {},
     "output_type": "execute_result"
    }
   ],
   "source": [
    "model.get_layer('dense') is hidden1"
   ]
  },
  {
   "cell_type": "markdown",
   "metadata": {},
   "source": [
    "#### All the parameters of a layer can be accessed using its get_weights() and set_weights() methods. For a Dense layer, this includes both the connection weights and the bias terms.\n",
    "###  Dense layer initialized the connection weights randomly (which is needed to break symmetry) and the biases were initialized to zeros, which is fine."
   ]
  },
  {
   "cell_type": "code",
   "execution_count": 31,
   "metadata": {},
   "outputs": [
    {
     "data": {
      "text/plain": [
       "(array([[ 0.04118655,  0.04344518, -0.04657469, ..., -0.06453626,\n",
       "          0.03313982,  0.03155833],\n",
       "        [ 0.03672253, -0.05419727, -0.06828153, ..., -0.06970759,\n",
       "          0.01395306, -0.05679519],\n",
       "        [ 0.07119663,  0.0294809 , -0.00197992, ...,  0.05813518,\n",
       "         -0.04418423,  0.05523898],\n",
       "        ...,\n",
       "        [-0.00510756, -0.0661884 , -0.03312814, ...,  0.0676167 ,\n",
       "          0.0688106 , -0.06764272],\n",
       "        [ 0.01067388, -0.0220653 ,  0.03182813, ...,  0.0608144 ,\n",
       "         -0.00793678,  0.01878282],\n",
       "        [-0.0530152 ,  0.00063495, -0.015722  , ...,  0.01116862,\n",
       "         -0.01209328,  0.01241039]], dtype=float32), (784, 300))"
      ]
     },
     "execution_count": 31,
     "metadata": {},
     "output_type": "execute_result"
    }
   ],
   "source": [
    "weights, biases = hidden1.get_weights()\n",
    "weights, weights.shape"
   ]
  },
  {
   "cell_type": "code",
   "execution_count": 32,
   "metadata": {},
   "outputs": [
    {
     "data": {
      "text/plain": [
       "(array([0., 0., 0., 0., 0., 0., 0., 0., 0., 0., 0., 0., 0., 0., 0., 0., 0.,\n",
       "        0., 0., 0., 0., 0., 0., 0., 0., 0., 0., 0., 0., 0., 0., 0., 0., 0.,\n",
       "        0., 0., 0., 0., 0., 0., 0., 0., 0., 0., 0., 0., 0., 0., 0., 0., 0.,\n",
       "        0., 0., 0., 0., 0., 0., 0., 0., 0., 0., 0., 0., 0., 0., 0., 0., 0.,\n",
       "        0., 0., 0., 0., 0., 0., 0., 0., 0., 0., 0., 0., 0., 0., 0., 0., 0.,\n",
       "        0., 0., 0., 0., 0., 0., 0., 0., 0., 0., 0., 0., 0., 0., 0., 0., 0.,\n",
       "        0., 0., 0., 0., 0., 0., 0., 0., 0., 0., 0., 0., 0., 0., 0., 0., 0.,\n",
       "        0., 0., 0., 0., 0., 0., 0., 0., 0., 0., 0., 0., 0., 0., 0., 0., 0.,\n",
       "        0., 0., 0., 0., 0., 0., 0., 0., 0., 0., 0., 0., 0., 0., 0., 0., 0.,\n",
       "        0., 0., 0., 0., 0., 0., 0., 0., 0., 0., 0., 0., 0., 0., 0., 0., 0.,\n",
       "        0., 0., 0., 0., 0., 0., 0., 0., 0., 0., 0., 0., 0., 0., 0., 0., 0.,\n",
       "        0., 0., 0., 0., 0., 0., 0., 0., 0., 0., 0., 0., 0., 0., 0., 0., 0.,\n",
       "        0., 0., 0., 0., 0., 0., 0., 0., 0., 0., 0., 0., 0., 0., 0., 0., 0.,\n",
       "        0., 0., 0., 0., 0., 0., 0., 0., 0., 0., 0., 0., 0., 0., 0., 0., 0.,\n",
       "        0., 0., 0., 0., 0., 0., 0., 0., 0., 0., 0., 0., 0., 0., 0., 0., 0.,\n",
       "        0., 0., 0., 0., 0., 0., 0., 0., 0., 0., 0., 0., 0., 0., 0., 0., 0.,\n",
       "        0., 0., 0., 0., 0., 0., 0., 0., 0., 0., 0., 0., 0., 0., 0., 0., 0.,\n",
       "        0., 0., 0., 0., 0., 0., 0., 0., 0., 0., 0.], dtype=float32), (300,))"
      ]
     },
     "execution_count": 32,
     "metadata": {},
     "output_type": "execute_result"
    }
   ],
   "source": [
    "biases, biases.shape"
   ]
  },
  {
   "cell_type": "markdown",
   "metadata": {},
   "source": [
    "### Compiling the Model\n",
    "After a model is created, you must call its compile() method to specify the loss function and the optimizer to use. Optionally, you can specify a list of extra metrics to compute during training and evaluation:"
   ]
  },
  {
   "cell_type": "code",
   "execution_count": 33,
   "metadata": {},
   "outputs": [],
   "source": [
    "model.compile(loss=\"sparse_categorical_crossentropy\", optimizer=\"sgd\", metrics=[\"accuracy\"])"
   ]
  },
  {
   "cell_type": "markdown",
   "metadata": {},
   "source": [
    "### Training and evaluating the model"
   ]
  },
  {
   "cell_type": "code",
   "execution_count": 34,
   "metadata": {},
   "outputs": [
    {
     "name": "stdout",
     "output_type": "stream",
     "text": [
      "Epoch 1/30\n",
      "1719/1719 [==============================] - 2s 1ms/step - loss: 0.7300 - accuracy: 0.7614 - val_loss: 0.5080 - val_accuracy: 0.8298\n",
      "Epoch 2/30\n",
      "1719/1719 [==============================] - 2s 1ms/step - loss: 0.4899 - accuracy: 0.8307 - val_loss: 0.4550 - val_accuracy: 0.8446\n",
      "Epoch 3/30\n",
      "1719/1719 [==============================] - 2s 1ms/step - loss: 0.4436 - accuracy: 0.8452 - val_loss: 0.4367 - val_accuracy: 0.8446\n",
      "Epoch 4/30\n",
      "1719/1719 [==============================] - 2s 1ms/step - loss: 0.4169 - accuracy: 0.8535 - val_loss: 0.3998 - val_accuracy: 0.8634\n",
      "Epoch 5/30\n",
      "1719/1719 [==============================] - 2s 1ms/step - loss: 0.3971 - accuracy: 0.8604 - val_loss: 0.3808 - val_accuracy: 0.8700\n",
      "Epoch 6/30\n",
      "1719/1719 [==============================] - 2s 1ms/step - loss: 0.3810 - accuracy: 0.8658 - val_loss: 0.3679 - val_accuracy: 0.8734\n",
      "Epoch 7/30\n",
      "1719/1719 [==============================] - 2s 1ms/step - loss: 0.3667 - accuracy: 0.8717 - val_loss: 0.3581 - val_accuracy: 0.8740\n",
      "Epoch 8/30\n",
      "1719/1719 [==============================] - 2s 1ms/step - loss: 0.3555 - accuracy: 0.8732 - val_loss: 0.3683 - val_accuracy: 0.8726\n",
      "Epoch 9/30\n",
      "1719/1719 [==============================] - 2s 1ms/step - loss: 0.3446 - accuracy: 0.8779 - val_loss: 0.3486 - val_accuracy: 0.8714\n",
      "Epoch 10/30\n",
      "1719/1719 [==============================] - 2s 1ms/step - loss: 0.3356 - accuracy: 0.8810 - val_loss: 0.3369 - val_accuracy: 0.8784\n",
      "Epoch 11/30\n",
      "1719/1719 [==============================] - 2s 1ms/step - loss: 0.3278 - accuracy: 0.8824 - val_loss: 0.3315 - val_accuracy: 0.8820\n",
      "Epoch 12/30\n",
      "1719/1719 [==============================] - 2s 1ms/step - loss: 0.3194 - accuracy: 0.8856 - val_loss: 0.3316 - val_accuracy: 0.8794\n",
      "Epoch 13/30\n",
      "1719/1719 [==============================] - 2s 1ms/step - loss: 0.3124 - accuracy: 0.8888 - val_loss: 0.3381 - val_accuracy: 0.8800\n",
      "Epoch 14/30\n",
      "1719/1719 [==============================] - 2s 1ms/step - loss: 0.3066 - accuracy: 0.8898 - val_loss: 0.3383 - val_accuracy: 0.8772\n",
      "Epoch 15/30\n",
      "1719/1719 [==============================] - 2s 1ms/step - loss: 0.2997 - accuracy: 0.8927 - val_loss: 0.3234 - val_accuracy: 0.8816\n",
      "Epoch 16/30\n",
      "1719/1719 [==============================] - 2s 1ms/step - loss: 0.2936 - accuracy: 0.8944 - val_loss: 0.3109 - val_accuracy: 0.8882\n",
      "Epoch 17/30\n",
      "1719/1719 [==============================] - 2s 1ms/step - loss: 0.2881 - accuracy: 0.8958 - val_loss: 0.3207 - val_accuracy: 0.8840\n",
      "Epoch 18/30\n",
      "1719/1719 [==============================] - 3s 1ms/step - loss: 0.2830 - accuracy: 0.8984 - val_loss: 0.3168 - val_accuracy: 0.8836\n",
      "Epoch 19/30\n",
      "1719/1719 [==============================] - 2s 1ms/step - loss: 0.2784 - accuracy: 0.9000 - val_loss: 0.3092 - val_accuracy: 0.8906\n",
      "Epoch 20/30\n",
      "1719/1719 [==============================] - 2s 1ms/step - loss: 0.2729 - accuracy: 0.9023 - val_loss: 0.3248 - val_accuracy: 0.8806\n",
      "Epoch 21/30\n",
      "1719/1719 [==============================] - 2s 1ms/step - loss: 0.2690 - accuracy: 0.9032 - val_loss: 0.3293 - val_accuracy: 0.8788\n",
      "Epoch 22/30\n",
      "1719/1719 [==============================] - 2s 1ms/step - loss: 0.2643 - accuracy: 0.9043 - val_loss: 0.3039 - val_accuracy: 0.8902\n",
      "Epoch 23/30\n",
      "1719/1719 [==============================] - 3s 2ms/step - loss: 0.2594 - accuracy: 0.9060 - val_loss: 0.3066 - val_accuracy: 0.8860\n",
      "Epoch 24/30\n",
      "1719/1719 [==============================] - 2s 1ms/step - loss: 0.2557 - accuracy: 0.9077 - val_loss: 0.3201 - val_accuracy: 0.8814\n",
      "Epoch 25/30\n",
      "1719/1719 [==============================] - 2s 1ms/step - loss: 0.2508 - accuracy: 0.9104 - val_loss: 0.3086 - val_accuracy: 0.8886\n",
      "Epoch 26/30\n",
      "1719/1719 [==============================] - 3s 1ms/step - loss: 0.2466 - accuracy: 0.9112 - val_loss: 0.3079 - val_accuracy: 0.8902\n",
      "Epoch 27/30\n",
      "1719/1719 [==============================] - 2s 1ms/step - loss: 0.2442 - accuracy: 0.9119 - val_loss: 0.3072 - val_accuracy: 0.8856\n",
      "Epoch 28/30\n",
      "1719/1719 [==============================] - 2s 1ms/step - loss: 0.2399 - accuracy: 0.9139 - val_loss: 0.2986 - val_accuracy: 0.8916\n",
      "Epoch 29/30\n",
      "1719/1719 [==============================] - 2s 1ms/step - loss: 0.2358 - accuracy: 0.9150 - val_loss: 0.2933 - val_accuracy: 0.8902\n",
      "Epoch 30/30\n",
      "1719/1719 [==============================] - 2s 1ms/step - loss: 0.2318 - accuracy: 0.9161 - val_loss: 0.3082 - val_accuracy: 0.8892\n"
     ]
    }
   ],
   "source": [
    "history = model.fit(X_train, y_train, epochs=30, validation_data=(X_valid, y_valid))"
   ]
  },
  {
   "cell_type": "markdown",
   "metadata": {},
   "source": [
    "The fit() method returns a History object containing the training parameters (history.params), the list of epochs it went through (history.epoch), and\n",
    "most importantly a dictionary (history.history) containing the loss and extra metrics it measured at the end of each epoch on the training set and on the validation set (if any)."
   ]
  },
  {
   "cell_type": "code",
   "execution_count": 40,
   "metadata": {},
   "outputs": [
    {
     "data": {
      "image/png": "[encoded data removed]",
      "text/plain": [
       "<Figure size 1080x720 with 1 Axes>"
      ]
     },
     "metadata": {
      "needs_background": "light"
     },
     "output_type": "display_data"
    }
   ],
   "source": [
    "import pandas as pd\n",
    "import matplotlib.pyplot as plt\n",
    "%matplotlib inline\n",
    "\n",
    "pd.DataFrame(history.history).plot(figsize=(15, 10)) \n",
    "plt.grid(True)\n",
    "plt.gca().set_ylim(0, 1) # set the vertical range to [0-1] \n",
    "plt.show()"
   ]
  },
  {
   "cell_type": "markdown",
   "metadata": {},
   "source": [
    "Learning curves: the mean training loss and accuracy measured over each epoch, + mean validation loss and accuracy measured at the end of each epoch\n",
    "\n",
    "Good! The validation curves are close to the training curves, which means that there is not too much overfitting\n"
   ]
  },
  {
   "cell_type": "markdown",
   "metadata": {},
   "source": [
    "#### Once you are satisfied with your model’s validation accuracy, you should evaluate it on the test set to estimate the generalization error before  deploying the model to production. "
   ]
  },
  {
   "cell_type": "code",
   "execution_count": 41,
   "metadata": {},
   "outputs": [
    {
     "name": "stdout",
     "output_type": "stream",
     "text": [
      "313/313 [==============================] - 0s 904us/step - loss: 79.3120 - accuracy: 0.8201\n"
     ]
    },
    {
     "data": {
      "text/plain": [
       "[79.31198120117188, 0.8201000094413757]"
      ]
     },
     "execution_count": 41,
     "metadata": {},
     "output_type": "execute_result"
    }
   ],
   "source": [
    "model.evaluate(X_test, y_test)"
   ]
  },
  {
   "cell_type": "markdown",
   "metadata": {},
   "source": [
    "### Using the model to make predictions"
   ]
  },
  {
   "cell_type": "markdown",
   "metadata": {},
   "source": [
    "Since we don’t have actual new instances, we will just use the first three instances of the test set:"
   ]
  },
  {
   "cell_type": "code",
   "execution_count": 44,
   "metadata": {},
   "outputs": [],
   "source": [
    "X_new = X_test[:3]\n",
    "\n",
    "y_proba = model.predict(X_new)"
   ]
  },
  {
   "cell_type": "markdown",
   "metadata": {},
   "source": [
    "#### As you can see, for each instance the model estimates one probability per class, from class 0 to class 9. For example, for the first image it estimates that the probability of class 9 (ankle boot) is 100%"
   ]
  },
  {
   "cell_type": "code",
   "execution_count": 45,
   "metadata": {},
   "outputs": [
    {
     "data": {
      "text/plain": [
       "array([[0., 0., 0., 0., 0., 0., 0., 0., 0., 1.],\n",
       "       [0., 0., 1., 0., 0., 0., 0., 0., 0., 0.],\n",
       "       [0., 1., 0., 0., 0., 0., 0., 0., 0., 0.]], dtype=float32)"
      ]
     },
     "execution_count": 45,
     "metadata": {},
     "output_type": "execute_result"
    }
   ],
   "source": [
    "y_proba.round(2)"
   ]
  },
  {
   "cell_type": "code",
   "execution_count": 58,
   "metadata": {},
   "outputs": [
    {
     "data": {
      "text/plain": [
       "(3, 28, 28)"
      ]
     },
     "execution_count": 58,
     "metadata": {},
     "output_type": "execute_result"
    }
   ],
   "source": [
    "# X_new has three images\n",
    "X_new.shape"
   ]
  },
  {
   "cell_type": "code",
   "execution_count": 47,
   "metadata": {},
   "outputs": [
    {
     "data": {
      "text/plain": [
       "(3, 10)"
      ]
     },
     "execution_count": 47,
     "metadata": {},
     "output_type": "execute_result"
    }
   ],
   "source": [
    "y_proba.shape"
   ]
  },
  {
   "cell_type": "markdown",
   "metadata": {},
   "source": [
    "If we only care about the class with the highest estimated probability (even if that probability is quite low), then we can use the predict_classes() method instead:"
   ]
  },
  {
   "cell_type": "code",
   "execution_count": 59,
   "metadata": {},
   "outputs": [
    {
     "name": "stdout",
     "output_type": "stream",
     "text": [
      "WARNING:tensorflow:From <ipython-input-59-81ace37e545f>:1: Sequential.predict_classes (from tensorflow.python.keras.engine.sequential) is deprecated and will be removed after 2021-01-01.\n",
      "Instructions for updating:\n",
      "Please use instead:* `np.argmax(model.predict(x), axis=-1)`,   if your model does multi-class classification   (e.g. if it uses a `softmax` last-layer activation).* `(model.predict(x) > 0.5).astype(\"int32\")`,   if your model does binary classification   (e.g. if it uses a `sigmoid` last-layer activation).\n"
     ]
    },
    {
     "data": {
      "text/plain": [
       "array([9, 2, 1])"
      ]
     },
     "execution_count": 59,
     "metadata": {},
     "output_type": "execute_result"
    }
   ],
   "source": [
    "y_pred = model.predict_classes(X_new)\n",
    "y_pred"
   ]
  },
  {
   "cell_type": "code",
   "execution_count": 61,
   "metadata": {},
   "outputs": [
    {
     "data": {
      "text/plain": [
       "array(['Ankle boot', 'Pullover', 'Trouser'], dtype='<U11')"
      ]
     },
     "execution_count": 61,
     "metadata": {},
     "output_type": "execute_result"
    }
   ],
   "source": [
    "import numpy as np\n",
    "\n",
    "np.array(class_names)[y_pred]"
   ]
  },
  {
   "cell_type": "markdown",
   "metadata": {},
   "source": [
    "#### Images classified (correctly) :"
   ]
  },
  {
   "cell_type": "code",
   "execution_count": 65,
   "metadata": {},
   "outputs": [
    {
     "data": {
      "image/png": "[encoded data removed]",
      "text/plain": [
       "<Figure size 1080x720 with 3 Axes>"
      ]
     },
     "metadata": {
      "needs_background": "light"
     },
     "output_type": "display_data"
    }
   ],
   "source": [
    "plt.figure(figsize=(15, 10))\n",
    "for index, image in enumerate(X_new):\n",
    "    plt.subplot(1, 3, index + 1)\n",
    "    plt.imshow(image, cmap=\"binary\", interpolation=\"nearest\")\n",
    "    plt.axis('off')\n",
    "    plt.title(class_names[y_test[index]], fontsize=12)\n",
    "plt.subplots_adjust(wspace=0.2, hspace=0.5)\n",
    "plt.show()"
   ]
  },
  {
   "cell_type": "markdown",
   "metadata": {},
   "source": [
    "## Building a Regression MLP Using the Sequential API"
   ]
  },
  {
   "cell_type": "code",
   "execution_count": null,
   "metadata": {},
   "outputs": [],
   "source": []
  },
  {
   "cell_type": "code",
   "execution_count": null,
   "metadata": {},
   "outputs": [],
   "source": []
  }
 ],
 "metadata": {
  "kernelspec": {
   "display_name": "Python 3",
   "language": "python",
   "name": "python3"
  },
  "language_info": {
   "codemirror_mode": {
    "name": "ipython",
    "version": 3
   },
   "file_extension": ".py",
   "mimetype": "text/x-python",
   "name": "python",
   "nbconvert_exporter": "python",
   "pygments_lexer": "ipython3",
   "version": "3.7.4"
  }
 },
 "nbformat": 4,
 "nbformat_minor": 2
}
