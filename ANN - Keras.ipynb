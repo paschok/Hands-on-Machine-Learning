{
 "cells": [
  {
   "cell_type": "code",
   "execution_count": 1,
   "metadata": {},
   "outputs": [],
   "source": [
    "import tensorflow as tf\n",
    "from tensorflow import keras"
   ]
  },
  {
   "cell_type": "code",
   "execution_count": 2,
   "metadata": {},
   "outputs": [
    {
     "data": {
      "text/plain": [
       "'2.3.1'"
      ]
     },
     "execution_count": 2,
     "metadata": {},
     "output_type": "execute_result"
    }
   ],
   "source": [
    "tf.__version__"
   ]
  },
  {
   "cell_type": "code",
   "execution_count": 3,
   "metadata": {},
   "outputs": [
    {
     "data": {
      "text/plain": [
       "'2.4.0'"
      ]
     },
     "execution_count": 3,
     "metadata": {},
     "output_type": "execute_result"
    }
   ],
   "source": [
    "keras.__version__"
   ]
  },
  {
   "cell_type": "markdown",
   "metadata": {},
   "source": [
    "#### Fashion MNIST, which is a drop-in replacement of MNIST (the one with digits). It has the exact same format as MNIST (70,000 grayscale images of 28 × 28 pixels each, with 10 classes), but the images represent fashion items rather than handwritten digits, so each class is more diverse, and the problem turns out to be significantly more challenging than MNIST. For example, a simple linear model reaches about 92% accuracy on MNIST, but only about 83% on Fashion MNIST.\n",
    "\n",
    "Keras provides some utility functions to fetch and load common datasets, including MNIST, Fashion MNIST, and the California housing dataset that used in this repo already"
   ]
  },
  {
   "cell_type": "code",
   "execution_count": 4,
   "metadata": {},
   "outputs": [],
   "source": [
    "fashion_mnist = keras.datasets.fashion_mnist\n",
    "\n",
    "(X_train_full, y_train_full), (X_test, y_test) = fashion_mnist.load_data()"
   ]
  },
  {
   "cell_type": "markdown",
   "metadata": {},
   "source": [
    "When loading MNIST or Fashion MNIST using Keras rather than Scikit-Learn, one important difference is that every image is represented as a 28 × 28 array rather than a 1D array of size 784. Moreover, the pixel intensities are represented as integers (from 0 to 255) rather than floats (from 0.0 to 255.0). Let’s take a look at the shape and data type of the training set:"
   ]
  },
  {
   "cell_type": "code",
   "execution_count": 5,
   "metadata": {},
   "outputs": [
    {
     "data": {
      "text/plain": [
       "((60000, 28, 28), 3, dtype('uint8'))"
      ]
     },
     "execution_count": 5,
     "metadata": {},
     "output_type": "execute_result"
    }
   ],
   "source": [
    "X_train_full.shape, X_train_full.ndim, X_train_full.dtype"
   ]
  },
  {
   "cell_type": "code",
   "execution_count": 6,
   "metadata": {
    "scrolled": true
   },
   "outputs": [
    {
     "data": {
      "text/plain": [
       "array([[  0,   0,   0,   0,   0,   0,   0,   0,   0,   0,   0,   0,   0,\n",
       "          0,   0,   0,   0,   0,   0,   0,   0,   0,   0,   0,   0,   0,\n",
       "          0,   0],\n",
       "       [  0,   0,   0,   0,   0,   0,   0,   0,   2,   0,   0, 122, 151,\n",
       "        142, 135, 123, 102,   0,   0,   1,   0,   0,   0,   0,   0,   0,\n",
       "          0,   0],\n",
       "       [  0,   1,   1,   1,   1,   1,   1,   0,   3,   0, 139, 255, 222,\n",
       "        206, 204, 197, 237, 149,   0,   6,   1,   1,   0,   0,   1,   2,\n",
       "          0,   0],\n",
       "       [  1,   0,   0,   1,   3,   0,   0,   2,   2,   0, 183, 191, 221,\n",
       "        209, 210, 194, 200, 158,   0,   2,   5,   2,   0,   0,   0,   1,\n",
       "          0,   0],\n",
       "       [  0,   1,   0,   0,   2,   0,   3,   0,   0,  95, 244, 191, 162,\n",
       "        179, 145, 146, 149, 191,  49,   0,   1,   1,   1,   0,   1,   0,\n",
       "          0,   0],\n",
       "       [  1,   1,   0,   0,   1,   1,   0,   0,  52, 230, 232, 238, 203,\n",
       "        181, 197, 199, 180, 194, 184,  68,  19,   0,   0,   2,   1,   1,\n",
       "          0,   0],\n",
       "       [  1,   2,   0,   0,   4,   0,  71, 199, 215, 184, 179, 194, 216,\n",
       "        221, 164, 181, 157, 143, 166, 191, 212, 119,   0,   1,   2,   2,\n",
       "          0,   0],\n",
       "       [  1,   1,   0,   2,   0,  17, 237, 213, 150, 186, 192, 185, 195,\n",
       "        173, 151, 167, 166, 169, 169, 157, 167, 216,  59,   0,   3,   0,\n",
       "          0,   0],\n",
       "       [  0,   0,   0,   2,   0, 163, 225, 217, 171, 181, 190, 190, 197,\n",
       "        169, 165, 191, 171, 167, 180, 166, 162, 183, 160,   0,   2,   1,\n",
       "          1,   0],\n",
       "       [  1,   0,   4,   0,  22, 238, 220, 226, 188, 202, 191, 190, 198,\n",
       "        172, 165, 213, 171, 173, 182, 189, 171, 181, 199,  27,   0,   3,\n",
       "          1,   0],\n",
       "       [  0,   0,   3,   0, 113, 232, 225, 230, 192, 198, 192, 195, 199,\n",
       "        172, 162, 235, 177, 177, 183, 193, 179, 188, 207, 116,   0,   3,\n",
       "          0,   0],\n",
       "       [  1,   2,   0,   0, 198, 218, 233, 226, 205, 206, 193, 196, 198,\n",
       "        173, 170, 227, 165, 169, 166, 190, 182, 196, 198, 183,   0,   1,\n",
       "          1,   0],\n",
       "       [  0,   2,   0,  23, 226, 202, 220, 233, 212, 218, 200, 198, 200,\n",
       "        168, 170, 225, 167, 172, 167, 196, 179, 195, 176, 198,  41,   0,\n",
       "          2,   0],\n",
       "       [  0,   6,   0, 116, 223, 192, 218, 230, 212, 206, 202, 199, 205,\n",
       "        172, 164, 219, 168, 179, 156, 176, 188, 194, 175, 199,  94,   0,\n",
       "          7,   0],\n",
       "       [  0,   0,   0, 188, 209, 191, 203, 243, 238, 200, 207, 204, 210,\n",
       "        180, 164, 193, 170, 180, 169, 167, 195, 194, 189, 196, 140,   0,\n",
       "          1,   0],\n",
       "       [  8,   0,   8, 234, 198, 195, 193, 226, 244, 202, 207, 198, 204,\n",
       "        189, 182, 193, 184, 182, 188, 182, 159, 206, 186, 191, 196,   0,\n",
       "          0,   1],\n",
       "       [  3,   0,  76, 221, 198, 215, 183,  84, 247, 198, 207, 200, 204,\n",
       "        189, 184, 193, 177, 193, 179, 197,  35, 207, 190, 183, 213,  44,\n",
       "          0,   2],\n",
       "       [  1,   0, 166, 222, 199, 225, 126,  61, 253, 206, 205, 207, 206,\n",
       "        186, 180, 200, 172, 194, 177, 213,   0, 124, 218, 179, 197, 109,\n",
       "          0,   0],\n",
       "       [  0,   0, 221, 215, 199, 229,   2,  88, 251, 223, 202, 205, 211,\n",
       "        189, 186, 205, 173, 188, 193, 207,   0,  18, 229, 183, 196, 169,\n",
       "          0,   0],\n",
       "       [  0,  27, 221, 203, 208, 207,   0,  56, 247, 225, 211, 213, 220,\n",
       "        195, 199, 203, 180, 176, 188, 206,  14,   0, 225, 196, 185, 210,\n",
       "         18,   0],\n",
       "       [  0,  71, 229, 196, 225,  99,   0,  42, 248, 223, 215, 217, 220,\n",
       "        193, 207, 207, 192, 182, 170, 211,  49,   0, 176, 222, 194, 195,\n",
       "         69,   0],\n",
       "       [  0, 151, 225, 200, 221,   4,   0,  34, 253, 222, 210, 212, 215,\n",
       "        181, 209, 209, 193, 195, 175, 211,  70,   0,  59, 231, 216, 210,\n",
       "        125,   0],\n",
       "       [  0, 219, 213, 211, 160,   0,   0,  17, 253, 223, 208, 209, 212,\n",
       "        186, 198, 204, 189, 185, 178, 210,  77,   0,   0, 238, 213, 212,\n",
       "        188,   0],\n",
       "       [  5, 210, 208, 210,  64,   0,   0,   0, 250, 227, 211, 211, 213,\n",
       "        195, 191, 205, 202, 194, 179, 210,  85,   0,   0, 176, 227, 202,\n",
       "        213,  15],\n",
       "       [ 70, 223, 203, 192,   0,   1,   0,   0, 247, 225, 200, 208, 209,\n",
       "        191, 191, 191, 182, 188, 178, 192,  89,   0,   0, 102, 234, 195,\n",
       "        199,  92],\n",
       "       [106, 232, 226, 139,   0,   2,   0,   0, 255, 240, 234, 233, 232,\n",
       "        232, 231, 230, 226, 224, 218, 231,  97,   0,   0,  12, 204, 224,\n",
       "        227,  84],\n",
       "       [  0,  58, 126,  14,   0,   3,   0,   0,  71, 135, 125, 127, 121,\n",
       "        116, 110, 104, 102,  99, 102,  79,   7,   0,   0,   0,  32,  73,\n",
       "         30,   0],\n",
       "       [  0,   0,   0,   0,   0,   0,   0,   0,   0,   0,   0,   0,   0,\n",
       "          0,   0,   0,   0,   0,   0,   0,   0,   0,   0,   0,   0,   0,\n",
       "          0,   0]], dtype=uint8)"
      ]
     },
     "execution_count": 6,
     "metadata": {},
     "output_type": "execute_result"
    }
   ],
   "source": [
    "X_train_full[6578]"
   ]
  },
  {
   "cell_type": "markdown",
   "metadata": {},
   "source": [
    "The dataset is already split into a training set and a test set, but there is no validation set, so we’ll create one now. Additionally, since we are going to train the neural network using Gradient Descent, we must scale the input features. For simplicity, we’ll scale the pixel intensities down to the 0–1 range by dividing them by 255.0 (this also converts them to floats):"
   ]
  },
  {
   "cell_type": "code",
   "execution_count": 7,
   "metadata": {},
   "outputs": [],
   "source": [
    "X_valid, X_train = X_train_full[:5000] / 255.0, X_train_full[5000:] / 255.0 \n",
    "y_valid, y_train = y_train_full[:5000], y_train_full[5000:]"
   ]
  },
  {
   "cell_type": "code",
   "execution_count": 8,
   "metadata": {},
   "outputs": [
    {
     "data": {
      "text/plain": [
       "((55000, 28, 28), (5000, 28, 28))"
      ]
     },
     "execution_count": 8,
     "metadata": {},
     "output_type": "execute_result"
    }
   ],
   "source": [
    "X_train.shape, X_valid.shape"
   ]
  },
  {
   "cell_type": "code",
   "execution_count": 9,
   "metadata": {},
   "outputs": [
    {
     "data": {
      "text/plain": [
       "array([[0.        , 0.        , 0.        , 0.        , 0.        ,\n",
       "        0.        , 0.        , 0.        , 0.        , 0.        ,\n",
       "        0.        , 0.        , 0.        , 0.        , 0.        ,\n",
       "        0.        , 0.        , 0.        , 0.        , 0.        ,\n",
       "        0.        , 0.        , 0.        , 0.        , 0.        ,\n",
       "        0.        , 0.        , 0.        ],\n",
       "       [0.        , 0.        , 0.        , 0.        , 0.        ,\n",
       "        0.        , 0.        , 0.        , 0.00784314, 0.        ,\n",
       "        0.        , 0.47843137, 0.59215686, 0.55686275, 0.52941176,\n",
       "        0.48235294, 0.4       , 0.        , 0.        , 0.00392157,\n",
       "        0.        , 0.        , 0.        , 0.        , 0.        ,\n",
       "        0.        , 0.        , 0.        ],\n",
       "       [0.        , 0.00392157, 0.00392157, 0.00392157, 0.00392157,\n",
       "        0.00392157, 0.00392157, 0.        , 0.01176471, 0.        ,\n",
       "        0.54509804, 1.        , 0.87058824, 0.80784314, 0.8       ,\n",
       "        0.77254902, 0.92941176, 0.58431373, 0.        , 0.02352941,\n",
       "        0.00392157, 0.00392157, 0.        , 0.        , 0.00392157,\n",
       "        0.00784314, 0.        , 0.        ],\n",
       "       [0.00392157, 0.        , 0.        , 0.00392157, 0.01176471,\n",
       "        0.        , 0.        , 0.00784314, 0.00784314, 0.        ,\n",
       "        0.71764706, 0.74901961, 0.86666667, 0.81960784, 0.82352941,\n",
       "        0.76078431, 0.78431373, 0.61960784, 0.        , 0.00784314,\n",
       "        0.01960784, 0.00784314, 0.        , 0.        , 0.        ,\n",
       "        0.00392157, 0.        , 0.        ],\n",
       "       [0.        , 0.00392157, 0.        , 0.        , 0.00784314,\n",
       "        0.        , 0.01176471, 0.        , 0.        , 0.37254902,\n",
       "        0.95686275, 0.74901961, 0.63529412, 0.70196078, 0.56862745,\n",
       "        0.57254902, 0.58431373, 0.74901961, 0.19215686, 0.        ,\n",
       "        0.00392157, 0.00392157, 0.00392157, 0.        , 0.00392157,\n",
       "        0.        , 0.        , 0.        ],\n",
       "       [0.00392157, 0.00392157, 0.        , 0.        , 0.00392157,\n",
       "        0.00392157, 0.        , 0.        , 0.20392157, 0.90196078,\n",
       "        0.90980392, 0.93333333, 0.79607843, 0.70980392, 0.77254902,\n",
       "        0.78039216, 0.70588235, 0.76078431, 0.72156863, 0.26666667,\n",
       "        0.0745098 , 0.        , 0.        , 0.00784314, 0.00392157,\n",
       "        0.00392157, 0.        , 0.        ],\n",
       "       [0.00392157, 0.00784314, 0.        , 0.        , 0.01568627,\n",
       "        0.        , 0.27843137, 0.78039216, 0.84313725, 0.72156863,\n",
       "        0.70196078, 0.76078431, 0.84705882, 0.86666667, 0.64313725,\n",
       "        0.70980392, 0.61568627, 0.56078431, 0.65098039, 0.74901961,\n",
       "        0.83137255, 0.46666667, 0.        , 0.00392157, 0.00784314,\n",
       "        0.00784314, 0.        , 0.        ],\n",
       "       [0.00392157, 0.00392157, 0.        , 0.00784314, 0.        ,\n",
       "        0.06666667, 0.92941176, 0.83529412, 0.58823529, 0.72941176,\n",
       "        0.75294118, 0.7254902 , 0.76470588, 0.67843137, 0.59215686,\n",
       "        0.65490196, 0.65098039, 0.6627451 , 0.6627451 , 0.61568627,\n",
       "        0.65490196, 0.84705882, 0.23137255, 0.        , 0.01176471,\n",
       "        0.        , 0.        , 0.        ],\n",
       "       [0.        , 0.        , 0.        , 0.00784314, 0.        ,\n",
       "        0.63921569, 0.88235294, 0.85098039, 0.67058824, 0.70980392,\n",
       "        0.74509804, 0.74509804, 0.77254902, 0.6627451 , 0.64705882,\n",
       "        0.74901961, 0.67058824, 0.65490196, 0.70588235, 0.65098039,\n",
       "        0.63529412, 0.71764706, 0.62745098, 0.        , 0.00784314,\n",
       "        0.00392157, 0.00392157, 0.        ],\n",
       "       [0.00392157, 0.        , 0.01568627, 0.        , 0.08627451,\n",
       "        0.93333333, 0.8627451 , 0.88627451, 0.7372549 , 0.79215686,\n",
       "        0.74901961, 0.74509804, 0.77647059, 0.6745098 , 0.64705882,\n",
       "        0.83529412, 0.67058824, 0.67843137, 0.71372549, 0.74117647,\n",
       "        0.67058824, 0.70980392, 0.78039216, 0.10588235, 0.        ,\n",
       "        0.01176471, 0.00392157, 0.        ],\n",
       "       [0.        , 0.        , 0.01176471, 0.        , 0.44313725,\n",
       "        0.90980392, 0.88235294, 0.90196078, 0.75294118, 0.77647059,\n",
       "        0.75294118, 0.76470588, 0.78039216, 0.6745098 , 0.63529412,\n",
       "        0.92156863, 0.69411765, 0.69411765, 0.71764706, 0.75686275,\n",
       "        0.70196078, 0.7372549 , 0.81176471, 0.45490196, 0.        ,\n",
       "        0.01176471, 0.        , 0.        ],\n",
       "       [0.00392157, 0.00784314, 0.        , 0.        , 0.77647059,\n",
       "        0.85490196, 0.91372549, 0.88627451, 0.80392157, 0.80784314,\n",
       "        0.75686275, 0.76862745, 0.77647059, 0.67843137, 0.66666667,\n",
       "        0.89019608, 0.64705882, 0.6627451 , 0.65098039, 0.74509804,\n",
       "        0.71372549, 0.76862745, 0.77647059, 0.71764706, 0.        ,\n",
       "        0.00392157, 0.00392157, 0.        ],\n",
       "       [0.        , 0.00784314, 0.        , 0.09019608, 0.88627451,\n",
       "        0.79215686, 0.8627451 , 0.91372549, 0.83137255, 0.85490196,\n",
       "        0.78431373, 0.77647059, 0.78431373, 0.65882353, 0.66666667,\n",
       "        0.88235294, 0.65490196, 0.6745098 , 0.65490196, 0.76862745,\n",
       "        0.70196078, 0.76470588, 0.69019608, 0.77647059, 0.16078431,\n",
       "        0.        , 0.00784314, 0.        ],\n",
       "       [0.        , 0.02352941, 0.        , 0.45490196, 0.8745098 ,\n",
       "        0.75294118, 0.85490196, 0.90196078, 0.83137255, 0.80784314,\n",
       "        0.79215686, 0.78039216, 0.80392157, 0.6745098 , 0.64313725,\n",
       "        0.85882353, 0.65882353, 0.70196078, 0.61176471, 0.69019608,\n",
       "        0.7372549 , 0.76078431, 0.68627451, 0.78039216, 0.36862745,\n",
       "        0.        , 0.02745098, 0.        ],\n",
       "       [0.        , 0.        , 0.        , 0.7372549 , 0.81960784,\n",
       "        0.74901961, 0.79607843, 0.95294118, 0.93333333, 0.78431373,\n",
       "        0.81176471, 0.8       , 0.82352941, 0.70588235, 0.64313725,\n",
       "        0.75686275, 0.66666667, 0.70588235, 0.6627451 , 0.65490196,\n",
       "        0.76470588, 0.76078431, 0.74117647, 0.76862745, 0.54901961,\n",
       "        0.        , 0.00392157, 0.        ],\n",
       "       [0.03137255, 0.        , 0.03137255, 0.91764706, 0.77647059,\n",
       "        0.76470588, 0.75686275, 0.88627451, 0.95686275, 0.79215686,\n",
       "        0.81176471, 0.77647059, 0.8       , 0.74117647, 0.71372549,\n",
       "        0.75686275, 0.72156863, 0.71372549, 0.7372549 , 0.71372549,\n",
       "        0.62352941, 0.80784314, 0.72941176, 0.74901961, 0.76862745,\n",
       "        0.        , 0.        , 0.00392157],\n",
       "       [0.01176471, 0.        , 0.29803922, 0.86666667, 0.77647059,\n",
       "        0.84313725, 0.71764706, 0.32941176, 0.96862745, 0.77647059,\n",
       "        0.81176471, 0.78431373, 0.8       , 0.74117647, 0.72156863,\n",
       "        0.75686275, 0.69411765, 0.75686275, 0.70196078, 0.77254902,\n",
       "        0.1372549 , 0.81176471, 0.74509804, 0.71764706, 0.83529412,\n",
       "        0.17254902, 0.        , 0.00784314],\n",
       "       [0.00392157, 0.        , 0.65098039, 0.87058824, 0.78039216,\n",
       "        0.88235294, 0.49411765, 0.23921569, 0.99215686, 0.80784314,\n",
       "        0.80392157, 0.81176471, 0.80784314, 0.72941176, 0.70588235,\n",
       "        0.78431373, 0.6745098 , 0.76078431, 0.69411765, 0.83529412,\n",
       "        0.        , 0.48627451, 0.85490196, 0.70196078, 0.77254902,\n",
       "        0.42745098, 0.        , 0.        ],\n",
       "       [0.        , 0.        , 0.86666667, 0.84313725, 0.78039216,\n",
       "        0.89803922, 0.00784314, 0.34509804, 0.98431373, 0.8745098 ,\n",
       "        0.79215686, 0.80392157, 0.82745098, 0.74117647, 0.72941176,\n",
       "        0.80392157, 0.67843137, 0.7372549 , 0.75686275, 0.81176471,\n",
       "        0.        , 0.07058824, 0.89803922, 0.71764706, 0.76862745,\n",
       "        0.6627451 , 0.        , 0.        ],\n",
       "       [0.        , 0.10588235, 0.86666667, 0.79607843, 0.81568627,\n",
       "        0.81176471, 0.        , 0.21960784, 0.96862745, 0.88235294,\n",
       "        0.82745098, 0.83529412, 0.8627451 , 0.76470588, 0.78039216,\n",
       "        0.79607843, 0.70588235, 0.69019608, 0.7372549 , 0.80784314,\n",
       "        0.05490196, 0.        , 0.88235294, 0.76862745, 0.7254902 ,\n",
       "        0.82352941, 0.07058824, 0.        ],\n",
       "       [0.        , 0.27843137, 0.89803922, 0.76862745, 0.88235294,\n",
       "        0.38823529, 0.        , 0.16470588, 0.97254902, 0.8745098 ,\n",
       "        0.84313725, 0.85098039, 0.8627451 , 0.75686275, 0.81176471,\n",
       "        0.81176471, 0.75294118, 0.71372549, 0.66666667, 0.82745098,\n",
       "        0.19215686, 0.        , 0.69019608, 0.87058824, 0.76078431,\n",
       "        0.76470588, 0.27058824, 0.        ],\n",
       "       [0.        , 0.59215686, 0.88235294, 0.78431373, 0.86666667,\n",
       "        0.01568627, 0.        , 0.13333333, 0.99215686, 0.87058824,\n",
       "        0.82352941, 0.83137255, 0.84313725, 0.70980392, 0.81960784,\n",
       "        0.81960784, 0.75686275, 0.76470588, 0.68627451, 0.82745098,\n",
       "        0.2745098 , 0.        , 0.23137255, 0.90588235, 0.84705882,\n",
       "        0.82352941, 0.49019608, 0.        ],\n",
       "       [0.        , 0.85882353, 0.83529412, 0.82745098, 0.62745098,\n",
       "        0.        , 0.        , 0.06666667, 0.99215686, 0.8745098 ,\n",
       "        0.81568627, 0.81960784, 0.83137255, 0.72941176, 0.77647059,\n",
       "        0.8       , 0.74117647, 0.7254902 , 0.69803922, 0.82352941,\n",
       "        0.30196078, 0.        , 0.        , 0.93333333, 0.83529412,\n",
       "        0.83137255, 0.7372549 , 0.        ],\n",
       "       [0.01960784, 0.82352941, 0.81568627, 0.82352941, 0.25098039,\n",
       "        0.        , 0.        , 0.        , 0.98039216, 0.89019608,\n",
       "        0.82745098, 0.82745098, 0.83529412, 0.76470588, 0.74901961,\n",
       "        0.80392157, 0.79215686, 0.76078431, 0.70196078, 0.82352941,\n",
       "        0.33333333, 0.        , 0.        , 0.69019608, 0.89019608,\n",
       "        0.79215686, 0.83529412, 0.05882353],\n",
       "       [0.2745098 , 0.8745098 , 0.79607843, 0.75294118, 0.        ,\n",
       "        0.00392157, 0.        , 0.        , 0.96862745, 0.88235294,\n",
       "        0.78431373, 0.81568627, 0.81960784, 0.74901961, 0.74901961,\n",
       "        0.74901961, 0.71372549, 0.7372549 , 0.69803922, 0.75294118,\n",
       "        0.34901961, 0.        , 0.        , 0.4       , 0.91764706,\n",
       "        0.76470588, 0.78039216, 0.36078431],\n",
       "       [0.41568627, 0.90980392, 0.88627451, 0.54509804, 0.        ,\n",
       "        0.00784314, 0.        , 0.        , 1.        , 0.94117647,\n",
       "        0.91764706, 0.91372549, 0.90980392, 0.90980392, 0.90588235,\n",
       "        0.90196078, 0.88627451, 0.87843137, 0.85490196, 0.90588235,\n",
       "        0.38039216, 0.        , 0.        , 0.04705882, 0.8       ,\n",
       "        0.87843137, 0.89019608, 0.32941176],\n",
       "       [0.        , 0.22745098, 0.49411765, 0.05490196, 0.        ,\n",
       "        0.01176471, 0.        , 0.        , 0.27843137, 0.52941176,\n",
       "        0.49019608, 0.49803922, 0.4745098 , 0.45490196, 0.43137255,\n",
       "        0.40784314, 0.4       , 0.38823529, 0.4       , 0.30980392,\n",
       "        0.02745098, 0.        , 0.        , 0.        , 0.1254902 ,\n",
       "        0.28627451, 0.11764706, 0.        ],\n",
       "       [0.        , 0.        , 0.        , 0.        , 0.        ,\n",
       "        0.        , 0.        , 0.        , 0.        , 0.        ,\n",
       "        0.        , 0.        , 0.        , 0.        , 0.        ,\n",
       "        0.        , 0.        , 0.        , 0.        , 0.        ,\n",
       "        0.        , 0.        , 0.        , 0.        , 0.        ,\n",
       "        0.        , 0.        , 0.        ]])"
      ]
     },
     "execution_count": 9,
     "metadata": {},
     "output_type": "execute_result"
    }
   ],
   "source": [
    "X_train[1578]"
   ]
  },
  {
   "cell_type": "code",
   "execution_count": 10,
   "metadata": {},
   "outputs": [
    {
     "data": {
      "text/plain": [
       "4"
      ]
     },
     "execution_count": 10,
     "metadata": {},
     "output_type": "execute_result"
    }
   ],
   "source": [
    "y_train[1578]"
   ]
  },
  {
   "cell_type": "markdown",
   "metadata": {},
   "source": [
    "For Fashion MNIST, however, we need the list of class names to know what we are dealing with:"
   ]
  },
  {
   "cell_type": "code",
   "execution_count": 11,
   "metadata": {},
   "outputs": [],
   "source": [
    "class_names = [\"T-shirt/top\", \"Trouser\", \"Pullover\", \"Dress\", \"Coat\", \"Sandal\", \"Shirt\", \n",
    "               \"Sneaker\", \"Bag\", \"Ankle boot\"]"
   ]
  },
  {
   "cell_type": "markdown",
   "metadata": {},
   "source": [
    "For example, the first image in the training set represents a coat:"
   ]
  },
  {
   "cell_type": "code",
   "execution_count": 12,
   "metadata": {},
   "outputs": [
    {
     "data": {
      "text/plain": [
       "'Coat'"
      ]
     },
     "execution_count": 12,
     "metadata": {},
     "output_type": "execute_result"
    }
   ],
   "source": [
    "class_names[y_train[0]]"
   ]
  },
  {
   "cell_type": "markdown",
   "metadata": {},
   "source": [
    "## Creating the model using the Sequential API\n",
    "Now let’s build the neural network! Here is a classification MLP with two hidden layers:"
   ]
  },
  {
   "cell_type": "code",
   "execution_count": 13,
   "metadata": {},
   "outputs": [],
   "source": [
    "model = keras.models.Sequential() \n",
    "model.add(keras.layers.Flatten(input_shape=[28, 28])) \n",
    "model.add(keras.layers.Dense(300, activation=\"relu\")) \n",
    "model.add(keras.layers.Dense(100, activation=\"relu\")) \n",
    "model.add(keras.layers.Dense(10, activation=\"softmax\"))"
   ]
  },
  {
   "cell_type": "markdown",
   "metadata": {},
   "source": [
    "Instead of adding the layers one by one, we can pass a list of layers when creating the Sequential model:\n",
    "<code>\n",
    "model = keras.models.Sequential([ \n",
    "    keras.layers.Flatten(input_shape=[28, 28]), \n",
    "    keras.layers.Dense(300, activation=\"relu\"), \n",
    "    keras.layers.Dense(100, activation=\"relu\"), \n",
    "    keras.layers.Dense(10, activation=\"softmax\")\n",
    "])\n",
    "</code>"
   ]
  },
  {
   "cell_type": "code",
   "execution_count": 14,
   "metadata": {},
   "outputs": [
    {
     "name": "stdout",
     "output_type": "stream",
     "text": [
      "Model: \"sequential\"\n",
      "_________________________________________________________________\n",
      "Layer (type)                 Output Shape              Param #   \n",
      "=================================================================\n",
      "flatten (Flatten)            (None, 784)               0         \n",
      "_________________________________________________________________\n",
      "dense (Dense)                (None, 300)               235500    \n",
      "_________________________________________________________________\n",
      "dense_1 (Dense)              (None, 100)               30100     \n",
      "_________________________________________________________________\n",
      "dense_2 (Dense)              (None, 10)                1010      \n",
      "=================================================================\n",
      "Total params: 266,610\n",
      "Trainable params: 266,610\n",
      "Non-trainable params: 0\n",
      "_________________________________________________________________\n"
     ]
    }
   ],
   "source": [
    "model.summary()"
   ]
  },
  {
   "cell_type": "markdown",
   "metadata": {},
   "source": [
    "use keras.utils.plot_model() to generate an image of the model"
   ]
  },
  {
   "cell_type": "markdown",
   "metadata": {},
   "source": [
    "Getting a model’s list of layers, to fetch a layer by its index, or you can fetch it by name:"
   ]
  },
  {
   "cell_type": "code",
   "execution_count": 15,
   "metadata": {},
   "outputs": [
    {
     "data": {
      "text/plain": [
       "[<tensorflow.python.keras.layers.core.Flatten at 0x7fd189e8b510>,\n",
       " <tensorflow.python.keras.layers.core.Dense at 0x7fd18a0f9750>,\n",
       " <tensorflow.python.keras.layers.core.Dense at 0x7fd191b2f7d0>,\n",
       " <tensorflow.python.keras.layers.core.Dense at 0x7fd166e62a50>]"
      ]
     },
     "execution_count": 15,
     "metadata": {},
     "output_type": "execute_result"
    }
   ],
   "source": [
    "model.layers"
   ]
  },
  {
   "cell_type": "code",
   "execution_count": 16,
   "metadata": {},
   "outputs": [
    {
     "data": {
      "text/plain": [
       "'dense'"
      ]
     },
     "execution_count": 16,
     "metadata": {},
     "output_type": "execute_result"
    }
   ],
   "source": [
    "hidden1 = model.layers[1]\n",
    "hidden1.name"
   ]
  },
  {
   "cell_type": "code",
   "execution_count": 17,
   "metadata": {},
   "outputs": [
    {
     "data": {
      "text/plain": [
       "True"
      ]
     },
     "execution_count": 17,
     "metadata": {},
     "output_type": "execute_result"
    }
   ],
   "source": [
    "model.get_layer('dense') is hidden1"
   ]
  },
  {
   "cell_type": "markdown",
   "metadata": {},
   "source": [
    "#### All the parameters of a layer can be accessed using its get_weights() and set_weights() methods. For a Dense layer, this includes both the connection weights and the bias terms.\n",
    "###  Dense layer initialized the connection weights randomly (which is needed to break symmetry) and the biases were initialized to zeros, which is fine."
   ]
  },
  {
   "cell_type": "code",
   "execution_count": 18,
   "metadata": {},
   "outputs": [
    {
     "data": {
      "text/plain": [
       "(array([[ 0.03740596, -0.07134952, -0.02790457, ..., -0.02713716,\n",
       "          0.06956549, -0.0273296 ],\n",
       "        [-0.03824829,  0.01302815,  0.03276797, ...,  0.04169557,\n",
       "          0.05005378,  0.05799212],\n",
       "        [ 0.04177456, -0.01049006, -0.04636629, ..., -0.00187402,\n",
       "          0.03539606, -0.05769937],\n",
       "        ...,\n",
       "        [ 0.04375726, -0.0272113 ,  0.01437823, ..., -0.02253415,\n",
       "          0.03821181,  0.00518186],\n",
       "        [-0.05283237, -0.02489524, -0.05724452, ..., -0.01835712,\n",
       "          0.02636572, -0.05109601],\n",
       "        [ 0.04878578, -0.02228304,  0.05214272, ..., -0.06615808,\n",
       "          0.02925531, -0.04361004]], dtype=float32), (784, 300))"
      ]
     },
     "execution_count": 18,
     "metadata": {},
     "output_type": "execute_result"
    }
   ],
   "source": [
    "weights, biases = hidden1.get_weights()\n",
    "weights, weights.shape"
   ]
  },
  {
   "cell_type": "code",
   "execution_count": 19,
   "metadata": {},
   "outputs": [
    {
     "data": {
      "text/plain": [
       "(array([0., 0., 0., 0., 0., 0., 0., 0., 0., 0., 0., 0., 0., 0., 0., 0., 0.,\n",
       "        0., 0., 0., 0., 0., 0., 0., 0., 0., 0., 0., 0., 0., 0., 0., 0., 0.,\n",
       "        0., 0., 0., 0., 0., 0., 0., 0., 0., 0., 0., 0., 0., 0., 0., 0., 0.,\n",
       "        0., 0., 0., 0., 0., 0., 0., 0., 0., 0., 0., 0., 0., 0., 0., 0., 0.,\n",
       "        0., 0., 0., 0., 0., 0., 0., 0., 0., 0., 0., 0., 0., 0., 0., 0., 0.,\n",
       "        0., 0., 0., 0., 0., 0., 0., 0., 0., 0., 0., 0., 0., 0., 0., 0., 0.,\n",
       "        0., 0., 0., 0., 0., 0., 0., 0., 0., 0., 0., 0., 0., 0., 0., 0., 0.,\n",
       "        0., 0., 0., 0., 0., 0., 0., 0., 0., 0., 0., 0., 0., 0., 0., 0., 0.,\n",
       "        0., 0., 0., 0., 0., 0., 0., 0., 0., 0., 0., 0., 0., 0., 0., 0., 0.,\n",
       "        0., 0., 0., 0., 0., 0., 0., 0., 0., 0., 0., 0., 0., 0., 0., 0., 0.,\n",
       "        0., 0., 0., 0., 0., 0., 0., 0., 0., 0., 0., 0., 0., 0., 0., 0., 0.,\n",
       "        0., 0., 0., 0., 0., 0., 0., 0., 0., 0., 0., 0., 0., 0., 0., 0., 0.,\n",
       "        0., 0., 0., 0., 0., 0., 0., 0., 0., 0., 0., 0., 0., 0., 0., 0., 0.,\n",
       "        0., 0., 0., 0., 0., 0., 0., 0., 0., 0., 0., 0., 0., 0., 0., 0., 0.,\n",
       "        0., 0., 0., 0., 0., 0., 0., 0., 0., 0., 0., 0., 0., 0., 0., 0., 0.,\n",
       "        0., 0., 0., 0., 0., 0., 0., 0., 0., 0., 0., 0., 0., 0., 0., 0., 0.,\n",
       "        0., 0., 0., 0., 0., 0., 0., 0., 0., 0., 0., 0., 0., 0., 0., 0., 0.,\n",
       "        0., 0., 0., 0., 0., 0., 0., 0., 0., 0., 0.], dtype=float32), (300,))"
      ]
     },
     "execution_count": 19,
     "metadata": {},
     "output_type": "execute_result"
    }
   ],
   "source": [
    "biases, biases.shape"
   ]
  },
  {
   "cell_type": "markdown",
   "metadata": {},
   "source": [
    "### Compiling the Model\n",
    "After a model is created, you must call its compile() method to specify the loss function and the optimizer to use. Optionally, you can specify a list of extra metrics to compute during training and evaluation:"
   ]
  },
  {
   "cell_type": "code",
   "execution_count": 20,
   "metadata": {},
   "outputs": [],
   "source": [
    "model.compile(loss=\"sparse_categorical_crossentropy\", optimizer=\"sgd\", metrics=[\"accuracy\"])"
   ]
  },
  {
   "cell_type": "markdown",
   "metadata": {},
   "source": [
    "### Training and evaluating the model"
   ]
  },
  {
   "cell_type": "code",
   "execution_count": 21,
   "metadata": {},
   "outputs": [
    {
     "name": "stdout",
     "output_type": "stream",
     "text": [
      "Epoch 1/30\n",
      "1719/1719 [==============================] - 2s 1ms/step - loss: 0.7214 - accuracy: 0.7635 - val_loss: 0.5624 - val_accuracy: 0.8042\n",
      "Epoch 2/30\n",
      "1719/1719 [==============================] - 2s 1ms/step - loss: 0.4921 - accuracy: 0.8279 - val_loss: 0.4814 - val_accuracy: 0.8286\n",
      "Epoch 3/30\n",
      "1719/1719 [==============================] - 2s 1ms/step - loss: 0.4453 - accuracy: 0.8440 - val_loss: 0.4270 - val_accuracy: 0.8542\n",
      "Epoch 4/30\n",
      "1719/1719 [==============================] - 2s 1ms/step - loss: 0.4181 - accuracy: 0.8533 - val_loss: 0.3970 - val_accuracy: 0.8690\n",
      "Epoch 5/30\n",
      "1719/1719 [==============================] - 2s 1ms/step - loss: 0.3983 - accuracy: 0.8609 - val_loss: 0.3977 - val_accuracy: 0.8636\n",
      "Epoch 6/30\n",
      "1719/1719 [==============================] - 2s 1ms/step - loss: 0.3811 - accuracy: 0.8660 - val_loss: 0.3885 - val_accuracy: 0.8650\n",
      "Epoch 7/30\n",
      "1719/1719 [==============================] - 2s 1ms/step - loss: 0.3678 - accuracy: 0.8696 - val_loss: 0.3973 - val_accuracy: 0.8590\n",
      "Epoch 8/30\n",
      "1719/1719 [==============================] - 2s 1ms/step - loss: 0.3561 - accuracy: 0.8743 - val_loss: 0.3580 - val_accuracy: 0.8786\n",
      "Epoch 9/30\n",
      "1719/1719 [==============================] - 2s 1ms/step - loss: 0.3453 - accuracy: 0.8771 - val_loss: 0.3533 - val_accuracy: 0.8734\n",
      "Epoch 10/30\n",
      "1719/1719 [==============================] - 2s 1ms/step - loss: 0.3373 - accuracy: 0.8797 - val_loss: 0.3405 - val_accuracy: 0.8800\n",
      "Epoch 11/30\n",
      "1719/1719 [==============================] - 2s 1ms/step - loss: 0.3265 - accuracy: 0.8823 - val_loss: 0.3491 - val_accuracy: 0.8756\n",
      "Epoch 12/30\n",
      "1719/1719 [==============================] - 2s 1ms/step - loss: 0.3197 - accuracy: 0.8853 - val_loss: 0.3525 - val_accuracy: 0.8744\n",
      "Epoch 13/30\n",
      "1719/1719 [==============================] - 2s 1ms/step - loss: 0.3126 - accuracy: 0.8872 - val_loss: 0.3302 - val_accuracy: 0.8860\n",
      "Epoch 14/30\n",
      "1719/1719 [==============================] - 2s 1ms/step - loss: 0.3047 - accuracy: 0.8891 - val_loss: 0.3271 - val_accuracy: 0.8872\n",
      "Epoch 15/30\n",
      "1719/1719 [==============================] - 2s 1ms/step - loss: 0.2981 - accuracy: 0.8930 - val_loss: 0.3324 - val_accuracy: 0.8784\n",
      "Epoch 16/30\n",
      "1719/1719 [==============================] - 2s 1ms/step - loss: 0.2923 - accuracy: 0.8933 - val_loss: 0.3272 - val_accuracy: 0.8850\n",
      "Epoch 17/30\n",
      "1719/1719 [==============================] - 3s 2ms/step - loss: 0.2863 - accuracy: 0.8963 - val_loss: 0.3164 - val_accuracy: 0.8890\n",
      "Epoch 18/30\n",
      "1719/1719 [==============================] - 2s 1ms/step - loss: 0.2801 - accuracy: 0.8992 - val_loss: 0.3380 - val_accuracy: 0.8816\n",
      "Epoch 19/30\n",
      "1719/1719 [==============================] - 3s 2ms/step - loss: 0.2755 - accuracy: 0.9009 - val_loss: 0.3137 - val_accuracy: 0.8904\n",
      "Epoch 20/30\n",
      "1719/1719 [==============================] - 2s 1ms/step - loss: 0.2701 - accuracy: 0.9022 - val_loss: 0.3153 - val_accuracy: 0.8878\n",
      "Epoch 21/30\n",
      "1719/1719 [==============================] - 2s 1ms/step - loss: 0.2646 - accuracy: 0.9038 - val_loss: 0.3111 - val_accuracy: 0.8890\n",
      "Epoch 22/30\n",
      "1719/1719 [==============================] - 2s 1ms/step - loss: 0.2611 - accuracy: 0.9050 - val_loss: 0.3010 - val_accuracy: 0.8936\n",
      "Epoch 23/30\n",
      "1719/1719 [==============================] - 3s 2ms/step - loss: 0.2564 - accuracy: 0.9069 - val_loss: 0.3058 - val_accuracy: 0.8906\n",
      "Epoch 24/30\n",
      "1719/1719 [==============================] - 2s 1ms/step - loss: 0.2522 - accuracy: 0.9085 - val_loss: 0.2998 - val_accuracy: 0.8922\n",
      "Epoch 25/30\n",
      "1719/1719 [==============================] - 3s 1ms/step - loss: 0.2478 - accuracy: 0.9095 - val_loss: 0.2976 - val_accuracy: 0.8906\n",
      "Epoch 26/30\n",
      "1719/1719 [==============================] - 2s 1ms/step - loss: 0.2442 - accuracy: 0.9117 - val_loss: 0.2978 - val_accuracy: 0.8934\n",
      "Epoch 27/30\n",
      "1719/1719 [==============================] - 2s 1ms/step - loss: 0.2402 - accuracy: 0.9129 - val_loss: 0.2982 - val_accuracy: 0.8914\n",
      "Epoch 28/30\n",
      "1719/1719 [==============================] - 2s 1ms/step - loss: 0.2351 - accuracy: 0.9152 - val_loss: 0.3014 - val_accuracy: 0.8930\n",
      "Epoch 29/30\n",
      "1719/1719 [==============================] - 3s 1ms/step - loss: 0.2319 - accuracy: 0.9167 - val_loss: 0.3086 - val_accuracy: 0.8868\n",
      "Epoch 30/30\n",
      "1719/1719 [==============================] - 2s 1ms/step - loss: 0.2286 - accuracy: 0.9180 - val_loss: 0.2979 - val_accuracy: 0.8942\n"
     ]
    }
   ],
   "source": [
    "history = model.fit(X_train, y_train, epochs=30, validation_data=(X_valid, y_valid))"
   ]
  },
  {
   "cell_type": "markdown",
   "metadata": {},
   "source": [
    "The fit() method returns a History object containing the training parameters (history.params), the list of epochs it went through (history.epoch), and\n",
    "most importantly a dictionary (history.history) containing the loss and extra metrics it measured at the end of each epoch on the training set and on the validation set (if any)."
   ]
  },
  {
   "cell_type": "code",
   "execution_count": 22,
   "metadata": {},
   "outputs": [
    {
     "data": {
      "image/png": "[encoded data removed]",
      "text/plain": [
       "<Figure size 1080x720 with 1 Axes>"
      ]
     },
     "metadata": {
      "needs_background": "light"
     },
     "output_type": "display_data"
    }
   ],
   "source": [
    "import pandas as pd\n",
    "import matplotlib.pyplot as plt\n",
    "%matplotlib inline\n",
    "\n",
    "pd.DataFrame(history.history).plot(figsize=(15, 10)) \n",
    "plt.grid(True)\n",
    "plt.gca().set_ylim(0, 1) # set the vertical range to [0-1] \n",
    "plt.show()"
   ]
  },
  {
   "cell_type": "markdown",
   "metadata": {},
   "source": [
    "Learning curves: the mean training loss and accuracy measured over each epoch, + mean validation loss and accuracy measured at the end of each epoch\n",
    "\n",
    "Good! The validation curves are close to the training curves, which means that there is not too much overfitting\n"
   ]
  },
  {
   "cell_type": "markdown",
   "metadata": {},
   "source": [
    "#### Once you are satisfied with your model’s validation accuracy, you should evaluate it on the test set to estimate the generalization error before  deploying the model to production. "
   ]
  },
  {
   "cell_type": "code",
   "execution_count": 23,
   "metadata": {},
   "outputs": [
    {
     "name": "stdout",
     "output_type": "stream",
     "text": [
      "313/313 [==============================] - 0s 1ms/step - loss: 73.1706 - accuracy: 0.8324\n"
     ]
    },
    {
     "data": {
      "text/plain": [
       "[73.17060852050781, 0.8324000239372253]"
      ]
     },
     "execution_count": 23,
     "metadata": {},
     "output_type": "execute_result"
    }
   ],
   "source": [
    "model.evaluate(X_test, y_test)"
   ]
  },
  {
   "cell_type": "markdown",
   "metadata": {},
   "source": [
    "### Using the model to make predictions"
   ]
  },
  {
   "cell_type": "markdown",
   "metadata": {},
   "source": [
    "Since we don’t have actual new instances, we will just use the first three instances of the test set:"
   ]
  },
  {
   "cell_type": "code",
   "execution_count": 24,
   "metadata": {},
   "outputs": [],
   "source": [
    "X_new = X_test[:3]\n",
    "\n",
    "y_proba = model.predict(X_new)"
   ]
  },
  {
   "cell_type": "markdown",
   "metadata": {},
   "source": [
    "#### As you can see, for each instance the model estimates one probability per class, from class 0 to class 9. For example, for the first image it estimates that the probability of class 9 (ankle boot) is 100%"
   ]
  },
  {
   "cell_type": "code",
   "execution_count": 25,
   "metadata": {},
   "outputs": [
    {
     "data": {
      "text/plain": [
       "array([[0., 0., 0., 0., 0., 0., 0., 0., 0., 1.],\n",
       "       [0., 0., 1., 0., 0., 0., 0., 0., 0., 0.],\n",
       "       [0., 1., 0., 0., 0., 0., 0., 0., 0., 0.]], dtype=float32)"
      ]
     },
     "execution_count": 25,
     "metadata": {},
     "output_type": "execute_result"
    }
   ],
   "source": [
    "y_proba.round(2)"
   ]
  },
  {
   "cell_type": "code",
   "execution_count": 26,
   "metadata": {},
   "outputs": [
    {
     "data": {
      "text/plain": [
       "(3, 28, 28)"
      ]
     },
     "execution_count": 26,
     "metadata": {},
     "output_type": "execute_result"
    }
   ],
   "source": [
    "# X_new has three images\n",
    "X_new.shape"
   ]
  },
  {
   "cell_type": "code",
   "execution_count": 27,
   "metadata": {},
   "outputs": [
    {
     "data": {
      "text/plain": [
       "(3, 10)"
      ]
     },
     "execution_count": 27,
     "metadata": {},
     "output_type": "execute_result"
    }
   ],
   "source": [
    "y_proba.shape"
   ]
  },
  {
   "cell_type": "markdown",
   "metadata": {},
   "source": [
    "If we only care about the class with the highest estimated probability (even if that probability is quite low), then we can use the predict_classes() method instead:"
   ]
  },
  {
   "cell_type": "code",
   "execution_count": 28,
   "metadata": {},
   "outputs": [
    {
     "name": "stdout",
     "output_type": "stream",
     "text": [
      "WARNING:tensorflow:From <ipython-input-28-81ace37e545f>:1: Sequential.predict_classes (from tensorflow.python.keras.engine.sequential) is deprecated and will be removed after 2021-01-01.\n",
      "Instructions for updating:\n",
      "Please use instead:* `np.argmax(model.predict(x), axis=-1)`,   if your model does multi-class classification   (e.g. if it uses a `softmax` last-layer activation).* `(model.predict(x) > 0.5).astype(\"int32\")`,   if your model does binary classification   (e.g. if it uses a `sigmoid` last-layer activation).\n"
     ]
    },
    {
     "data": {
      "text/plain": [
       "array([9, 2, 1])"
      ]
     },
     "execution_count": 28,
     "metadata": {},
     "output_type": "execute_result"
    }
   ],
   "source": [
    "y_pred = model.predict_classes(X_new)\n",
    "y_pred"
   ]
  },
  {
   "cell_type": "code",
   "execution_count": 29,
   "metadata": {},
   "outputs": [
    {
     "data": {
      "text/plain": [
       "array(['Ankle boot', 'Pullover', 'Trouser'], dtype='<U11')"
      ]
     },
     "execution_count": 29,
     "metadata": {},
     "output_type": "execute_result"
    }
   ],
   "source": [
    "import numpy as np\n",
    "\n",
    "np.array(class_names)[y_pred]"
   ]
  },
  {
   "cell_type": "markdown",
   "metadata": {},
   "source": [
    "#### Images classified (correctly) :"
   ]
  },
  {
   "cell_type": "code",
   "execution_count": 30,
   "metadata": {},
   "outputs": [
    {
     "data": {
      "image/png": "[encoded data removed]",
      "text/plain": [
       "<Figure size 1080x720 with 3 Axes>"
      ]
     },
     "metadata": {
      "needs_background": "light"
     },
     "output_type": "display_data"
    }
   ],
   "source": [
    "plt.figure(figsize=(15, 10))\n",
    "for index, image in enumerate(X_new):\n",
    "    plt.subplot(1, 3, index + 1)\n",
    "    plt.imshow(image, cmap=\"binary\", interpolation=\"nearest\")\n",
    "    plt.axis('off')\n",
    "    plt.title(class_names[y_test[index]], fontsize=12)\n",
    "plt.subplots_adjust(wspace=0.2, hspace=0.5)\n",
    "plt.show()"
   ]
  },
  {
   "cell_type": "markdown",
   "metadata": {},
   "source": [
    "## Building a Regression MLP Using the Sequential API"
   ]
  },
  {
   "cell_type": "markdown",
   "metadata": {},
   "source": [
    "Let’s use the California housing problem and tackle it using a regression neural network. There is Scikit-Learn’s fetch_california_housing() function to load the data. This dataset contains only numerical features (there is no ocean_proximity feature), and there is no missing value."
   ]
  },
  {
   "cell_type": "code",
   "execution_count": 31,
   "metadata": {},
   "outputs": [],
   "source": [
    "from sklearn.datasets import fetch_california_housing \n",
    "from sklearn.model_selection import train_test_split \n",
    "from sklearn.preprocessing import StandardScaler"
   ]
  },
  {
   "cell_type": "code",
   "execution_count": 32,
   "metadata": {},
   "outputs": [
    {
     "name": "stderr",
     "output_type": "stream",
     "text": [
      "Downloading Cal. housing from https://ndownloader.figshare.com/files/5976036 to /Users/paulmospan/scikit_learn_data\n"
     ]
    },
    {
     "data": {
      "text/plain": [
       "{'data': array([[   8.3252    ,   41.        ,    6.98412698, ...,    2.55555556,\n",
       "           37.88      , -122.23      ],\n",
       "        [   8.3014    ,   21.        ,    6.23813708, ...,    2.10984183,\n",
       "           37.86      , -122.22      ],\n",
       "        [   7.2574    ,   52.        ,    8.28813559, ...,    2.80225989,\n",
       "           37.85      , -122.24      ],\n",
       "        ...,\n",
       "        [   1.7       ,   17.        ,    5.20554273, ...,    2.3256351 ,\n",
       "           39.43      , -121.22      ],\n",
       "        [   1.8672    ,   18.        ,    5.32951289, ...,    2.12320917,\n",
       "           39.43      , -121.32      ],\n",
       "        [   2.3886    ,   16.        ,    5.25471698, ...,    2.61698113,\n",
       "           39.37      , -121.24      ]]),\n",
       " 'target': array([4.526, 3.585, 3.521, ..., 0.923, 0.847, 0.894]),\n",
       " 'feature_names': ['MedInc',\n",
       "  'HouseAge',\n",
       "  'AveRooms',\n",
       "  'AveBedrms',\n",
       "  'Population',\n",
       "  'AveOccup',\n",
       "  'Latitude',\n",
       "  'Longitude'],\n",
       " 'DESCR': '.. _california_housing_dataset:\\n\\nCalifornia Housing dataset\\n--------------------------\\n\\n**Data Set Characteristics:**\\n\\n    :Number of Instances: 20640\\n\\n    :Number of Attributes: 8 numeric, predictive attributes and the target\\n\\n    :Attribute Information:\\n        - MedInc        median income in block\\n        - HouseAge      median house age in block\\n        - AveRooms      average number of rooms\\n        - AveBedrms     average number of bedrooms\\n        - Population    block population\\n        - AveOccup      average house occupancy\\n        - Latitude      house block latitude\\n        - Longitude     house block longitude\\n\\n    :Missing Attribute Values: None\\n\\nThis dataset was obtained from the StatLib repository.\\nhttp://lib.stat.cmu.edu/datasets/\\n\\nThe target variable is the median house value for California districts.\\n\\nThis dataset was derived from the 1990 U.S. census, using one row per census\\nblock group. A block group is the smallest geographical unit for which the U.S.\\nCensus Bureau publishes sample data (a block group typically has a population\\nof 600 to 3,000 people).\\n\\nIt can be downloaded/loaded using the\\n:func:`sklearn.datasets.fetch_california_housing` function.\\n\\n.. topic:: References\\n\\n    - Pace, R. Kelley and Ronald Barry, Sparse Spatial Autoregressions,\\n      Statistics and Probability Letters, 33 (1997) 291-297\\n'}"
      ]
     },
     "execution_count": 32,
     "metadata": {},
     "output_type": "execute_result"
    }
   ],
   "source": [
    "housing = fetch_california_housing()\n",
    "housing"
   ]
  },
  {
   "cell_type": "code",
   "execution_count": 34,
   "metadata": {},
   "outputs": [],
   "source": [
    "X_train_full, X_test, y_train_full, y_test = train_test_split(housing.data, housing.target)\n",
    "X_train, X_valid, y_train, y_valid = train_test_split( X_train_full, y_train_full)"
   ]
  },
  {
   "cell_type": "code",
   "execution_count": 36,
   "metadata": {},
   "outputs": [
    {
     "data": {
      "text/plain": [
       "((11610, 8), (3870, 8), (11610,))"
      ]
     },
     "execution_count": 36,
     "metadata": {},
     "output_type": "execute_result"
    }
   ],
   "source": [
    "X_train.shape, X_valid.shape, y_train.shape"
   ]
  },
  {
   "cell_type": "code",
   "execution_count": 37,
   "metadata": {},
   "outputs": [],
   "source": [
    "scaler = StandardScaler()\n",
    "X_train = scaler.fit_transform(X_train) \n",
    "X_valid = scaler.transform(X_valid) \n",
    "X_test = scaler.transform(X_test)"
   ]
  },
  {
   "cell_type": "code",
   "execution_count": 38,
   "metadata": {},
   "outputs": [
    {
     "data": {
      "text/plain": [
       "array([[-0.68533283,  1.53885586, -0.06986796, ...,  0.48101283,\n",
       "        -0.72969416,  1.10858731],\n",
       "       [ 0.75943072,  0.27101357,  0.14952906, ..., -0.39018975,\n",
       "        -0.62251387,  0.14158181],\n",
       "       [-0.44521115,  1.85581643, -0.58421422, ...,  1.50292547,\n",
       "         1.00383053, -1.33384927],\n",
       "       ...,\n",
       "       [ 1.3865548 , -0.600628  , -0.01637247, ...,  0.64215132,\n",
       "         0.82675006, -1.14942038],\n",
       "       [-0.58575358,  0.35025372,  0.24890819, ...,  0.79874653,\n",
       "        -0.72969416,  1.03880341],\n",
       "       [-1.4023454 ,  0.82569457, -0.65505544, ...,  1.03765089,\n",
       "        -0.76231424,  0.57025435]])"
      ]
     },
     "execution_count": 38,
     "metadata": {},
     "output_type": "execute_result"
    }
   ],
   "source": [
    "X_train"
   ]
  },
  {
   "cell_type": "code",
   "execution_count": 39,
   "metadata": {},
   "outputs": [
    {
     "data": {
      "text/plain": [
       "array([[   5.163     ,   24.        ,    5.5       , ...,    2.60570825,\n",
       "          33.72      , -118.03      ],\n",
       "       [   6.3303    ,   16.        ,    8.28761062, ...,    3.44247788,\n",
       "          34.17      , -118.94      ],\n",
       "       [   7.3732    ,   16.        ,    7.19952494, ...,    2.58194774,\n",
       "          37.88      , -122.02      ],\n",
       "       ...,\n",
       "       [   5.8479    ,   25.        ,    6.61155378, ...,    3.10756972,\n",
       "          37.26      , -121.89      ],\n",
       "       [   2.9432    ,   52.        ,    4.94945848, ...,    3.55956679,\n",
       "          33.98      , -118.3       ],\n",
       "       [   3.049     ,   33.        ,    3.17123288, ...,    2.22450533,\n",
       "          37.7       , -122.48      ]])"
      ]
     },
     "execution_count": 39,
     "metadata": {},
     "output_type": "execute_result"
    }
   ],
   "source": [
    "X_train_full"
   ]
  },
  {
   "cell_type": "markdown",
   "metadata": {},
   "source": [
    "Since the dataset is quite noisy, let's use a single hidden layer with fewer neurons than before, to avoid overfitting:\n"
   ]
  },
  {
   "cell_type": "code",
   "execution_count": 40,
   "metadata": {},
   "outputs": [],
   "source": [
    "model = keras.models.Sequential([\n",
    "    keras.layers.Dense(30, activation=\"relu\", input_shape=X_train.shape[1:]), \n",
    "    keras.layers.Dense(1)\n",
    "])"
   ]
  },
  {
   "cell_type": "code",
   "execution_count": 41,
   "metadata": {},
   "outputs": [],
   "source": [
    "model.compile(loss=\"mean_squared_error\", optimizer=\"sgd\")"
   ]
  },
  {
   "cell_type": "code",
   "execution_count": 44,
   "metadata": {
    "scrolled": true
   },
   "outputs": [
    {
     "name": "stdout",
     "output_type": "stream",
     "text": [
      "Epoch 1/30\n",
      "363/363 [==============================] - 0s 647us/step - loss: 0.3317 - val_loss: 0.3506\n",
      "Epoch 2/30\n",
      "363/363 [==============================] - 0s 497us/step - loss: 0.3295 - val_loss: 0.4312\n",
      "Epoch 3/30\n",
      "363/363 [==============================] - 0s 497us/step - loss: 0.3296 - val_loss: 0.3779\n",
      "Epoch 4/30\n",
      "363/363 [==============================] - 0s 491us/step - loss: 0.3236 - val_loss: 0.4152\n",
      "Epoch 5/30\n",
      "363/363 [==============================] - 0s 514us/step - loss: 0.3218 - val_loss: 0.3824\n",
      "Epoch 6/30\n",
      "363/363 [==============================] - 0s 498us/step - loss: 0.3218 - val_loss: 0.3640\n",
      "Epoch 7/30\n",
      "363/363 [==============================] - 0s 489us/step - loss: 0.3204 - val_loss: 0.3877\n",
      "Epoch 8/30\n",
      "363/363 [==============================] - 0s 495us/step - loss: 0.3188 - val_loss: 0.3642\n",
      "Epoch 9/30\n",
      "363/363 [==============================] - 0s 500us/step - loss: 0.3173 - val_loss: 0.3414\n",
      "Epoch 10/30\n",
      "363/363 [==============================] - 0s 501us/step - loss: 0.3155 - val_loss: 0.4330\n",
      "Epoch 11/30\n",
      "363/363 [==============================] - 0s 497us/step - loss: 0.3135 - val_loss: 0.3713\n",
      "Epoch 12/30\n",
      "363/363 [==============================] - 0s 508us/step - loss: 0.3138 - val_loss: 0.3404\n",
      "Epoch 13/30\n",
      "363/363 [==============================] - 0s 500us/step - loss: 0.3116 - val_loss: 0.3396\n",
      "Epoch 14/30\n",
      "363/363 [==============================] - 0s 503us/step - loss: 0.3108 - val_loss: 0.4950\n",
      "Epoch 15/30\n",
      "363/363 [==============================] - 0s 570us/step - loss: 0.3108 - val_loss: 0.3595\n",
      "Epoch 16/30\n",
      "363/363 [==============================] - 0s 509us/step - loss: 0.3142 - val_loss: 0.3730\n",
      "Epoch 17/30\n",
      "363/363 [==============================] - 0s 505us/step - loss: 0.3176 - val_loss: 0.5080\n",
      "Epoch 18/30\n",
      "363/363 [==============================] - 0s 685us/step - loss: 0.3066 - val_loss: 0.3457\n",
      "Epoch 19/30\n",
      "363/363 [==============================] - 0s 897us/step - loss: 0.3050 - val_loss: 0.3725\n",
      "Epoch 20/30\n",
      "363/363 [==============================] - 0s 641us/step - loss: 0.3104 - val_loss: 0.3397\n",
      "Epoch 21/30\n",
      "363/363 [==============================] - 0s 567us/step - loss: 0.3043 - val_loss: 0.3667\n",
      "Epoch 22/30\n",
      "363/363 [==============================] - 0s 566us/step - loss: 0.3052 - val_loss: 0.3289\n",
      "Epoch 23/30\n",
      "363/363 [==============================] - 0s 603us/step - loss: 0.3036 - val_loss: 0.3713\n",
      "Epoch 24/30\n",
      "363/363 [==============================] - 0s 936us/step - loss: 0.3027 - val_loss: 0.3355\n",
      "Epoch 25/30\n",
      "363/363 [==============================] - 0s 1ms/step - loss: 0.3039 - val_loss: 0.3489\n",
      "Epoch 26/30\n",
      "363/363 [==============================] - 0s 783us/step - loss: 0.3039 - val_loss: 0.3387\n",
      "Epoch 27/30\n",
      "363/363 [==============================] - 0s 595us/step - loss: 0.3007 - val_loss: 0.3852\n",
      "Epoch 28/30\n",
      "363/363 [==============================] - 0s 588us/step - loss: 0.3043 - val_loss: 0.3333\n",
      "Epoch 29/30\n",
      "363/363 [==============================] - 0s 598us/step - loss: 0.3001 - val_loss: 0.4640\n",
      "Epoch 30/30\n",
      "363/363 [==============================] - 0s 612us/step - loss: 0.2999 - val_loss: 0.3236\n"
     ]
    }
   ],
   "source": [
    "history = model.fit(X_train, y_train, epochs=30, validation_data=(X_valid, y_valid))"
   ]
  },
  {
   "cell_type": "code",
   "execution_count": 45,
   "metadata": {},
   "outputs": [
    {
     "name": "stdout",
     "output_type": "stream",
     "text": [
      "162/162 [==============================] - 0s 456us/step - loss: 0.3793\n"
     ]
    }
   ],
   "source": [
    "mse_test = model.evaluate(X_test, y_test)"
   ]
  },
  {
   "cell_type": "code",
   "execution_count": 46,
   "metadata": {},
   "outputs": [],
   "source": [
    "X_new = X_test[:3] # pretend these are new instances \n",
    "y_pred = model.predict(X_new)"
   ]
  },
  {
   "cell_type": "code",
   "execution_count": 51,
   "metadata": {},
   "outputs": [
    {
     "data": {
      "text/plain": [
       "array([[3.318112 ],\n",
       "       [0.7424892],\n",
       "       [1.8027854]], dtype=float32)"
      ]
     },
     "execution_count": 51,
     "metadata": {},
     "output_type": "execute_result"
    }
   ],
   "source": [
    "y_pred"
   ]
  },
  {
   "cell_type": "code",
   "execution_count": 53,
   "metadata": {},
   "outputs": [
    {
     "data": {
      "text/plain": [
       "array([3.353, 0.783, 1.468])"
      ]
     },
     "execution_count": 53,
     "metadata": {},
     "output_type": "execute_result"
    }
   ],
   "source": [
    "y_test[:3]"
   ]
  },
  {
   "cell_type": "markdown",
   "metadata": {},
   "source": [
    "## Building Complex Models Using the Functional API\n",
    "such a neural network to tackle the California housing problem:"
   ]
  },
  {
   "cell_type": "code",
   "execution_count": 54,
   "metadata": {},
   "outputs": [
    {
     "data": {
      "text/plain": [
       "(8,)"
      ]
     },
     "execution_count": 54,
     "metadata": {},
     "output_type": "execute_result"
    }
   ],
   "source": [
    "X_train.shape[1:]"
   ]
  },
  {
   "cell_type": "code",
   "execution_count": 57,
   "metadata": {},
   "outputs": [],
   "source": [
    "input_ = keras.layers.Input(shape=X_train.shape[1:])\n",
    "hidden1 = keras.layers.Dense(30, activation=\"relu\")(input_) \n",
    "hidden2 = keras.layers.Dense(30, activation=\"relu\")(hidden1) \n",
    "concat = keras.layers.Concatenate()([input_, hidden2]) \n",
    "output = keras.layers.Dense(1)(concat)\n",
    "model = keras.Model(inputs=[input_], outputs=[output])"
   ]
  },
  {
   "cell_type": "code",
   "execution_count": 58,
   "metadata": {},
   "outputs": [],
   "source": [
    "model.compile(loss=\"mean_squared_error\", optimizer=\"sgd\")"
   ]
  },
  {
   "cell_type": "code",
   "execution_count": 59,
   "metadata": {},
   "outputs": [
    {
     "name": "stdout",
     "output_type": "stream",
     "text": [
      "Epoch 1/30\n",
      "363/363 [==============================] - 0s 801us/step - loss: 0.9875 - val_loss: 0.4611\n",
      "Epoch 2/30\n",
      "363/363 [==============================] - 0s 553us/step - loss: 0.4588 - val_loss: 0.5085\n",
      "Epoch 3/30\n",
      "363/363 [==============================] - 0s 526us/step - loss: 0.4283 - val_loss: 0.4125\n",
      "Epoch 4/30\n",
      "363/363 [==============================] - 0s 583us/step - loss: 0.3755 - val_loss: 0.4220\n",
      "Epoch 5/30\n",
      "363/363 [==============================] - 0s 580us/step - loss: 0.3727 - val_loss: 0.3787\n",
      "Epoch 6/30\n",
      "363/363 [==============================] - 0s 548us/step - loss: 0.3631 - val_loss: 0.3831\n",
      "Epoch 7/30\n",
      "363/363 [==============================] - 0s 528us/step - loss: 0.3491 - val_loss: 0.4006\n",
      "Epoch 8/30\n",
      "363/363 [==============================] - 0s 527us/step - loss: 0.3489 - val_loss: 0.3783\n",
      "Epoch 9/30\n",
      "363/363 [==============================] - 0s 529us/step - loss: 0.3414 - val_loss: 0.3665\n",
      "Epoch 10/30\n",
      "363/363 [==============================] - 0s 529us/step - loss: 0.3368 - val_loss: 0.4330\n",
      "Epoch 11/30\n",
      "363/363 [==============================] - 0s 518us/step - loss: 0.3333 - val_loss: 0.4108\n",
      "Epoch 12/30\n",
      "363/363 [==============================] - 0s 530us/step - loss: 0.3291 - val_loss: 0.3604\n",
      "Epoch 13/30\n",
      "363/363 [==============================] - 0s 522us/step - loss: 0.3262 - val_loss: 0.3456\n",
      "Epoch 14/30\n",
      "363/363 [==============================] - 0s 526us/step - loss: 0.3241 - val_loss: 0.3486\n",
      "Epoch 15/30\n",
      "363/363 [==============================] - 0s 528us/step - loss: 0.3201 - val_loss: 0.3716\n",
      "Epoch 16/30\n",
      "363/363 [==============================] - 0s 545us/step - loss: 0.3205 - val_loss: 0.3958\n",
      "Epoch 17/30\n",
      "363/363 [==============================] - 0s 557us/step - loss: 0.3256 - val_loss: 0.3438\n",
      "Epoch 18/30\n",
      "363/363 [==============================] - 0s 545us/step - loss: 0.3169 - val_loss: 0.3666\n",
      "Epoch 19/30\n",
      "363/363 [==============================] - 0s 537us/step - loss: 0.3130 - val_loss: 0.3588\n",
      "Epoch 20/30\n",
      "363/363 [==============================] - 0s 536us/step - loss: 0.3101 - val_loss: 0.3676\n",
      "Epoch 21/30\n",
      "363/363 [==============================] - 0s 531us/step - loss: 0.3130 - val_loss: 0.3541\n",
      "Epoch 22/30\n",
      "363/363 [==============================] - 0s 552us/step - loss: 0.3097 - val_loss: 0.3407\n",
      "Epoch 23/30\n",
      "363/363 [==============================] - 0s 543us/step - loss: 0.3043 - val_loss: 0.3346\n",
      "Epoch 24/30\n",
      "363/363 [==============================] - 0s 604us/step - loss: 0.3022 - val_loss: 0.3625\n",
      "Epoch 25/30\n",
      "363/363 [==============================] - 0s 559us/step - loss: 0.3112 - val_loss: 0.3311\n",
      "Epoch 26/30\n",
      "363/363 [==============================] - 0s 551us/step - loss: 0.3060 - val_loss: 0.3586\n",
      "Epoch 27/30\n",
      "363/363 [==============================] - 0s 960us/step - loss: 0.3057 - val_loss: 0.3352\n",
      "Epoch 28/30\n",
      "363/363 [==============================] - 0s 795us/step - loss: 0.2992 - val_loss: 0.3407\n",
      "Epoch 29/30\n",
      "363/363 [==============================] - 0s 580us/step - loss: 0.3146 - val_loss: 0.3366\n",
      "Epoch 30/30\n",
      "363/363 [==============================] - 0s 552us/step - loss: 0.2974 - val_loss: 0.4201\n"
     ]
    }
   ],
   "source": [
    "history = model.fit(X_train, y_train, epochs=30, validation_data=(X_valid, y_valid))"
   ]
  },
  {
   "cell_type": "code",
   "execution_count": 60,
   "metadata": {},
   "outputs": [
    {
     "name": "stdout",
     "output_type": "stream",
     "text": [
      "162/162 [==============================] - 0s 492us/step - loss: 2.9835\n"
     ]
    }
   ],
   "source": [
    "mse_test = model.evaluate(X_test, y_test)"
   ]
  },
  {
   "cell_type": "code",
   "execution_count": 61,
   "metadata": {},
   "outputs": [
    {
     "data": {
      "text/plain": [
       "array([[3.2734041 ],\n",
       "       [0.83464354],\n",
       "       [1.849524  ]], dtype=float32)"
      ]
     },
     "execution_count": 61,
     "metadata": {},
     "output_type": "execute_result"
    }
   ],
   "source": [
    "X_new = X_test[:3] # pretend these are new instances \n",
    "y_pred = model.predict(X_new)\n",
    "y_pred"
   ]
  },
  {
   "cell_type": "markdown",
   "metadata": {},
   "source": [
    "#### Using multiple inputs to send a subset of the features through the wide path and a different subset (possibly overlapping) through the deep path. For example, suppose we want to send five features through the wide path (features 0 - 4), six features through the deep path (features 2 - 7)"
   ]
  },
  {
   "cell_type": "code",
   "execution_count": 62,
   "metadata": {},
   "outputs": [],
   "source": [
    "input_A = keras.layers.Input(shape=[5], name=\"wide_input\") \n",
    "input_B = keras.layers.Input(shape=[6], name=\"deep_input\") \n",
    "hidden1 = keras.layers.Dense(30, activation=\"relu\")(input_B) \n",
    "hidden2 = keras.layers.Dense(30, activation=\"relu\")(hidden1) \n",
    "concat = keras.layers.concatenate([input_A, hidden2])\n",
    "output = keras.layers.Dense(1, name=\"output\")(concat)\n",
    "model = keras.Model(inputs=[input_A, input_B], outputs=[output])"
   ]
  },
  {
   "cell_type": "code",
   "execution_count": 63,
   "metadata": {},
   "outputs": [],
   "source": [
    "model.compile(loss=\"mse\", optimizer=keras.optimizers.SGD(lr=1e-3))"
   ]
  },
  {
   "cell_type": "code",
   "execution_count": 64,
   "metadata": {},
   "outputs": [],
   "source": [
    "X_train_A, X_train_B = X_train[:, :5], X_train[:, 2:] \n",
    "X_valid_A, X_valid_B = X_valid[:, :5], X_valid[:, 2:] \n",
    "X_test_A, X_test_B = X_test[:, :5], X_test[:, 2:] \n",
    "X_new_A, X_new_B = X_test_A[:3], X_test_B[:3]"
   ]
  },
  {
   "cell_type": "code",
   "execution_count": 65,
   "metadata": {},
   "outputs": [
    {
     "name": "stdout",
     "output_type": "stream",
     "text": [
      "Epoch 1/20\n",
      "363/363 [==============================] - 0s 752us/step - loss: 2.6536 - val_loss: 0.8823\n",
      "Epoch 2/20\n",
      "363/363 [==============================] - 0s 552us/step - loss: 0.6632 - val_loss: 0.6117\n",
      "Epoch 3/20\n",
      "363/363 [==============================] - 0s 557us/step - loss: 0.5517 - val_loss: 0.5480\n",
      "Epoch 4/20\n",
      "363/363 [==============================] - 0s 556us/step - loss: 0.5144 - val_loss: 0.5184\n",
      "Epoch 5/20\n",
      "363/363 [==============================] - 0s 547us/step - loss: 0.4913 - val_loss: 0.5011\n",
      "Epoch 6/20\n",
      "363/363 [==============================] - 0s 545us/step - loss: 0.4744 - val_loss: 0.4882\n",
      "Epoch 7/20\n",
      "363/363 [==============================] - 0s 554us/step - loss: 0.4613 - val_loss: 0.4788\n",
      "Epoch 8/20\n",
      "363/363 [==============================] - 0s 545us/step - loss: 0.4507 - val_loss: 0.4739\n",
      "Epoch 9/20\n",
      "363/363 [==============================] - 0s 540us/step - loss: 0.4440 - val_loss: 0.4701\n",
      "Epoch 10/20\n",
      "363/363 [==============================] - 0s 564us/step - loss: 0.4359 - val_loss: 0.4666\n",
      "Epoch 11/20\n",
      "363/363 [==============================] - 0s 718us/step - loss: 0.4307 - val_loss: 0.4665\n",
      "Epoch 12/20\n",
      "363/363 [==============================] - 0s 946us/step - loss: 0.4253 - val_loss: 0.4631\n",
      "Epoch 13/20\n",
      "363/363 [==============================] - 0s 918us/step - loss: 0.4209 - val_loss: 0.4647\n",
      "Epoch 14/20\n",
      "363/363 [==============================] - 0s 660us/step - loss: 0.4174 - val_loss: 0.4566\n",
      "Epoch 15/20\n",
      "363/363 [==============================] - 0s 561us/step - loss: 0.4147 - val_loss: 0.4546\n",
      "Epoch 16/20\n",
      "363/363 [==============================] - 0s 561us/step - loss: 0.4119 - val_loss: 0.4534\n",
      "Epoch 17/20\n",
      "363/363 [==============================] - 0s 579us/step - loss: 0.4088 - val_loss: 0.4504\n",
      "Epoch 18/20\n",
      "363/363 [==============================] - 0s 627us/step - loss: 0.4062 - val_loss: 0.4512\n",
      "Epoch 19/20\n",
      "363/363 [==============================] - 0s 569us/step - loss: 0.4042 - val_loss: 0.4459\n",
      "Epoch 20/20\n",
      "363/363 [==============================] - 0s 599us/step - loss: 0.4021 - val_loss: 0.4421\n"
     ]
    }
   ],
   "source": [
    "history = model.fit((X_train_A, X_train_B), y_train, epochs=20, \n",
    "                    validation_data=((X_valid_A, X_valid_B), y_valid))"
   ]
  },
  {
   "cell_type": "code",
   "execution_count": 66,
   "metadata": {},
   "outputs": [
    {
     "name": "stdout",
     "output_type": "stream",
     "text": [
      "162/162 [==============================] - 0s 430us/step - loss: 1.1314\n"
     ]
    }
   ],
   "source": [
    "mse_test = model.evaluate((X_test_A, X_test_B), y_test) "
   ]
  },
  {
   "cell_type": "code",
   "execution_count": 67,
   "metadata": {},
   "outputs": [],
   "source": [
    "y_pred = model.predict((X_new_A, X_new_B))"
   ]
  },
  {
   "cell_type": "code",
   "execution_count": 69,
   "metadata": {},
   "outputs": [
    {
     "data": {
      "text/plain": [
       "(array([[3.0941117],\n",
       "        [0.9637629],\n",
       "        [1.8426762]], dtype=float32), array([3.353, 0.783, 1.468]))"
      ]
     },
     "execution_count": 69,
     "metadata": {},
     "output_type": "execute_result"
    }
   ],
   "source": [
    "y_pred, y_test[:3]"
   ]
  },
  {
   "cell_type": "markdown",
   "metadata": {},
   "source": [
    "## Saving and Restoring a Model"
   ]
  },
  {
   "cell_type": "code",
   "execution_count": 70,
   "metadata": {},
   "outputs": [],
   "source": [
    "model.save(\"my_functional_model.h5\")"
   ]
  },
  {
   "cell_type": "markdown",
   "metadata": {},
   "source": [
    "Keras will use the HDF5 format to save both the model’s architecture (including every layer’s hyperparameters) and the values of all the model parameters for every layer (e.g., connection weights and biases). It also saves the optimizer (including its hyperparameters and any state it may have).\n"
   ]
  },
  {
   "cell_type": "markdown",
   "metadata": {},
   "source": [
    "### Loading the model"
   ]
  },
  {
   "cell_type": "code",
   "execution_count": 72,
   "metadata": {},
   "outputs": [],
   "source": [
    "model = keras.models.load_model(\"my_functional_model.h5\")"
   ]
  },
  {
   "cell_type": "markdown",
   "metadata": {},
   "source": [
    "## Using TensorBoard for Visualization"
   ]
  },
  {
   "cell_type": "code",
   "execution_count": 73,
   "metadata": {},
   "outputs": [],
   "source": [
    "import os\n",
    "root_logdir = os.path.join(os.curdir, \"my_logs\")"
   ]
  },
  {
   "cell_type": "code",
   "execution_count": 74,
   "metadata": {},
   "outputs": [],
   "source": [
    "def get_run_logdir(): \n",
    "    import time\n",
    "    run_id = time.strftime(\"run_%Y_%m_%d-%H_%M_%S\") \n",
    "    return os.path.join(root_logdir, run_id)"
   ]
  },
  {
   "cell_type": "code",
   "execution_count": 75,
   "metadata": {},
   "outputs": [],
   "source": [
    "run_logdir = get_run_logdir()"
   ]
  },
  {
   "cell_type": "code",
   "execution_count": 76,
   "metadata": {},
   "outputs": [
    {
     "data": {
      "text/plain": [
       "((11610, 8), (3870, 8), (11610,))"
      ]
     },
     "execution_count": 76,
     "metadata": {},
     "output_type": "execute_result"
    }
   ],
   "source": [
    "X_train.shape, X_valid.shape, y_train.shape"
   ]
  },
  {
   "cell_type": "code",
   "execution_count": 83,
   "metadata": {},
   "outputs": [],
   "source": [
    "model = keras.models.Sequential([\n",
    "    keras.layers.Dense(30, activation=\"relu\", input_shape=X_train.shape[1:]),\n",
    "    keras.layers.Dense(15, activation=\"relu\"),\n",
    "    keras.layers.Dense(10, activation=\"relu\"),\n",
    "    keras.layers.Dense(1)\n",
    "])"
   ]
  },
  {
   "cell_type": "code",
   "execution_count": 84,
   "metadata": {},
   "outputs": [],
   "source": [
    "model.compile(loss=\"mean_squared_error\", optimizer=\"sgd\")"
   ]
  },
  {
   "cell_type": "code",
   "execution_count": 85,
   "metadata": {},
   "outputs": [],
   "source": [
    "tensorboard_cb = keras.callbacks.TensorBoard(run_logdir)"
   ]
  },
  {
   "cell_type": "code",
   "execution_count": 86,
   "metadata": {},
   "outputs": [
    {
     "name": "stdout",
     "output_type": "stream",
     "text": [
      "Epoch 1/40\n",
      "  1/363 [..............................] - ETA: 0s - loss: 6.2178WARNING:tensorflow:From /Users/paulmospan/opt/anaconda3/lib/python3.7/site-packages/tensorflow/python/ops/summary_ops_v2.py:1277: stop (from tensorflow.python.eager.profiler) is deprecated and will be removed after 2020-07-01.\n",
      "Instructions for updating:\n",
      "use `tf.profiler.experimental.stop` instead.\n",
      "WARNING:tensorflow:Callbacks method `on_train_batch_end` is slow compared to the batch time (batch time: 0.0020s vs `on_train_batch_end` time: 0.0315s). Check your callbacks.\n",
      "363/363 [==============================] - 0s 833us/step - loss: 1.3396 - val_loss: 0.5533\n",
      "Epoch 2/40\n",
      "363/363 [==============================] - 0s 550us/step - loss: 0.4411 - val_loss: 0.4256\n",
      "Epoch 3/40\n",
      "363/363 [==============================] - 0s 600us/step - loss: 0.3831 - val_loss: 0.3900\n",
      "Epoch 4/40\n",
      "363/363 [==============================] - 0s 657us/step - loss: 0.3649 - val_loss: 0.4221\n",
      "Epoch 5/40\n",
      "363/363 [==============================] - 0s 591us/step - loss: 0.3543 - val_loss: 0.3628\n",
      "Epoch 6/40\n",
      "363/363 [==============================] - 0s 748us/step - loss: 0.3454 - val_loss: 0.3761\n",
      "Epoch 7/40\n",
      "363/363 [==============================] - 0s 594us/step - loss: 0.3386 - val_loss: 0.3666\n",
      "Epoch 8/40\n",
      "363/363 [==============================] - 0s 731us/step - loss: 0.3320 - val_loss: 0.3578\n",
      "Epoch 9/40\n",
      "363/363 [==============================] - 0s 838us/step - loss: 0.3293 - val_loss: 0.3501\n",
      "Epoch 10/40\n",
      "363/363 [==============================] - 0s 640us/step - loss: 0.3277 - val_loss: 0.4202\n",
      "Epoch 11/40\n",
      "363/363 [==============================] - 0s 600us/step - loss: 0.3248 - val_loss: 0.3451\n",
      "Epoch 12/40\n",
      "363/363 [==============================] - 0s 593us/step - loss: 0.3203 - val_loss: 0.3458\n",
      "Epoch 13/40\n",
      "363/363 [==============================] - 0s 577us/step - loss: 0.3156 - val_loss: 0.3976\n",
      "Epoch 14/40\n",
      "363/363 [==============================] - 0s 692us/step - loss: 0.3155 - val_loss: 0.3485\n",
      "Epoch 15/40\n",
      "363/363 [==============================] - 0s 864us/step - loss: 0.3105 - val_loss: 0.3482\n",
      "Epoch 16/40\n",
      "363/363 [==============================] - 0s 606us/step - loss: 0.3094 - val_loss: 0.3455\n",
      "Epoch 17/40\n",
      "363/363 [==============================] - 0s 575us/step - loss: 0.3058 - val_loss: 0.3306\n",
      "Epoch 18/40\n",
      "363/363 [==============================] - 0s 649us/step - loss: 0.3048 - val_loss: 0.4140\n",
      "Epoch 19/40\n",
      "363/363 [==============================] - 0s 682us/step - loss: 0.3050 - val_loss: 0.3406\n",
      "Epoch 20/40\n",
      "363/363 [==============================] - 0s 649us/step - loss: 0.2999 - val_loss: 0.3264\n",
      "Epoch 21/40\n",
      "363/363 [==============================] - 0s 617us/step - loss: 0.2965 - val_loss: 0.3263\n",
      "Epoch 22/40\n",
      "363/363 [==============================] - 0s 599us/step - loss: 0.2965 - val_loss: 0.3657\n",
      "Epoch 23/40\n",
      "363/363 [==============================] - 0s 590us/step - loss: 0.2947 - val_loss: 0.3373\n",
      "Epoch 24/40\n",
      "363/363 [==============================] - 0s 544us/step - loss: 0.2923 - val_loss: 0.3481\n",
      "Epoch 25/40\n",
      "363/363 [==============================] - 0s 571us/step - loss: 0.2915 - val_loss: 0.3169\n",
      "Epoch 26/40\n",
      "363/363 [==============================] - 0s 552us/step - loss: 0.2873 - val_loss: 0.3240\n",
      "Epoch 27/40\n",
      "363/363 [==============================] - 0s 541us/step - loss: 0.2875 - val_loss: 0.3733\n",
      "Epoch 28/40\n",
      "363/363 [==============================] - 0s 545us/step - loss: 0.2862 - val_loss: 0.3338\n",
      "Epoch 29/40\n",
      "363/363 [==============================] - 0s 578us/step - loss: 0.2902 - val_loss: 0.3771\n",
      "Epoch 30/40\n",
      "363/363 [==============================] - 0s 546us/step - loss: 0.2878 - val_loss: 0.3256\n",
      "Epoch 31/40\n",
      "363/363 [==============================] - 0s 540us/step - loss: 0.2855 - val_loss: 0.3434\n",
      "Epoch 32/40\n",
      "363/363 [==============================] - 0s 547us/step - loss: 0.2832 - val_loss: 0.3244\n",
      "Epoch 33/40\n",
      "363/363 [==============================] - 0s 586us/step - loss: 0.2800 - val_loss: 0.3197\n",
      "Epoch 34/40\n",
      "363/363 [==============================] - 0s 552us/step - loss: 0.2810 - val_loss: 0.3838\n",
      "Epoch 35/40\n",
      "363/363 [==============================] - 0s 562us/step - loss: 0.2830 - val_loss: 0.3229\n",
      "Epoch 36/40\n",
      "363/363 [==============================] - 0s 577us/step - loss: 0.2802 - val_loss: 0.3150\n",
      "Epoch 37/40\n",
      "363/363 [==============================] - 0s 559us/step - loss: 0.2765 - val_loss: 0.3276\n",
      "Epoch 38/40\n",
      "363/363 [==============================] - 0s 550us/step - loss: 0.2761 - val_loss: 0.3164\n",
      "Epoch 39/40\n",
      "363/363 [==============================] - 0s 550us/step - loss: 0.2751 - val_loss: 0.3414\n",
      "Epoch 40/40\n",
      "363/363 [==============================] - 0s 532us/step - loss: 0.2766 - val_loss: 0.3354\n"
     ]
    }
   ],
   "source": [
    "history = model.fit(X_train, y_train, epochs=40, validation_data=(X_valid, y_valid), \n",
    "                    callbacks=[tensorboard_cb])"
   ]
  },
  {
   "cell_type": "code",
   "execution_count": null,
   "metadata": {},
   "outputs": [],
   "source": []
  },
  {
   "cell_type": "code",
   "execution_count": null,
   "metadata": {},
   "outputs": [],
   "source": []
  },
  {
   "cell_type": "code",
   "execution_count": null,
   "metadata": {},
   "outputs": [],
   "source": []
  },
  {
   "cell_type": "code",
   "execution_count": null,
   "metadata": {},
   "outputs": [],
   "source": []
  },
  {
   "cell_type": "code",
   "execution_count": null,
   "metadata": {},
   "outputs": [],
   "source": []
  },
  {
   "cell_type": "code",
   "execution_count": null,
   "metadata": {},
   "outputs": [],
   "source": []
  },
  {
   "cell_type": "code",
   "execution_count": null,
   "metadata": {},
   "outputs": [],
   "source": []
  },
  {
   "cell_type": "code",
   "execution_count": null,
   "metadata": {},
   "outputs": [],
   "source": []
  },
  {
   "cell_type": "code",
   "execution_count": null,
   "metadata": {},
   "outputs": [],
   "source": []
  },
  {
   "cell_type": "code",
   "execution_count": null,
   "metadata": {},
   "outputs": [],
   "source": []
  },
  {
   "cell_type": "code",
   "execution_count": null,
   "metadata": {},
   "outputs": [],
   "source": []
  },
  {
   "cell_type": "code",
   "execution_count": null,
   "metadata": {},
   "outputs": [],
   "source": []
  },
  {
   "cell_type": "code",
   "execution_count": null,
   "metadata": {},
   "outputs": [],
   "source": []
  },
  {
   "cell_type": "code",
   "execution_count": null,
   "metadata": {},
   "outputs": [],
   "source": []
  },
  {
   "cell_type": "code",
   "execution_count": null,
   "metadata": {},
   "outputs": [],
   "source": []
  },
  {
   "cell_type": "code",
   "execution_count": null,
   "metadata": {},
   "outputs": [],
   "source": []
  },
  {
   "cell_type": "code",
   "execution_count": null,
   "metadata": {},
   "outputs": [],
   "source": []
  },
  {
   "cell_type": "code",
   "execution_count": null,
   "metadata": {},
   "outputs": [],
   "source": []
  },
  {
   "cell_type": "code",
   "execution_count": null,
   "metadata": {},
   "outputs": [],
   "source": []
  },
  {
   "cell_type": "code",
   "execution_count": null,
   "metadata": {},
   "outputs": [],
   "source": []
  },
  {
   "cell_type": "code",
   "execution_count": null,
   "metadata": {},
   "outputs": [],
   "source": []
  },
  {
   "cell_type": "code",
   "execution_count": null,
   "metadata": {},
   "outputs": [],
   "source": []
  },
  {
   "cell_type": "code",
   "execution_count": null,
   "metadata": {},
   "outputs": [],
   "source": []
  },
  {
   "cell_type": "code",
   "execution_count": null,
   "metadata": {},
   "outputs": [],
   "source": []
  },
  {
   "cell_type": "code",
   "execution_count": null,
   "metadata": {},
   "outputs": [],
   "source": []
  },
  {
   "cell_type": "code",
   "execution_count": null,
   "metadata": {},
   "outputs": [],
   "source": []
  },
  {
   "cell_type": "code",
   "execution_count": null,
   "metadata": {},
   "outputs": [],
   "source": []
  },
  {
   "cell_type": "code",
   "execution_count": null,
   "metadata": {},
   "outputs": [],
   "source": []
  },
  {
   "cell_type": "code",
   "execution_count": null,
   "metadata": {},
   "outputs": [],
   "source": []
  },
  {
   "cell_type": "code",
   "execution_count": null,
   "metadata": {},
   "outputs": [],
   "source": []
  },
  {
   "cell_type": "code",
   "execution_count": null,
   "metadata": {},
   "outputs": [],
   "source": []
  },
  {
   "cell_type": "code",
   "execution_count": null,
   "metadata": {},
   "outputs": [],
   "source": []
  },
  {
   "cell_type": "code",
   "execution_count": null,
   "metadata": {},
   "outputs": [],
   "source": []
  }
 ],
 "metadata": {
  "kernelspec": {
   "display_name": "Python 3",
   "language": "python",
   "name": "python3"
  },
  "language_info": {
   "codemirror_mode": {
    "name": "ipython",
    "version": 3
   },
   "file_extension": ".py",
   "mimetype": "text/x-python",
   "name": "python",
   "nbconvert_exporter": "python",
   "pygments_lexer": "ipython3",
   "version": "3.7.4"
  }
 },
 "nbformat": 4,
 "nbformat_minor": 2
}
