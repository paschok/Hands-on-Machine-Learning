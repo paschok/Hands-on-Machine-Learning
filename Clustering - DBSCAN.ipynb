{
 "cells": [
  {
   "cell_type": "markdown",
   "metadata": {},
   "source": [
    "DBSCAN is a very simple yet powerful algorithm capable of identifying any number of clusters of any shape. It is robust to outliers, and it has just two hyperparameters (eps and min_samples).This algorithm works well if all the clusters are dense enough and if they are well separated by low-density regions."
   ]
  },
  {
   "cell_type": "code",
   "execution_count": 1,
   "metadata": {},
   "outputs": [],
   "source": [
    "from sklearn.cluster import DBSCAN\n",
    "from sklearn.datasets import make_moons"
   ]
  },
  {
   "cell_type": "code",
   "execution_count": 2,
   "metadata": {},
   "outputs": [],
   "source": [
    "X, y = make_moons(n_samples=1000, noise=0.05)"
   ]
  },
  {
   "cell_type": "code",
   "execution_count": 3,
   "metadata": {},
   "outputs": [
    {
     "data": {
      "text/plain": [
       "DBSCAN(algorithm='auto', eps=0.05, leaf_size=30, metric='euclidean',\n",
       "       metric_params=None, min_samples=5, n_jobs=None, p=None)"
      ]
     },
     "execution_count": 3,
     "metadata": {},
     "output_type": "execute_result"
    }
   ],
   "source": [
    "dbscan = DBSCAN(eps=0.05, min_samples=5) \n",
    "\n",
    "dbscan.fit(X)"
   ]
  },
  {
   "cell_type": "code",
   "execution_count": 4,
   "metadata": {},
   "outputs": [
    {
     "data": {
      "text/plain": [
       "array([ 1,  0,  1,  1,  2,  1,  3,  0,  2,  0,  0,  4,  5,  1,  4,  3,  5,\n",
       "        2,  2,  3,  2,  1,  3,  2,  7,  2,  3,  2,  2, -1,  9,  1,  3,  5,\n",
       "        0,  2,  2,  1,  3,  5,  2,  0,  5,  3,  5,  1,  0,  2,  4,  2,  3,\n",
       "        2, -1, -1,  0, -1, -1,  3, -1,  3,  4,  1,  1,  2,  2,  3,  5,  3,\n",
       "        0,  0,  3,  1,  4,  2,  0,  5,  2,  4,  3,  1,  2,  0,  1,  5,  1,\n",
       "        4,  2,  2,  1,  1,  3,  3,  2, -1,  5,  3, -1,  5,  1,  3,  1,  1,\n",
       "        3,  4, -1,  1,  4,  5,  6, -1, -1,  2,  2,  1,  2,  2,  2,  2, -1,\n",
       "        4,  6,  3,  1,  2,  8,  6,  1,  4,  1,  4,  2,  2,  6,  1, -1, -1,\n",
       "        3,  3,  6,  1,  0,  1,  6,  1,  3,  4,  3,  3,  0,  3,  3,  0,  2,\n",
       "        1,  1,  5,  0,  1,  3,  3,  4,  2,  1,  2,  1,  4,  3,  1,  0,  3,\n",
       "        3,  3,  2,  1,  3,  1,  1,  4,  2,  3,  0,  1,  5,  0,  4,  4,  4,\n",
       "        4,  7,  4,  3, -1,  2,  5,  4,  1,  0,  1,  3,  6,  3,  3,  1,  2,\n",
       "        2, -1,  1,  2, -1,  3,  1,  2,  0,  6,  3,  3,  1,  3,  5,  3,  0,\n",
       "        0,  1, -1,  1, -1,  2,  3,  1,  0,  1,  5, -1,  2,  1,  1,  3,  4,\n",
       "        5,  0,  0,  1,  2,  1,  1,  0, -1,  4,  3,  1,  5,  3,  8,  1,  0,\n",
       "        5,  3,  1,  1, -1,  1,  2,  2,  5,  1,  0,  3,  2,  0,  5,  2,  2,\n",
       "        3,  2,  0,  6, -1,  0,  3,  3,  3,  2,  0,  1,  2,  2,  1,  9,  1,\n",
       "        1,  1,  0,  5,  3,  0,  1,  5,  3,  0,  0,  2, -1,  8,  1,  0,  3,\n",
       "        5,  4, -1,  1,  1,  2,  3,  0,  0,  0,  1,  1,  3, -1,  1,  4,  1,\n",
       "        4, -1, -1,  1,  1,  3,  1,  2,  3,  1,  1,  1,  1,  5,  2, -1,  2,\n",
       "        0,  5,  0,  3, -1,  1,  3,  0,  1,  4,  1,  0,  3,  2,  4,  1,  3,\n",
       "        0,  1,  1,  0,  1,  1,  2,  5,  1,  0,  3,  1,  0, -1,  2,  1, -1,\n",
       "        3,  3, -1,  2,  1,  0,  4,  2,  0,  1,  1,  2,  3,  2,  3,  1,  4,\n",
       "       10,  1,  3,  3,  2,  0,  1,  2,  1,  2,  4,  5,  4,  1,  3,  1,  1,\n",
       "       -1,  5,  3, -1,  0,  5,  1,  1,  3,  0,  3, -1,  6,  1,  0,  1,  1,\n",
       "        2, -1,  0,  1,  0,  1,  5,  4,  0,  4,  5,  1,  3,  0,  4,  1,  2,\n",
       "        4,  3,  1,  5,  1,  3, -1,  3,  1,  1,  1, -1,  1,  2,  3,  3,  4,\n",
       "        5,  1,  3,  3,  3,  2,  2,  3,  1,  0,  0,  3,  3,  3,  3,  6,  1,\n",
       "        3,  0,  1,  1, -1,  3,  0,  3,  5,  3,  2,  5,  1,  3,  4,  2,  0,\n",
       "        0,  3,  6,  1,  0,  2,  2,  2,  5,  0,  1,  3,  0,  4,  1,  1,  2,\n",
       "        1,  5, -1,  1,  2,  1,  2,  0,  0,  2,  3,  0,  2,  1, -1,  0,  0,\n",
       "        6,  4,  1,  3,  0,  1,  1,  5,  4, -1,  2,  1,  8,  3,  3,  3,  2,\n",
       "        4,  4,  0,  2,  5,  3,  4,  3,  3,  2,  1,  4,  6,  2,  2,  0,  2,\n",
       "        4,  2,  3,  3,  2,  4,  3,  0,  2,  1,  0,  1, -1,  3,  5,  4, -1,\n",
       "        3,  5,  5,  2,  1,  1,  0,  0,  4,  1,  4,  3,  2,  3,  3,  4,  0,\n",
       "        4,  0,  2,  3,  3,  1,  1, -1, -1,  2, -1,  1,  0,  0,  0,  0,  2,\n",
       "        2,  0,  1,  3,  1,  3,  3,  0,  0,  6,  2, -1,  1,  4,  1,  5,  5,\n",
       "        5,  5,  0,  2,  3,  1,  1,  2,  5,  3,  1,  1,  4,  3,  0,  5, -1,\n",
       "        3,  3,  2,  3,  6,  0,  3,  1,  1,  2,  1,  3,  2,  1,  1,  3,  1,\n",
       "        3,  1, -1,  2,  5,  5, -1,  0,  5,  0,  0, -1,  0,  3,  0,  4,  1,\n",
       "        1,  2,  5,  0,  1,  1,  2,  0,  1,  1,  2,  2, -1,  4,  0,  0,  0,\n",
       "       -1,  1,  2,  2, -1, -1,  1,  1,  3,  3,  5,  4,  0,  1,  2,  3,  4,\n",
       "       -1,  5,  3,  3,  9,  3, -1,  3,  4,  3,  3,  1,  1,  3, -1,  4,  0,\n",
       "        1, -1,  2,  1,  3,  5,  0,  1,  0,  5,  0,  4,  0,  1,  2,  2,  1,\n",
       "        0,  3,  2,  3,  0,  0,  1,  0,  2, -1,  3,  1,  3,  0,  0,  3,  3,\n",
       "        6,  5,  5,  4,  5,  3,  0,  4,  3,  0,  4,  0,  1,  3,  3,  2, -1,\n",
       "        0,  5,  4,  3,  3,  1,  0,  4,  1,  5,  1,  0,  4,  1,  2,  4,  0,\n",
       "        4,  5,  3,  3,  4,  0,  3,  0,  2,  2,  0,  2,  3,  5,  2,  0,  1,\n",
       "        6,  4,  1,  5,  6,  0,  1,  1,  2,  4,  2,  2,  8,  5,  3,  1,  0,\n",
       "        3,  6, 10,  3,  1,  0, 10,  0,  4,  0,  3, -1,  2,  3,  6,  0,  0,\n",
       "        2,  2,  9,  0,  2, -1,  1,  1,  9,  3,  3,  3,  0,  3,  2,  0,  0,\n",
       "        3, -1,  2, -1,  3,  1,  1,  3,  3,  3,  2,  0,  2,  0,  1,  6,  0,\n",
       "        6,  1,  4,  0,  3,  2,  5,  1,  0,  0,  0,  4,  5,  1,  4,  4,  1,\n",
       "        2,  0,  0,  3,  1,  5,  7,  3,  6,  3, -1,  8,  2,  1,  3,  2,  4,\n",
       "        1,  5,  3,  4,  3,  5,  3,  4,  1,  0,  3,  2,  1,  2,  1,  6,  0,\n",
       "       10,  5,  0,  1,  1,  1,  1,  3,  1,  2, -1,  5,  2,  1,  0,  1,  0,\n",
       "       -1,  0,  1,  3,  8,  2,  0,  1,  0,  2,  0,  3,  4,  2,  6,  4,  1,\n",
       "        3,  1,  0,  4,  1,  5,  1,  2,  4,  5,  2,  0,  4, -1,  0,  3,  0,\n",
       "        7,  3,  3,  0,  1,  1,  1,  2,  2,  2,  2,  2,  2,  0])"
      ]
     },
     "execution_count": 4,
     "metadata": {},
     "output_type": "execute_result"
    }
   ],
   "source": [
    "dbscan.labels_ # label of all the instances"
   ]
  },
  {
   "cell_type": "code",
   "execution_count": 5,
   "metadata": {},
   "outputs": [
    {
     "data": {
      "text/plain": [
       "(1000,)"
      ]
     },
     "execution_count": 5,
     "metadata": {},
     "output_type": "execute_result"
    }
   ],
   "source": [
    "dbscan.labels_.shape"
   ]
  },
  {
   "cell_type": "markdown",
   "metadata": {},
   "source": [
    "### if instances have a cluster index equal to –1, which means that they are considered as anomalies by the algorithm. \n",
    "\n",
    "The indices of the core instances are available in the core_sample_indices_ instance variable, and the core instances themselves are available in the components_ instance variable"
   ]
  },
  {
   "cell_type": "code",
   "execution_count": 6,
   "metadata": {},
   "outputs": [
    {
     "data": {
      "text/plain": [
       "780"
      ]
     },
     "execution_count": 6,
     "metadata": {},
     "output_type": "execute_result"
    }
   ],
   "source": [
    "len(dbscan.core_sample_indices_)"
   ]
  },
  {
   "cell_type": "code",
   "execution_count": 7,
   "metadata": {},
   "outputs": [
    {
     "data": {
      "text/plain": [
       "780"
      ]
     },
     "execution_count": 7,
     "metadata": {},
     "output_type": "execute_result"
    }
   ],
   "source": [
    "len(dbscan.components_)"
   ]
  },
  {
   "cell_type": "markdown",
   "metadata": {},
   "source": [
    "### NOTE! \n",
    "Somewhat surprisingly, the DBSCAN class does not have a predict() method, although it has a fit_predict() method. In other words, it cannot predict which cluster a new instance belongs to. This implementation decision was made because different classification algorithms can be better for different tasks, so the authors decided to let the user choose which one to use. Moreover, it’s not hard to implement. For example, let’s train a KNeighborsClassifier:"
   ]
  },
  {
   "cell_type": "code",
   "execution_count": 9,
   "metadata": {},
   "outputs": [],
   "source": [
    "from sklearn.neighbors import KNeighborsClassifier\n",
    "\n",
    "knn = KNeighborsClassifier(n_neighbors=50)"
   ]
  },
  {
   "cell_type": "code",
   "execution_count": 12,
   "metadata": {},
   "outputs": [
    {
     "data": {
      "text/plain": [
       "KNeighborsClassifier(algorithm='auto', leaf_size=30, metric='minkowski',\n",
       "                     metric_params=None, n_jobs=None, n_neighbors=50, p=2,\n",
       "                     weights='uniform')"
      ]
     },
     "execution_count": 12,
     "metadata": {},
     "output_type": "execute_result"
    }
   ],
   "source": [
    "knn.fit(dbscan.components_, dbscan.labels_[dbscan.core_sample_indices_])"
   ]
  },
  {
   "cell_type": "markdown",
   "metadata": {},
   "source": [
    "Now, given a few new instances, we can predict which cluster they most likely\n",
    "belong to and even estimate a probability for each cluster:"
   ]
  },
  {
   "cell_type": "code",
   "execution_count": 13,
   "metadata": {},
   "outputs": [
    {
     "data": {
      "text/plain": [
       "array([3, 0, 4, 1])"
      ]
     },
     "execution_count": 13,
     "metadata": {},
     "output_type": "execute_result"
    }
   ],
   "source": [
    "import numpy as np\n",
    "\n",
    "X_new = np.array([[-0.5, 0], [0, 0.5], [1, -0.1], [2, 1]]) \n",
    "knn.predict(X_new)"
   ]
  },
  {
   "cell_type": "code",
   "execution_count": 14,
   "metadata": {},
   "outputs": [
    {
     "data": {
      "text/plain": [
       "array([[0.3 , 0.  , 0.  , 0.66, 0.  , 0.  , 0.  , 0.  , 0.  , 0.  , 0.04],\n",
       "       [0.96, 0.  , 0.  , 0.  , 0.  , 0.  , 0.  , 0.  , 0.04, 0.  , 0.  ],\n",
       "       [0.  , 0.12, 0.  , 0.  , 0.56, 0.28, 0.  , 0.  , 0.  , 0.04, 0.  ],\n",
       "       [0.  , 0.98, 0.  , 0.  , 0.  , 0.  , 0.  , 0.02, 0.  , 0.  , 0.  ]])"
      ]
     },
     "execution_count": 14,
     "metadata": {},
     "output_type": "execute_result"
    }
   ],
   "source": [
    "knn.predict_proba(X_new)"
   ]
  },
  {
   "cell_type": "code",
   "execution_count": null,
   "metadata": {},
   "outputs": [],
   "source": []
  },
  {
   "cell_type": "code",
   "execution_count": null,
   "metadata": {},
   "outputs": [],
   "source": []
  }
 ],
 "metadata": {
  "kernelspec": {
   "display_name": "Python 3",
   "language": "python",
   "name": "python3"
  },
  "language_info": {
   "codemirror_mode": {
    "name": "ipython",
    "version": 3
   },
   "file_extension": ".py",
   "mimetype": "text/x-python",
   "name": "python",
   "nbconvert_exporter": "python",
   "pygments_lexer": "ipython3",
   "version": "3.7.4"
  }
 },
 "nbformat": 4,
 "nbformat_minor": 2
}
