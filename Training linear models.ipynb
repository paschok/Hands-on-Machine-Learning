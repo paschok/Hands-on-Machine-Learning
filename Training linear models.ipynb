{
 "cells": [
  {
   "cell_type": "markdown",
   "metadata": {},
   "source": [
    "### The Normal Equation"
   ]
  },
  {
   "attachments": {
    "image.png": {
     "image/png": "[encoded data removed]"
    }
   },
   "cell_type": "markdown",
   "metadata": {},
   "source": [
    "![image.png](attachment:image.png)"
   ]
  },
  {
   "cell_type": "code",
   "execution_count": 1,
   "metadata": {},
   "outputs": [],
   "source": [
    "import numpy as np"
   ]
  },
  {
   "cell_type": "markdown",
   "metadata": {},
   "source": [
    "#### Generating labels and features"
   ]
  },
  {
   "cell_type": "code",
   "execution_count": 2,
   "metadata": {},
   "outputs": [],
   "source": [
    "X = 2 * np.random.rand(100, 1)\n",
    "y = 4 + 3 * X + np.random.randn(100, 1)"
   ]
  },
  {
   "cell_type": "code",
   "execution_count": 4,
   "metadata": {
    "scrolled": true
   },
   "outputs": [
    {
     "data": {
      "text/plain": [
       "array([[0.99871575],\n",
       "       [1.92179766],\n",
       "       [1.91798679],\n",
       "       [1.18807017],\n",
       "       [0.61182226],\n",
       "       [0.61146975],\n",
       "       [1.63124369],\n",
       "       [0.88833787],\n",
       "       [1.40850688],\n",
       "       [0.95763938],\n",
       "       [0.53361714],\n",
       "       [1.76030164],\n",
       "       [0.09832532],\n",
       "       [0.77994545],\n",
       "       [1.78933299],\n",
       "       [0.1373443 ],\n",
       "       [1.7804398 ],\n",
       "       [0.0141322 ],\n",
       "       [1.63995046],\n",
       "       [0.3174052 ],\n",
       "       [0.46474161],\n",
       "       [1.99031908],\n",
       "       [1.32249816],\n",
       "       [0.73749177],\n",
       "       [1.4748429 ],\n",
       "       [0.58845142],\n",
       "       [1.83996329],\n",
       "       [1.66811792],\n",
       "       [0.3508386 ],\n",
       "       [0.58295108],\n",
       "       [0.04912646],\n",
       "       [0.93021336],\n",
       "       [1.21410771],\n",
       "       [1.71885357],\n",
       "       [0.92781703],\n",
       "       [1.88088807],\n",
       "       [0.53831217],\n",
       "       [1.75263276],\n",
       "       [0.10436011],\n",
       "       [0.93560149],\n",
       "       [1.93703367],\n",
       "       [1.0045385 ],\n",
       "       [0.4598132 ],\n",
       "       [1.08568746],\n",
       "       [0.19736972],\n",
       "       [1.78104625],\n",
       "       [0.73998504],\n",
       "       [0.51494816],\n",
       "       [0.73041693],\n",
       "       [1.40541373],\n",
       "       [1.80603195],\n",
       "       [1.56914149],\n",
       "       [0.12273834],\n",
       "       [1.06636659],\n",
       "       [0.09259366],\n",
       "       [1.60909993],\n",
       "       [1.93035661],\n",
       "       [1.41936579],\n",
       "       [1.22806627],\n",
       "       [1.71072505],\n",
       "       [0.16749138],\n",
       "       [1.14268951],\n",
       "       [1.19609975],\n",
       "       [1.33506805],\n",
       "       [1.85030167],\n",
       "       [0.00667437],\n",
       "       [1.39755609],\n",
       "       [1.83558436],\n",
       "       [1.00562705],\n",
       "       [1.98953805],\n",
       "       [0.407157  ],\n",
       "       [0.88569942],\n",
       "       [0.45472216],\n",
       "       [0.51790576],\n",
       "       [1.48332138],\n",
       "       [0.02375837],\n",
       "       [0.3810671 ],\n",
       "       [0.31928695],\n",
       "       [1.87334319],\n",
       "       [1.37360007],\n",
       "       [1.45384704],\n",
       "       [0.72590142],\n",
       "       [1.36898988],\n",
       "       [0.32744017],\n",
       "       [0.38936674],\n",
       "       [0.25983435],\n",
       "       [1.78803454],\n",
       "       [1.41230834],\n",
       "       [1.18318717],\n",
       "       [1.54439775],\n",
       "       [1.53254222],\n",
       "       [1.75744293],\n",
       "       [1.74071599],\n",
       "       [1.82603764],\n",
       "       [1.01577731],\n",
       "       [0.99672797],\n",
       "       [0.32831506],\n",
       "       [1.74191156],\n",
       "       [0.36289543],\n",
       "       [1.32843889]])"
      ]
     },
     "execution_count": 4,
     "metadata": {},
     "output_type": "execute_result"
    }
   ],
   "source": [
    "X"
   ]
  },
  {
   "cell_type": "code",
   "execution_count": 5,
   "metadata": {
    "scrolled": true
   },
   "outputs": [
    {
     "data": {
      "text/plain": [
       "array([[ 5.62344266],\n",
       "       [10.14333442],\n",
       "       [ 9.18069591],\n",
       "       [ 7.99386489],\n",
       "       [ 4.95694402],\n",
       "       [ 5.18029339],\n",
       "       [ 8.42122676],\n",
       "       [ 7.2336194 ],\n",
       "       [ 7.30338039],\n",
       "       [ 9.18630227],\n",
       "       [ 6.12421709],\n",
       "       [11.31101003],\n",
       "       [ 5.12183899],\n",
       "       [ 7.30710998],\n",
       "       [ 8.56541344],\n",
       "       [ 2.99726739],\n",
       "       [ 9.95360493],\n",
       "       [ 4.28485734],\n",
       "       [ 9.9251005 ],\n",
       "       [ 5.58177152],\n",
       "       [ 5.33704345],\n",
       "       [10.02744982],\n",
       "       [ 6.80509133],\n",
       "       [ 7.45777895],\n",
       "       [ 6.90706648],\n",
       "       [ 5.72397199],\n",
       "       [ 9.92157781],\n",
       "       [ 8.96660945],\n",
       "       [ 4.14358033],\n",
       "       [ 6.18419766],\n",
       "       [ 4.87431821],\n",
       "       [ 6.59841334],\n",
       "       [ 9.51780814],\n",
       "       [ 8.71924139],\n",
       "       [ 5.0136505 ],\n",
       "       [10.64685591],\n",
       "       [ 6.28440713],\n",
       "       [ 9.10836888],\n",
       "       [ 5.88600233],\n",
       "       [ 6.63690987],\n",
       "       [ 8.80779499],\n",
       "       [ 8.00854593],\n",
       "       [ 6.56785194],\n",
       "       [ 7.32313561],\n",
       "       [ 4.78993859],\n",
       "       [ 8.37081456],\n",
       "       [ 5.6928455 ],\n",
       "       [ 4.59943406],\n",
       "       [ 5.11297907],\n",
       "       [ 7.13273955],\n",
       "       [11.77294905],\n",
       "       [ 9.88670585],\n",
       "       [ 5.96133717],\n",
       "       [ 6.04893309],\n",
       "       [ 3.56509883],\n",
       "       [10.58084463],\n",
       "       [ 9.76267419],\n",
       "       [ 8.1961724 ],\n",
       "       [ 5.64489905],\n",
       "       [10.86884903],\n",
       "       [ 4.46641235],\n",
       "       [ 7.54812184],\n",
       "       [ 7.55493234],\n",
       "       [ 9.62652709],\n",
       "       [ 8.58692845],\n",
       "       [ 4.45552248],\n",
       "       [ 7.27107516],\n",
       "       [ 9.99091845],\n",
       "       [ 6.1895612 ],\n",
       "       [ 8.56593133],\n",
       "       [ 6.80041799],\n",
       "       [ 7.59247359],\n",
       "       [ 4.55507778],\n",
       "       [ 5.5968178 ],\n",
       "       [ 7.67661153],\n",
       "       [ 3.08578145],\n",
       "       [ 5.50380133],\n",
       "       [ 5.77414668],\n",
       "       [ 9.46974623],\n",
       "       [ 8.52300587],\n",
       "       [10.23158725],\n",
       "       [ 5.49729416],\n",
       "       [ 7.4758377 ],\n",
       "       [ 5.43652864],\n",
       "       [ 5.87171389],\n",
       "       [ 4.56385533],\n",
       "       [ 9.78967209],\n",
       "       [ 8.63374116],\n",
       "       [ 7.82147784],\n",
       "       [ 6.68820131],\n",
       "       [ 7.44209212],\n",
       "       [10.77495995],\n",
       "       [ 8.51316168],\n",
       "       [10.27192904],\n",
       "       [ 9.04176934],\n",
       "       [ 7.48617602],\n",
       "       [ 6.33953803],\n",
       "       [ 7.30959953],\n",
       "       [ 3.49720385],\n",
       "       [ 8.04534918]])"
      ]
     },
     "execution_count": 5,
     "metadata": {},
     "output_type": "execute_result"
    }
   ],
   "source": [
    "y"
   ]
  },
  {
   "cell_type": "markdown",
   "metadata": {},
   "source": [
    "#### Computing parameters"
   ]
  },
  {
   "cell_type": "code",
   "execution_count": 3,
   "metadata": {},
   "outputs": [],
   "source": [
    "X_b = np.c_[np.ones((100, 1)), X] # add x0 = 1 to each instance \n",
    "theta_best = np.linalg.inv(X_b.T.dot(X_b)).dot(X_b.T).dot(y)"
   ]
  },
  {
   "cell_type": "code",
   "execution_count": 10,
   "metadata": {},
   "outputs": [
    {
     "name": "stdout",
     "output_type": "stream",
     "text": [
      "100  ||  100\n"
     ]
    }
   ],
   "source": [
    "print(len(X), ' || ', len(X_b))"
   ]
  },
  {
   "cell_type": "code",
   "execution_count": 11,
   "metadata": {},
   "outputs": [
    {
     "name": "stdout",
     "output_type": "stream",
     "text": [
      "1  ||  2\n"
     ]
    }
   ],
   "source": [
    "print(len(X[0]), ' || ', len(X_b[0]))"
   ]
  },
  {
   "cell_type": "code",
   "execution_count": 12,
   "metadata": {
    "scrolled": true
   },
   "outputs": [
    {
     "data": {
      "text/plain": [
       "array([[1.        , 0.99871575],\n",
       "       [1.        , 1.92179766],\n",
       "       [1.        , 1.91798679],\n",
       "       [1.        , 1.18807017],\n",
       "       [1.        , 0.61182226],\n",
       "       [1.        , 0.61146975],\n",
       "       [1.        , 1.63124369],\n",
       "       [1.        , 0.88833787],\n",
       "       [1.        , 1.40850688],\n",
       "       [1.        , 0.95763938],\n",
       "       [1.        , 0.53361714],\n",
       "       [1.        , 1.76030164],\n",
       "       [1.        , 0.09832532],\n",
       "       [1.        , 0.77994545],\n",
       "       [1.        , 1.78933299],\n",
       "       [1.        , 0.1373443 ],\n",
       "       [1.        , 1.7804398 ],\n",
       "       [1.        , 0.0141322 ],\n",
       "       [1.        , 1.63995046],\n",
       "       [1.        , 0.3174052 ],\n",
       "       [1.        , 0.46474161],\n",
       "       [1.        , 1.99031908],\n",
       "       [1.        , 1.32249816],\n",
       "       [1.        , 0.73749177],\n",
       "       [1.        , 1.4748429 ],\n",
       "       [1.        , 0.58845142],\n",
       "       [1.        , 1.83996329],\n",
       "       [1.        , 1.66811792],\n",
       "       [1.        , 0.3508386 ],\n",
       "       [1.        , 0.58295108],\n",
       "       [1.        , 0.04912646],\n",
       "       [1.        , 0.93021336],\n",
       "       [1.        , 1.21410771],\n",
       "       [1.        , 1.71885357],\n",
       "       [1.        , 0.92781703],\n",
       "       [1.        , 1.88088807],\n",
       "       [1.        , 0.53831217],\n",
       "       [1.        , 1.75263276],\n",
       "       [1.        , 0.10436011],\n",
       "       [1.        , 0.93560149],\n",
       "       [1.        , 1.93703367],\n",
       "       [1.        , 1.0045385 ],\n",
       "       [1.        , 0.4598132 ],\n",
       "       [1.        , 1.08568746],\n",
       "       [1.        , 0.19736972],\n",
       "       [1.        , 1.78104625],\n",
       "       [1.        , 0.73998504],\n",
       "       [1.        , 0.51494816],\n",
       "       [1.        , 0.73041693],\n",
       "       [1.        , 1.40541373],\n",
       "       [1.        , 1.80603195],\n",
       "       [1.        , 1.56914149],\n",
       "       [1.        , 0.12273834],\n",
       "       [1.        , 1.06636659],\n",
       "       [1.        , 0.09259366],\n",
       "       [1.        , 1.60909993],\n",
       "       [1.        , 1.93035661],\n",
       "       [1.        , 1.41936579],\n",
       "       [1.        , 1.22806627],\n",
       "       [1.        , 1.71072505],\n",
       "       [1.        , 0.16749138],\n",
       "       [1.        , 1.14268951],\n",
       "       [1.        , 1.19609975],\n",
       "       [1.        , 1.33506805],\n",
       "       [1.        , 1.85030167],\n",
       "       [1.        , 0.00667437],\n",
       "       [1.        , 1.39755609],\n",
       "       [1.        , 1.83558436],\n",
       "       [1.        , 1.00562705],\n",
       "       [1.        , 1.98953805],\n",
       "       [1.        , 0.407157  ],\n",
       "       [1.        , 0.88569942],\n",
       "       [1.        , 0.45472216],\n",
       "       [1.        , 0.51790576],\n",
       "       [1.        , 1.48332138],\n",
       "       [1.        , 0.02375837],\n",
       "       [1.        , 0.3810671 ],\n",
       "       [1.        , 0.31928695],\n",
       "       [1.        , 1.87334319],\n",
       "       [1.        , 1.37360007],\n",
       "       [1.        , 1.45384704],\n",
       "       [1.        , 0.72590142],\n",
       "       [1.        , 1.36898988],\n",
       "       [1.        , 0.32744017],\n",
       "       [1.        , 0.38936674],\n",
       "       [1.        , 0.25983435],\n",
       "       [1.        , 1.78803454],\n",
       "       [1.        , 1.41230834],\n",
       "       [1.        , 1.18318717],\n",
       "       [1.        , 1.54439775],\n",
       "       [1.        , 1.53254222],\n",
       "       [1.        , 1.75744293],\n",
       "       [1.        , 1.74071599],\n",
       "       [1.        , 1.82603764],\n",
       "       [1.        , 1.01577731],\n",
       "       [1.        , 0.99672797],\n",
       "       [1.        , 0.32831506],\n",
       "       [1.        , 1.74191156],\n",
       "       [1.        , 0.36289543],\n",
       "       [1.        , 1.32843889]])"
      ]
     },
     "execution_count": 12,
     "metadata": {},
     "output_type": "execute_result"
    }
   ],
   "source": [
    "X_b"
   ]
  },
  {
   "cell_type": "markdown",
   "metadata": {},
   "source": [
    "### Our theta-hyperparameters"
   ]
  },
  {
   "cell_type": "code",
   "execution_count": 7,
   "metadata": {},
   "outputs": [
    {
     "data": {
      "text/plain": [
       "array([[4.18593593],\n",
       "       [2.89946367]])"
      ]
     },
     "execution_count": 7,
     "metadata": {},
     "output_type": "execute_result"
    }
   ],
   "source": [
    "theta_best"
   ]
  },
  {
   "cell_type": "markdown",
   "metadata": {},
   "source": [
    "### y(i) = theta_best(0) + theta best(1) * x(i)\n",
    "## OR\n",
    "### <i>y = theta_best . x</i>,\n",
    "<br> where x is the instance’s feature vector, with x_1 always = 1;<br> and theta_best is the model’s parameter vector, containing the bias term θ_0; <br> and dot product of the vectors θ and x"
   ]
  },
  {
   "cell_type": "markdown",
   "metadata": {},
   "source": [
    "#### Making predictions on Training Data"
   ]
  },
  {
   "cell_type": "code",
   "execution_count": 15,
   "metadata": {},
   "outputs": [
    {
     "data": {
      "text/plain": [
       "array([7.08167598])"
      ]
     },
     "execution_count": 15,
     "metadata": {},
     "output_type": "execute_result"
    }
   ],
   "source": [
    "theta_best[0] + theta_best[1] * X[0] # should return  5.62344266"
   ]
  },
  {
   "cell_type": "markdown",
   "metadata": {},
   "source": [
    "#### Making predictions on following generated Test Data"
   ]
  },
  {
   "cell_type": "code",
   "execution_count": 17,
   "metadata": {},
   "outputs": [
    {
     "data": {
      "text/plain": [
       "array([[0],\n",
       "       [2]])"
      ]
     },
     "execution_count": 17,
     "metadata": {},
     "output_type": "execute_result"
    }
   ],
   "source": [
    "X_new = np.array([[0], [2]])\n",
    "X_new"
   ]
  },
  {
   "cell_type": "code",
   "execution_count": 18,
   "metadata": {},
   "outputs": [
    {
     "data": {
      "text/plain": [
       "array([[1., 0.],\n",
       "       [1., 2.]])"
      ]
     },
     "execution_count": 18,
     "metadata": {},
     "output_type": "execute_result"
    }
   ],
   "source": [
    "X_new_b = np.c_[np.ones((2, 1)), X_new] # add x0 = 1 to each instance\n",
    "X_new_b"
   ]
  },
  {
   "cell_type": "code",
   "execution_count": 19,
   "metadata": {},
   "outputs": [
    {
     "data": {
      "text/plain": [
       "array([[4.18593593],\n",
       "       [9.98486327]])"
      ]
     },
     "execution_count": 19,
     "metadata": {},
     "output_type": "execute_result"
    }
   ],
   "source": [
    "y_predict = X_new_b.dot(theta_best)\n",
    "y_predict"
   ]
  },
  {
   "cell_type": "markdown",
   "metadata": {},
   "source": [
    "### Plotting model's predictions"
   ]
  },
  {
   "cell_type": "code",
   "execution_count": 21,
   "metadata": {},
   "outputs": [
    {
     "data": {
      "image/png": "[encoded data removed]",
      "text/plain": [
       "<Figure size 432x288 with 1 Axes>"
      ]
     },
     "metadata": {
      "needs_background": "light"
     },
     "output_type": "display_data"
    }
   ],
   "source": [
    "import matplotlib.pyplot as plt\n",
    "%matplotlib inline  \n",
    "\n",
    "plt.plot(X_new, y_predict, \"r-\") \n",
    "plt.plot(X, y, \"b.\") \n",
    "plt.axis([0, 2, 0, 15]) \n",
    "plt.show()"
   ]
  },
  {
   "cell_type": "markdown",
   "metadata": {},
   "source": [
    "### Performing Linear Regression"
   ]
  },
  {
   "cell_type": "code",
   "execution_count": 22,
   "metadata": {},
   "outputs": [],
   "source": [
    "from sklearn.linear_model import LinearRegression\n",
    "lin_reg = LinearRegression()"
   ]
  },
  {
   "cell_type": "code",
   "execution_count": 23,
   "metadata": {},
   "outputs": [
    {
     "data": {
      "text/plain": [
       "LinearRegression(copy_X=True, fit_intercept=True, n_jobs=None, normalize=False)"
      ]
     },
     "execution_count": 23,
     "metadata": {},
     "output_type": "execute_result"
    }
   ],
   "source": [
    "lin_reg.fit(X, y)"
   ]
  },
  {
   "cell_type": "markdown",
   "metadata": {},
   "source": [
    " 'intercept_'  - bias term\n",
    "<br>\n",
    " 'coef_' - feature weights"
   ]
  },
  {
   "cell_type": "code",
   "execution_count": 24,
   "metadata": {},
   "outputs": [
    {
     "data": {
      "text/plain": [
       "(array([4.18593593]), array([[2.89946367]]))"
      ]
     },
     "execution_count": 24,
     "metadata": {},
     "output_type": "execute_result"
    }
   ],
   "source": [
    "lin_reg.intercept_, lin_reg.coef_"
   ]
  },
  {
   "cell_type": "code",
   "execution_count": 26,
   "metadata": {},
   "outputs": [
    {
     "data": {
      "text/plain": [
       "array([[4.18593593],\n",
       "       [2.89946367]])"
      ]
     },
     "execution_count": 26,
     "metadata": {},
     "output_type": "execute_result"
    }
   ],
   "source": [
    "theta_best # just for comparising with Normalised Form"
   ]
  },
  {
   "cell_type": "code",
   "execution_count": 27,
   "metadata": {},
   "outputs": [
    {
     "data": {
      "text/plain": [
       "array([[4.18593593],\n",
       "       [9.98486327]])"
      ]
     },
     "execution_count": 27,
     "metadata": {},
     "output_type": "execute_result"
    }
   ],
   "source": [
    "lin_reg.predict(X_new)"
   ]
  },
  {
   "cell_type": "code",
   "execution_count": 28,
   "metadata": {},
   "outputs": [
    {
     "data": {
      "text/plain": [
       "array([[4.18593593],\n",
       "       [9.98486327]])"
      ]
     },
     "execution_count": 28,
     "metadata": {},
     "output_type": "execute_result"
    }
   ],
   "source": [
    "y_predict # just for comparison with Normalised Form"
   ]
  },
  {
   "cell_type": "markdown",
   "metadata": {},
   "source": [
    "<p>The LinearRegression class is based on the scipy.linalg.lstsq() function\n",
    "(the name stands for “least squares”), which we could call directly:</p>"
   ]
  },
  {
   "cell_type": "code",
   "execution_count": 29,
   "metadata": {},
   "outputs": [
    {
     "data": {
      "text/plain": [
       "array([[4.18593593],\n",
       "       [2.89946367]])"
      ]
     },
     "execution_count": 29,
     "metadata": {},
     "output_type": "execute_result"
    }
   ],
   "source": [
    "theta_best_svd, residuals, rank, s = np.linalg.lstsq(X_b, y, rcond=1e-6) \n",
    "theta_best_svd"
   ]
  },
  {
   "attachments": {
    "image.png": {
     "image/png": "[encoded data removed]"
    }
   },
   "cell_type": "markdown",
   "metadata": {},
   "source": [
    "![image.png](attachment:image.png)\n",
    "<br>\n",
    "X plus is pseudoinverse of X and can be computed as follows:"
   ]
  },
  {
   "cell_type": "code",
   "execution_count": 30,
   "metadata": {},
   "outputs": [
    {
     "data": {
      "text/plain": [
       "array([[4.18593593],\n",
       "       [2.89946367]])"
      ]
     },
     "execution_count": 30,
     "metadata": {},
     "output_type": "execute_result"
    }
   ],
   "source": [
    "np.linalg.pinv(X_b).dot(y)"
   ]
  },
  {
   "cell_type": "code",
   "execution_count": null,
   "metadata": {},
   "outputs": [],
   "source": []
  }
 ],
 "metadata": {
  "kernelspec": {
   "display_name": "Python 3",
   "language": "python",
   "name": "python3"
  },
  "language_info": {
   "codemirror_mode": {
    "name": "ipython",
    "version": 3
   },
   "file_extension": ".py",
   "mimetype": "text/x-python",
   "name": "python",
   "nbconvert_exporter": "python",
   "pygments_lexer": "ipython3",
   "version": "3.7.4"
  }
 },
 "nbformat": 4,
 "nbformat_minor": 2
}
