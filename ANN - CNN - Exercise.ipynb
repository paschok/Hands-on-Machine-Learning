{
 "cells": [
  {
   "cell_type": "markdown",
   "metadata": {},
   "source": [
    "## Build your own CNN from scratch and try to achieve the highest possible accuracy on MNIST"
   ]
  },
  {
   "cell_type": "markdown",
   "metadata": {},
   "source": [
    "### All needed imports"
   ]
  },
  {
   "cell_type": "code",
   "execution_count": 4,
   "metadata": {},
   "outputs": [],
   "source": [
    "import tensorflow as tf\n",
    "from tensorflow import keras\n",
    "\n",
    "import numpy as np\n",
    "\n",
    "# to make this notebook's output stable across runs\n",
    "np.random.seed(42)\n",
    "tf.random.set_seed(42)"
   ]
  },
  {
   "cell_type": "code",
   "execution_count": 5,
   "metadata": {},
   "outputs": [],
   "source": [
    "(X_train_full, y_train_full), (X_test, y_test) = keras.datasets.mnist.load_data()\n",
    "X_train_full = X_train_full / 255.\n",
    "X_test = X_test / 255.\n",
    "X_train, X_valid = X_train_full[:-5000], X_train_full[-5000:]\n",
    "y_train, y_valid = y_train_full[:-5000], y_train_full[-5000:]\n",
    "\n",
    "X_train = X_train[..., np.newaxis]\n",
    "X_valid = X_valid[..., np.newaxis]\n",
    "X_test = X_test[..., np.newaxis]"
   ]
  },
  {
   "cell_type": "markdown",
   "metadata": {},
   "source": [
    "#### The following model uses 2 convolutional layers, followed by 1 pooling layer, then dropout 25%, then a dense layer, another dropout layer but with 50% dropout, and finally the output layer. "
   ]
  },
  {
   "cell_type": "code",
   "execution_count": 6,
   "metadata": {},
   "outputs": [],
   "source": [
    "model = keras.models.Sequential([\n",
    "    keras.layers.Conv2D(32, kernel_size=3, padding=\"same\", activation=\"relu\"),\n",
    "    keras.layers.Conv2D(64, kernel_size=3, padding=\"same\", activation=\"relu\"),\n",
    "    keras.layers.MaxPool2D(),\n",
    "    keras.layers.Flatten(),\n",
    "    keras.layers.Dropout(0.25),\n",
    "    keras.layers.Dense(128, activation=\"relu\"),\n",
    "    keras.layers.Dropout(0.5),\n",
    "    keras.layers.Dense(10, activation=\"softmax\")\n",
    "])\n",
    "model.compile(loss=\"sparse_categorical_crossentropy\", optimizer=\"nadam\",\n",
    "              metrics=[\"accuracy\"])"
   ]
  },
  {
   "cell_type": "code",
   "execution_count": 7,
   "metadata": {},
   "outputs": [
    {
     "name": "stdout",
     "output_type": "stream",
     "text": [
      "Train on 55000 samples, validate on 5000 samples\n",
      "Epoch 1/10\n",
      "55000/55000 [==============================] - 99s 2ms/sample - loss: 0.1882 - accuracy: 0.9422 - val_loss: 0.0488 - val_accuracy: 0.9870\n",
      "Epoch 2/10\n",
      "55000/55000 [==============================] - 97s 2ms/sample - loss: 0.0829 - accuracy: 0.9750 - val_loss: 0.0423 - val_accuracy: 0.9900\n",
      "Epoch 3/10\n",
      "55000/55000 [==============================] - 99s 2ms/sample - loss: 0.0609 - accuracy: 0.9808 - val_loss: 0.0345 - val_accuracy: 0.9900\n",
      "Epoch 4/10\n",
      "55000/55000 [==============================] - 106s 2ms/sample - loss: 0.0483 - accuracy: 0.9853 - val_loss: 0.0373 - val_accuracy: 0.9898\n",
      "Epoch 5/10\n",
      "55000/55000 [==============================] - 101s 2ms/sample - loss: 0.0420 - accuracy: 0.9868 - val_loss: 0.0348 - val_accuracy: 0.9914\n",
      "Epoch 6/10\n",
      "55000/55000 [==============================] - 97s 2ms/sample - loss: 0.0361 - accuracy: 0.9885 - val_loss: 0.0303 - val_accuracy: 0.9916\n",
      "Epoch 7/10\n",
      "55000/55000 [==============================] - 98s 2ms/sample - loss: 0.0320 - accuracy: 0.9897 - val_loss: 0.0376 - val_accuracy: 0.9912\n",
      "Epoch 8/10\n",
      "55000/55000 [==============================] - 100s 2ms/sample - loss: 0.0291 - accuracy: 0.9902 - val_loss: 0.0365 - val_accuracy: 0.9918\n",
      "Epoch 9/10\n",
      "55000/55000 [==============================] - 98s 2ms/sample - loss: 0.0262 - accuracy: 0.9914 - val_loss: 0.0413 - val_accuracy: 0.9920\n",
      "Epoch 10/10\n",
      "55000/55000 [==============================] - 93s 2ms/sample - loss: 0.0229 - accuracy: 0.9923 - val_loss: 0.0391 - val_accuracy: 0.9928\n"
     ]
    },
    {
     "data": {
      "text/plain": [
       "<tensorflow.python.keras.callbacks.History at 0x7fbebb2c59d0>"
      ]
     },
     "execution_count": 7,
     "metadata": {},
     "output_type": "execute_result"
    }
   ],
   "source": [
    "model.fit(X_train, y_train, epochs=10, validation_data=(X_valid, y_valid))"
   ]
  },
  {
   "cell_type": "code",
   "execution_count": 8,
   "metadata": {},
   "outputs": [
    {
     "name": "stdout",
     "output_type": "stream",
     "text": [
      "10000/10000 [==============================] - 2s 152us/sample - loss: 0.0321 - accuracy: 0.9913\n"
     ]
    },
    {
     "data": {
      "text/plain": [
       "[0.03205533083348336, 0.9913]"
      ]
     },
     "execution_count": 8,
     "metadata": {},
     "output_type": "execute_result"
    }
   ],
   "source": [
    "model.evaluate(X_test, y_test)"
   ]
  },
  {
   "cell_type": "code",
   "execution_count": null,
   "metadata": {},
   "outputs": [],
   "source": []
  },
  {
   "cell_type": "code",
   "execution_count": null,
   "metadata": {},
   "outputs": [],
   "source": []
  }
 ],
 "metadata": {
  "kernelspec": {
   "display_name": "Python 3",
   "language": "python",
   "name": "python3"
  },
  "language_info": {
   "codemirror_mode": {
    "name": "ipython",
    "version": 3
   },
   "file_extension": ".py",
   "mimetype": "text/x-python",
   "name": "python",
   "nbconvert_exporter": "python",
   "pygments_lexer": "ipython3",
   "version": "3.7.4"
  }
 },
 "nbformat": 4,
 "nbformat_minor": 2
}
