{
 "cells": [
  {
   "cell_type": "markdown",
   "metadata": {},
   "source": [
    "### The Normal Equation"
   ]
  },
  {
   "attachments": {
    "image.png": {
     "image/png": "[encoded data removed]"
    }
   },
   "cell_type": "markdown",
   "metadata": {},
   "source": [
    "![image.png](attachment:image.png)"
   ]
  },
  {
   "cell_type": "code",
   "execution_count": 1,
   "metadata": {},
   "outputs": [],
   "source": [
    "import numpy as np"
   ]
  },
  {
   "cell_type": "markdown",
   "metadata": {},
   "source": [
    "#### Generating labels and features"
   ]
  },
  {
   "cell_type": "code",
   "execution_count": 2,
   "metadata": {},
   "outputs": [],
   "source": [
    "X = 2 * np.random.rand(100, 1)\n",
    "y = 4 + 3 * X + np.random.randn(100, 1)"
   ]
  },
  {
   "cell_type": "code",
   "execution_count": 3,
   "metadata": {
    "scrolled": true
   },
   "outputs": [
    {
     "data": {
      "text/plain": [
       "array([[0.68497634],\n",
       "       [1.57872939],\n",
       "       [0.65193228],\n",
       "       [1.86961652],\n",
       "       [0.11084783],\n",
       "       [1.17053596],\n",
       "       [0.95024834],\n",
       "       [1.10958836],\n",
       "       [1.31046762],\n",
       "       [0.8726345 ],\n",
       "       [0.60046678],\n",
       "       [1.28114527],\n",
       "       [0.8138737 ],\n",
       "       [0.97166176],\n",
       "       [1.12374619],\n",
       "       [0.1227204 ],\n",
       "       [1.45928108],\n",
       "       [0.81145974],\n",
       "       [1.42836089],\n",
       "       [0.9386499 ],\n",
       "       [1.8598643 ],\n",
       "       [0.05400539],\n",
       "       [1.84386585],\n",
       "       [0.43241402],\n",
       "       [0.58964057],\n",
       "       [0.32482112],\n",
       "       [1.26558811],\n",
       "       [1.97115863],\n",
       "       [0.55395497],\n",
       "       [1.19179562],\n",
       "       [1.22425614],\n",
       "       [1.7429903 ],\n",
       "       [1.96726702],\n",
       "       [0.98030486],\n",
       "       [1.9061789 ],\n",
       "       [0.77211819],\n",
       "       [1.82332582],\n",
       "       [0.28046461],\n",
       "       [1.09952343],\n",
       "       [0.5017271 ],\n",
       "       [0.74237274],\n",
       "       [0.90594395],\n",
       "       [0.55652738],\n",
       "       [0.23157161],\n",
       "       [1.31961991],\n",
       "       [1.82670237],\n",
       "       [1.12004958],\n",
       "       [0.58089874],\n",
       "       [1.29852023],\n",
       "       [1.68737853],\n",
       "       [1.46629512],\n",
       "       [0.22903617],\n",
       "       [1.22187361],\n",
       "       [1.74842334],\n",
       "       [1.2666007 ],\n",
       "       [0.51683856],\n",
       "       [0.8186512 ],\n",
       "       [0.80525076],\n",
       "       [0.33870827],\n",
       "       [0.2677287 ],\n",
       "       [0.17201742],\n",
       "       [0.84114613],\n",
       "       [1.72414   ],\n",
       "       [1.98782058],\n",
       "       [1.35842918],\n",
       "       [0.3784101 ],\n",
       "       [0.24099741],\n",
       "       [0.76566199],\n",
       "       [0.30769422],\n",
       "       [0.03854841],\n",
       "       [0.9030036 ],\n",
       "       [0.83259003],\n",
       "       [0.30014756],\n",
       "       [1.18511726],\n",
       "       [0.65791631],\n",
       "       [1.3785879 ],\n",
       "       [1.81829859],\n",
       "       [1.06851897],\n",
       "       [1.39222211],\n",
       "       [1.2452824 ],\n",
       "       [1.35496455],\n",
       "       [1.16295398],\n",
       "       [1.07704205],\n",
       "       [1.86413987],\n",
       "       [0.25869636],\n",
       "       [0.93968995],\n",
       "       [1.12139658],\n",
       "       [0.92876992],\n",
       "       [1.58076073],\n",
       "       [1.16463862],\n",
       "       [1.93084039],\n",
       "       [1.94008159],\n",
       "       [0.24705126],\n",
       "       [0.35538627],\n",
       "       [0.60096364],\n",
       "       [1.31714534],\n",
       "       [1.19441831],\n",
       "       [1.49382056],\n",
       "       [0.99435487],\n",
       "       [1.27684812]])"
      ]
     },
     "execution_count": 3,
     "metadata": {},
     "output_type": "execute_result"
    }
   ],
   "source": [
    "X"
   ]
  },
  {
   "cell_type": "code",
   "execution_count": 4,
   "metadata": {
    "scrolled": true
   },
   "outputs": [
    {
     "data": {
      "text/plain": [
       "array([[ 6.42283937],\n",
       "       [ 9.34391803],\n",
       "       [ 5.48446207],\n",
       "       [ 8.30825275],\n",
       "       [ 4.46158646],\n",
       "       [ 7.36059623],\n",
       "       [ 7.50681059],\n",
       "       [ 5.52709111],\n",
       "       [ 7.33717567],\n",
       "       [ 6.7901066 ],\n",
       "       [ 4.5892073 ],\n",
       "       [ 9.35443654],\n",
       "       [ 6.63539761],\n",
       "       [ 8.73980504],\n",
       "       [ 8.07478131],\n",
       "       [ 4.33517799],\n",
       "       [ 6.65209204],\n",
       "       [ 6.52131669],\n",
       "       [ 9.20458233],\n",
       "       [ 7.73587561],\n",
       "       [10.72518303],\n",
       "       [ 3.7739509 ],\n",
       "       [11.00931053],\n",
       "       [ 5.94340384],\n",
       "       [ 5.74331821],\n",
       "       [ 5.6864619 ],\n",
       "       [ 6.33847895],\n",
       "       [ 9.41130356],\n",
       "       [ 4.00742083],\n",
       "       [ 8.52530575],\n",
       "       [ 6.41157016],\n",
       "       [10.86514607],\n",
       "       [ 9.34837128],\n",
       "       [ 5.56857186],\n",
       "       [ 9.2371468 ],\n",
       "       [ 7.93992134],\n",
       "       [ 9.3088848 ],\n",
       "       [ 2.77343644],\n",
       "       [ 6.67861961],\n",
       "       [ 4.53955913],\n",
       "       [ 7.20232592],\n",
       "       [ 6.69886505],\n",
       "       [ 5.56683684],\n",
       "       [ 5.34577086],\n",
       "       [ 5.93750766],\n",
       "       [10.38458771],\n",
       "       [ 6.86793811],\n",
       "       [ 7.76308875],\n",
       "       [ 8.25583017],\n",
       "       [ 7.94040897],\n",
       "       [ 6.98869126],\n",
       "       [ 3.73310244],\n",
       "       [ 7.46981994],\n",
       "       [ 8.81109199],\n",
       "       [ 7.91469973],\n",
       "       [ 4.2362496 ],\n",
       "       [ 6.53767536],\n",
       "       [ 5.04505058],\n",
       "       [ 4.29129508],\n",
       "       [ 5.56630348],\n",
       "       [ 3.78541767],\n",
       "       [ 6.53514421],\n",
       "       [10.10163329],\n",
       "       [ 9.73077333],\n",
       "       [ 7.88427746],\n",
       "       [ 5.13855767],\n",
       "       [ 3.3980952 ],\n",
       "       [ 7.3913972 ],\n",
       "       [ 5.10856123],\n",
       "       [ 2.489472  ],\n",
       "       [ 6.03003821],\n",
       "       [ 7.16161255],\n",
       "       [ 3.71750971],\n",
       "       [ 8.03356111],\n",
       "       [ 6.29812129],\n",
       "       [ 7.83376024],\n",
       "       [ 9.67654955],\n",
       "       [ 6.22080804],\n",
       "       [ 8.50651661],\n",
       "       [ 6.97955848],\n",
       "       [ 7.76301363],\n",
       "       [ 6.82502642],\n",
       "       [ 7.56469408],\n",
       "       [ 9.60895729],\n",
       "       [ 5.25665859],\n",
       "       [ 6.59336135],\n",
       "       [ 8.55734138],\n",
       "       [ 5.54187253],\n",
       "       [ 9.57698558],\n",
       "       [ 6.47087566],\n",
       "       [11.21093404],\n",
       "       [10.38073973],\n",
       "       [ 5.80610836],\n",
       "       [ 5.50657004],\n",
       "       [ 5.61223061],\n",
       "       [ 8.43027986],\n",
       "       [ 6.83880513],\n",
       "       [ 8.22596026],\n",
       "       [ 6.96597968],\n",
       "       [ 8.3182468 ]])"
      ]
     },
     "execution_count": 4,
     "metadata": {},
     "output_type": "execute_result"
    }
   ],
   "source": [
    "y"
   ]
  },
  {
   "cell_type": "markdown",
   "metadata": {},
   "source": [
    "#### Computing parameters"
   ]
  },
  {
   "cell_type": "code",
   "execution_count": 5,
   "metadata": {},
   "outputs": [],
   "source": [
    "X_b = np.c_[np.ones((100, 1)), X] # add x0 = 1 to each instance \n",
    "theta_best = np.linalg.inv(X_b.T.dot(X_b)).dot(X_b.T).dot(y)"
   ]
  },
  {
   "cell_type": "code",
   "execution_count": 6,
   "metadata": {},
   "outputs": [
    {
     "name": "stdout",
     "output_type": "stream",
     "text": [
      "100  ||  100\n"
     ]
    }
   ],
   "source": [
    "print(len(X), ' || ', len(X_b))"
   ]
  },
  {
   "cell_type": "code",
   "execution_count": 7,
   "metadata": {},
   "outputs": [
    {
     "name": "stdout",
     "output_type": "stream",
     "text": [
      "1  ||  2\n"
     ]
    }
   ],
   "source": [
    "print(len(X[0]), ' || ', len(X_b[0]))"
   ]
  },
  {
   "cell_type": "code",
   "execution_count": 8,
   "metadata": {
    "scrolled": true
   },
   "outputs": [
    {
     "data": {
      "text/plain": [
       "array([[1.        , 0.68497634],\n",
       "       [1.        , 1.57872939],\n",
       "       [1.        , 0.65193228],\n",
       "       [1.        , 1.86961652],\n",
       "       [1.        , 0.11084783],\n",
       "       [1.        , 1.17053596],\n",
       "       [1.        , 0.95024834],\n",
       "       [1.        , 1.10958836],\n",
       "       [1.        , 1.31046762],\n",
       "       [1.        , 0.8726345 ],\n",
       "       [1.        , 0.60046678],\n",
       "       [1.        , 1.28114527],\n",
       "       [1.        , 0.8138737 ],\n",
       "       [1.        , 0.97166176],\n",
       "       [1.        , 1.12374619],\n",
       "       [1.        , 0.1227204 ],\n",
       "       [1.        , 1.45928108],\n",
       "       [1.        , 0.81145974],\n",
       "       [1.        , 1.42836089],\n",
       "       [1.        , 0.9386499 ],\n",
       "       [1.        , 1.8598643 ],\n",
       "       [1.        , 0.05400539],\n",
       "       [1.        , 1.84386585],\n",
       "       [1.        , 0.43241402],\n",
       "       [1.        , 0.58964057],\n",
       "       [1.        , 0.32482112],\n",
       "       [1.        , 1.26558811],\n",
       "       [1.        , 1.97115863],\n",
       "       [1.        , 0.55395497],\n",
       "       [1.        , 1.19179562],\n",
       "       [1.        , 1.22425614],\n",
       "       [1.        , 1.7429903 ],\n",
       "       [1.        , 1.96726702],\n",
       "       [1.        , 0.98030486],\n",
       "       [1.        , 1.9061789 ],\n",
       "       [1.        , 0.77211819],\n",
       "       [1.        , 1.82332582],\n",
       "       [1.        , 0.28046461],\n",
       "       [1.        , 1.09952343],\n",
       "       [1.        , 0.5017271 ],\n",
       "       [1.        , 0.74237274],\n",
       "       [1.        , 0.90594395],\n",
       "       [1.        , 0.55652738],\n",
       "       [1.        , 0.23157161],\n",
       "       [1.        , 1.31961991],\n",
       "       [1.        , 1.82670237],\n",
       "       [1.        , 1.12004958],\n",
       "       [1.        , 0.58089874],\n",
       "       [1.        , 1.29852023],\n",
       "       [1.        , 1.68737853],\n",
       "       [1.        , 1.46629512],\n",
       "       [1.        , 0.22903617],\n",
       "       [1.        , 1.22187361],\n",
       "       [1.        , 1.74842334],\n",
       "       [1.        , 1.2666007 ],\n",
       "       [1.        , 0.51683856],\n",
       "       [1.        , 0.8186512 ],\n",
       "       [1.        , 0.80525076],\n",
       "       [1.        , 0.33870827],\n",
       "       [1.        , 0.2677287 ],\n",
       "       [1.        , 0.17201742],\n",
       "       [1.        , 0.84114613],\n",
       "       [1.        , 1.72414   ],\n",
       "       [1.        , 1.98782058],\n",
       "       [1.        , 1.35842918],\n",
       "       [1.        , 0.3784101 ],\n",
       "       [1.        , 0.24099741],\n",
       "       [1.        , 0.76566199],\n",
       "       [1.        , 0.30769422],\n",
       "       [1.        , 0.03854841],\n",
       "       [1.        , 0.9030036 ],\n",
       "       [1.        , 0.83259003],\n",
       "       [1.        , 0.30014756],\n",
       "       [1.        , 1.18511726],\n",
       "       [1.        , 0.65791631],\n",
       "       [1.        , 1.3785879 ],\n",
       "       [1.        , 1.81829859],\n",
       "       [1.        , 1.06851897],\n",
       "       [1.        , 1.39222211],\n",
       "       [1.        , 1.2452824 ],\n",
       "       [1.        , 1.35496455],\n",
       "       [1.        , 1.16295398],\n",
       "       [1.        , 1.07704205],\n",
       "       [1.        , 1.86413987],\n",
       "       [1.        , 0.25869636],\n",
       "       [1.        , 0.93968995],\n",
       "       [1.        , 1.12139658],\n",
       "       [1.        , 0.92876992],\n",
       "       [1.        , 1.58076073],\n",
       "       [1.        , 1.16463862],\n",
       "       [1.        , 1.93084039],\n",
       "       [1.        , 1.94008159],\n",
       "       [1.        , 0.24705126],\n",
       "       [1.        , 0.35538627],\n",
       "       [1.        , 0.60096364],\n",
       "       [1.        , 1.31714534],\n",
       "       [1.        , 1.19441831],\n",
       "       [1.        , 1.49382056],\n",
       "       [1.        , 0.99435487],\n",
       "       [1.        , 1.27684812]])"
      ]
     },
     "execution_count": 8,
     "metadata": {},
     "output_type": "execute_result"
    }
   ],
   "source": [
    "X_b"
   ]
  },
  {
   "cell_type": "markdown",
   "metadata": {},
   "source": [
    "### Our theta-hyperparameters"
   ]
  },
  {
   "cell_type": "code",
   "execution_count": 9,
   "metadata": {},
   "outputs": [
    {
     "data": {
      "text/plain": [
       "array([[3.71888682],\n",
       "       [3.19667687]])"
      ]
     },
     "execution_count": 9,
     "metadata": {},
     "output_type": "execute_result"
    }
   ],
   "source": [
    "theta_best"
   ]
  },
  {
   "cell_type": "markdown",
   "metadata": {},
   "source": [
    "### y(i) = theta_best(0) + theta best(1) * x(i)\n",
    "## OR\n",
    "### <i>y = theta_best . x</i>,\n",
    "<br> where x is the instance’s feature vector, with x_1 always = 1;<br> and theta_best is the model’s parameter vector, containing the bias term θ_0; <br> and dot product of the vectors θ and x"
   ]
  },
  {
   "cell_type": "markdown",
   "metadata": {},
   "source": [
    "#### Making predictions on Training Data"
   ]
  },
  {
   "cell_type": "code",
   "execution_count": 10,
   "metadata": {},
   "outputs": [
    {
     "data": {
      "text/plain": [
       "array([5.90853484])"
      ]
     },
     "execution_count": 10,
     "metadata": {},
     "output_type": "execute_result"
    }
   ],
   "source": [
    "theta_best[0] + theta_best[1] * X[0] # should return  5.62344266"
   ]
  },
  {
   "cell_type": "markdown",
   "metadata": {},
   "source": [
    "#### Making predictions on following generated Test Data"
   ]
  },
  {
   "cell_type": "code",
   "execution_count": 11,
   "metadata": {},
   "outputs": [
    {
     "data": {
      "text/plain": [
       "array([[0],\n",
       "       [2]])"
      ]
     },
     "execution_count": 11,
     "metadata": {},
     "output_type": "execute_result"
    }
   ],
   "source": [
    "X_new = np.array([[0], [2]])\n",
    "X_new"
   ]
  },
  {
   "cell_type": "code",
   "execution_count": 12,
   "metadata": {},
   "outputs": [
    {
     "data": {
      "text/plain": [
       "array([[1., 0.],\n",
       "       [1., 2.]])"
      ]
     },
     "execution_count": 12,
     "metadata": {},
     "output_type": "execute_result"
    }
   ],
   "source": [
    "X_new_b = np.c_[np.ones((2, 1)), X_new] # add x0 = 1 to each instance\n",
    "X_new_b"
   ]
  },
  {
   "cell_type": "code",
   "execution_count": 13,
   "metadata": {},
   "outputs": [
    {
     "data": {
      "text/plain": [
       "array([[ 3.71888682],\n",
       "       [10.11224055]])"
      ]
     },
     "execution_count": 13,
     "metadata": {},
     "output_type": "execute_result"
    }
   ],
   "source": [
    "y_predict = X_new_b.dot(theta_best)\n",
    "y_predict"
   ]
  },
  {
   "cell_type": "markdown",
   "metadata": {},
   "source": [
    "### Plotting model's predictions"
   ]
  },
  {
   "cell_type": "code",
   "execution_count": 14,
   "metadata": {},
   "outputs": [
    {
     "data": {
      "image/png": "[encoded data removed]",
      "text/plain": [
       "<Figure size 432x288 with 1 Axes>"
      ]
     },
     "metadata": {
      "needs_background": "light"
     },
     "output_type": "display_data"
    }
   ],
   "source": [
    "import matplotlib.pyplot as plt\n",
    "%matplotlib inline  \n",
    "\n",
    "plt.plot(X_new, y_predict, \"r-\") \n",
    "plt.plot(X, y, \"b.\") \n",
    "plt.axis([0, 2, 0, 15]) \n",
    "plt.show()"
   ]
  },
  {
   "cell_type": "markdown",
   "metadata": {},
   "source": [
    "### Performing Linear Regression"
   ]
  },
  {
   "cell_type": "code",
   "execution_count": 15,
   "metadata": {},
   "outputs": [],
   "source": [
    "from sklearn.linear_model import LinearRegression\n",
    "lin_reg = LinearRegression()"
   ]
  },
  {
   "cell_type": "code",
   "execution_count": 16,
   "metadata": {},
   "outputs": [
    {
     "data": {
      "text/plain": [
       "LinearRegression(copy_X=True, fit_intercept=True, n_jobs=None, normalize=False)"
      ]
     },
     "execution_count": 16,
     "metadata": {},
     "output_type": "execute_result"
    }
   ],
   "source": [
    "lin_reg.fit(X, y)"
   ]
  },
  {
   "cell_type": "markdown",
   "metadata": {},
   "source": [
    " 'intercept_'  - bias term\n",
    "<br>\n",
    " 'coef_' - feature weights"
   ]
  },
  {
   "cell_type": "code",
   "execution_count": 17,
   "metadata": {},
   "outputs": [
    {
     "data": {
      "text/plain": [
       "(array([3.71888682]), array([[3.19667687]]))"
      ]
     },
     "execution_count": 17,
     "metadata": {},
     "output_type": "execute_result"
    }
   ],
   "source": [
    "lin_reg.intercept_, lin_reg.coef_"
   ]
  },
  {
   "cell_type": "code",
   "execution_count": 18,
   "metadata": {},
   "outputs": [
    {
     "data": {
      "text/plain": [
       "array([[3.71888682],\n",
       "       [3.19667687]])"
      ]
     },
     "execution_count": 18,
     "metadata": {},
     "output_type": "execute_result"
    }
   ],
   "source": [
    "theta_best # just for comparising with Normalised Form"
   ]
  },
  {
   "cell_type": "code",
   "execution_count": 19,
   "metadata": {},
   "outputs": [
    {
     "data": {
      "text/plain": [
       "array([[ 3.71888682],\n",
       "       [10.11224055]])"
      ]
     },
     "execution_count": 19,
     "metadata": {},
     "output_type": "execute_result"
    }
   ],
   "source": [
    "lin_reg.predict(X_new)"
   ]
  },
  {
   "cell_type": "code",
   "execution_count": 20,
   "metadata": {},
   "outputs": [
    {
     "data": {
      "text/plain": [
       "array([[ 3.71888682],\n",
       "       [10.11224055]])"
      ]
     },
     "execution_count": 20,
     "metadata": {},
     "output_type": "execute_result"
    }
   ],
   "source": [
    "y_predict # just for comparison with Normalised Form"
   ]
  },
  {
   "cell_type": "markdown",
   "metadata": {},
   "source": [
    "<p>The LinearRegression class is based on the scipy.linalg.lstsq() function\n",
    "(the name stands for “least squares”), which we could call directly:</p>"
   ]
  },
  {
   "cell_type": "code",
   "execution_count": 21,
   "metadata": {},
   "outputs": [
    {
     "data": {
      "text/plain": [
       "array([[3.71888682],\n",
       "       [3.19667687]])"
      ]
     },
     "execution_count": 21,
     "metadata": {},
     "output_type": "execute_result"
    }
   ],
   "source": [
    "theta_best_svd, residuals, rank, s = np.linalg.lstsq(X_b, y, rcond=1e-6) \n",
    "theta_best_svd"
   ]
  },
  {
   "attachments": {
    "image.png": {
     "image/png": "[encoded data removed]"
    }
   },
   "cell_type": "markdown",
   "metadata": {},
   "source": [
    "![image.png](attachment:image.png)\n",
    "<br>\n",
    "X plus is pseudoinverse of X and can be computed as follows:"
   ]
  },
  {
   "cell_type": "code",
   "execution_count": 22,
   "metadata": {},
   "outputs": [
    {
     "data": {
      "text/plain": [
       "array([[3.71888682],\n",
       "       [3.19667687]])"
      ]
     },
     "execution_count": 22,
     "metadata": {},
     "output_type": "execute_result"
    }
   ],
   "source": [
    "np.linalg.pinv(X_b).dot(y)"
   ]
  },
  {
   "cell_type": "markdown",
   "metadata": {},
   "source": [
    "### Batch Gradient Descent\n",
    "\n",
    "2/m *  X⊺(Xθ−y), where X⊺ is transposed"
   ]
  },
  {
   "cell_type": "code",
   "execution_count": 23,
   "metadata": {},
   "outputs": [],
   "source": [
    "eta = 0.1 # learning rate \n",
    "n_iterations = 1000\n",
    "m = 100"
   ]
  },
  {
   "cell_type": "code",
   "execution_count": 24,
   "metadata": {},
   "outputs": [],
   "source": [
    "theta = np.random.randn(2,1) # random initialization"
   ]
  },
  {
   "cell_type": "code",
   "execution_count": 25,
   "metadata": {},
   "outputs": [
    {
     "data": {
      "text/plain": [
       "array([[0.47527066],\n",
       "       [1.8015863 ]])"
      ]
     },
     "execution_count": 25,
     "metadata": {},
     "output_type": "execute_result"
    }
   ],
   "source": [
    "theta"
   ]
  },
  {
   "cell_type": "code",
   "execution_count": 26,
   "metadata": {},
   "outputs": [],
   "source": [
    "for iteration in range(n_iterations):\n",
    "    gradients = 2/m * X_b.T.dot(X_b.dot(theta) - y) \n",
    "    theta = theta - eta * gradients"
   ]
  },
  {
   "cell_type": "code",
   "execution_count": 27,
   "metadata": {},
   "outputs": [
    {
     "data": {
      "text/plain": [
       "array([[3.71888682],\n",
       "       [3.19667687]])"
      ]
     },
     "execution_count": 27,
     "metadata": {},
     "output_type": "execute_result"
    }
   ],
   "source": [
    "theta"
   ]
  },
  {
   "cell_type": "markdown",
   "metadata": {},
   "source": [
    "### Stochastic Gradient Descent with the learning schedule"
   ]
  },
  {
   "cell_type": "code",
   "execution_count": 28,
   "metadata": {},
   "outputs": [],
   "source": [
    "n_epochs = 50\n",
    "t0, t1 = 5, 50 # learning schedule hyperparameters"
   ]
  },
  {
   "cell_type": "code",
   "execution_count": 29,
   "metadata": {},
   "outputs": [
    {
     "data": {
      "text/plain": [
       "array([[-0.50738722],\n",
       "       [ 2.04288799]])"
      ]
     },
     "execution_count": 29,
     "metadata": {},
     "output_type": "execute_result"
    }
   ],
   "source": [
    "theta = np.random.randn(2,1) # random initialization\n",
    "theta"
   ]
  },
  {
   "cell_type": "code",
   "execution_count": 30,
   "metadata": {},
   "outputs": [],
   "source": [
    "def learning_schedule(t): \n",
    "    return t0 / (t + t1)"
   ]
  },
  {
   "cell_type": "code",
   "execution_count": 31,
   "metadata": {},
   "outputs": [],
   "source": [
    "for epoch in range(n_epochs): \n",
    "    for i in range(m):\n",
    "        random_index = np.random.randint(m)\n",
    "        xi = X_b[random_index:random_index+1]\n",
    "        yi = y[random_index:random_index+1] \n",
    "        gradients = 2 * xi.T.dot(xi.dot(theta) - yi) \n",
    "        eta = learning_schedule(epoch * m + i)\n",
    "        theta = theta - eta * gradients"
   ]
  },
  {
   "cell_type": "code",
   "execution_count": 32,
   "metadata": {},
   "outputs": [
    {
     "data": {
      "text/plain": [
       "array([[3.74291128],\n",
       "       [3.2254967 ]])"
      ]
     },
     "execution_count": 32,
     "metadata": {},
     "output_type": "execute_result"
    }
   ],
   "source": [
    "theta"
   ]
  },
  {
   "cell_type": "markdown",
   "metadata": {},
   "source": [
    "### Linear Regression using Stochastic GD with Scikit-Learn"
   ]
  },
  {
   "cell_type": "markdown",
   "metadata": {},
   "source": [
    "#### The following code runs for maximum 1,000 epochs or until the loss drops by less than 0.001 during one epoch (max_iter=1000, tol=1e-3). It starts with a learning rate of 0.1 (eta0=0.1),"
   ]
  },
  {
   "cell_type": "code",
   "execution_count": 34,
   "metadata": {},
   "outputs": [
    {
     "data": {
      "text/plain": [
       "SGDRegressor(alpha=0.0001, average=False, early_stopping=False, epsilon=0.1,\n",
       "             eta0=0.1, fit_intercept=True, l1_ratio=0.15,\n",
       "             learning_rate='invscaling', loss='squared_loss', max_iter=1000,\n",
       "             n_iter_no_change=5, penalty=None, power_t=0.25, random_state=None,\n",
       "             shuffle=True, tol=0.001, validation_fraction=0.1, verbose=0,\n",
       "             warm_start=False)"
      ]
     },
     "execution_count": 34,
     "metadata": {},
     "output_type": "execute_result"
    }
   ],
   "source": [
    "from sklearn.linear_model import SGDRegressor\n",
    "\n",
    "\n",
    "sgd_reg = SGDRegressor(max_iter=1000, tol=1e-3, penalty=None, eta0=0.1) \n",
    "sgd_reg.fit(X, y.ravel())"
   ]
  },
  {
   "cell_type": "code",
   "execution_count": 35,
   "metadata": {},
   "outputs": [
    {
     "data": {
      "text/plain": [
       "(array([3.77407771]), array([3.26213199]))"
      ]
     },
     "execution_count": 35,
     "metadata": {},
     "output_type": "execute_result"
    }
   ],
   "source": [
    "sgd_reg.intercept_, sgd_reg.coef_"
   ]
  },
  {
   "attachments": {
    "image.png": {
     "image/png": "[encoded data removed]"
    }
   },
   "cell_type": "markdown",
   "metadata": {},
   "source": [
    "![image.png](attachment:image.png)"
   ]
  },
  {
   "cell_type": "markdown",
   "metadata": {},
   "source": [
    "### Polynomial Regression"
   ]
  },
  {
   "cell_type": "markdown",
   "metadata": {},
   "source": [
    "<p>We can use a linear model to fit nonlinear data. A simple way to do this is to add powers of each feature as new features, then train a linear model on this extended set of features. This technique is called Polynomial Regression.</p>\n",
    "<br>\n",
    "<p>Let’s generate some nonlinear data, based on a simple quadratic equation: y = x^2 + bx + c</p>"
   ]
  },
  {
   "cell_type": "code",
   "execution_count": 36,
   "metadata": {},
   "outputs": [],
   "source": [
    "m = 100\n",
    "X = 6 * np.random.rand(m, 1) - 3\n",
    "y = 0.5 * X**2 + X + 2 + np.random.randn(m, 1)"
   ]
  },
  {
   "cell_type": "code",
   "execution_count": 37,
   "metadata": {
    "scrolled": true
   },
   "outputs": [
    {
     "data": {
      "text/plain": [
       "array([[-0.00380729],\n",
       "       [ 2.09208869],\n",
       "       [-1.99908817],\n",
       "       [-2.23149146],\n",
       "       [ 1.9479623 ],\n",
       "       [-2.08594542],\n",
       "       [ 1.52322702],\n",
       "       [ 0.21272054],\n",
       "       [-2.63924839],\n",
       "       [ 0.98310003],\n",
       "       [ 1.11803085],\n",
       "       [ 2.28314663],\n",
       "       [-2.64437628],\n",
       "       [ 2.32919874],\n",
       "       [-2.6032406 ],\n",
       "       [ 2.49024138],\n",
       "       [ 0.11151207],\n",
       "       [ 0.70301065],\n",
       "       [-1.31694287],\n",
       "       [ 2.89565879],\n",
       "       [ 2.84939145],\n",
       "       [ 2.37863321],\n",
       "       [ 1.73912827],\n",
       "       [ 1.4109154 ],\n",
       "       [-2.39372487],\n",
       "       [ 0.09447315],\n",
       "       [ 1.2993796 ],\n",
       "       [ 1.43563993],\n",
       "       [ 1.31886739],\n",
       "       [-0.45313474],\n",
       "       [-2.82451763],\n",
       "       [ 0.88263224],\n",
       "       [-1.48727082],\n",
       "       [-2.55464515],\n",
       "       [-2.92136842],\n",
       "       [-2.23862022],\n",
       "       [-1.98256962],\n",
       "       [ 0.36741653],\n",
       "       [-2.03423092],\n",
       "       [-2.43212132],\n",
       "       [-1.12455277],\n",
       "       [-1.95611622],\n",
       "       [-2.76649238],\n",
       "       [-0.31905643],\n",
       "       [ 1.19784489],\n",
       "       [-0.48572389],\n",
       "       [ 2.20581044],\n",
       "       [ 2.63118314],\n",
       "       [-2.02088907],\n",
       "       [-2.32989608],\n",
       "       [-1.65540923],\n",
       "       [-1.46414251],\n",
       "       [ 1.7331971 ],\n",
       "       [-2.49675165],\n",
       "       [-1.0676682 ],\n",
       "       [ 0.44210097],\n",
       "       [ 0.4234609 ],\n",
       "       [-1.66457858],\n",
       "       [ 2.44429814],\n",
       "       [ 0.59927964],\n",
       "       [ 0.33301858],\n",
       "       [-0.50366791],\n",
       "       [-0.68728332],\n",
       "       [-0.12774526],\n",
       "       [ 1.06901686],\n",
       "       [ 2.63014737],\n",
       "       [ 2.28454516],\n",
       "       [-1.01467001],\n",
       "       [-1.46430765],\n",
       "       [ 1.13584324],\n",
       "       [-1.9045643 ],\n",
       "       [-0.74059807],\n",
       "       [-1.13341055],\n",
       "       [-1.14191618],\n",
       "       [-1.24484107],\n",
       "       [-0.61931454],\n",
       "       [ 2.51031783],\n",
       "       [-2.12451425],\n",
       "       [-0.20627198],\n",
       "       [ 0.3064539 ],\n",
       "       [-2.32544795],\n",
       "       [-1.11551286],\n",
       "       [-0.66240828],\n",
       "       [-0.94681864],\n",
       "       [-2.81569908],\n",
       "       [ 2.42006686],\n",
       "       [-2.58380311],\n",
       "       [-2.35613905],\n",
       "       [ 0.82973247],\n",
       "       [-2.31370924],\n",
       "       [ 1.27864036],\n",
       "       [ 0.61364251],\n",
       "       [ 2.95510932],\n",
       "       [ 2.19569222],\n",
       "       [-0.31001614],\n",
       "       [-2.09575121],\n",
       "       [-2.47571298],\n",
       "       [-0.37450342],\n",
       "       [-1.22814094],\n",
       "       [ 0.93198152]])"
      ]
     },
     "execution_count": 37,
     "metadata": {},
     "output_type": "execute_result"
    }
   ],
   "source": [
    "X"
   ]
  },
  {
   "cell_type": "code",
   "execution_count": 38,
   "metadata": {
    "scrolled": true
   },
   "outputs": [
    {
     "data": {
      "text/plain": [
       "array([[2.96608177],\n",
       "       [7.03518408],\n",
       "       [2.47753664],\n",
       "       [2.10373836],\n",
       "       [4.87991844],\n",
       "       [3.43885833],\n",
       "       [4.71302086],\n",
       "       [1.67676596],\n",
       "       [4.12836256],\n",
       "       [2.12938677],\n",
       "       [3.56498452],\n",
       "       [6.13933372],\n",
       "       [3.53141158],\n",
       "       [9.33973779],\n",
       "       [3.13392172],\n",
       "       [6.70211149],\n",
       "       [2.5769268 ],\n",
       "       [4.23440691],\n",
       "       [1.80198676],\n",
       "       [9.07731847],\n",
       "       [9.16568899],\n",
       "       [7.89003075],\n",
       "       [5.17600051],\n",
       "       [3.84800569],\n",
       "       [3.2017477 ],\n",
       "       [3.71296937],\n",
       "       [2.9690181 ],\n",
       "       [4.15161281],\n",
       "       [4.73381974],\n",
       "       [1.92490115],\n",
       "       [4.54234733],\n",
       "       [3.56734402],\n",
       "       [1.28190869],\n",
       "       [2.82661504],\n",
       "       [3.53301413],\n",
       "       [2.49461706],\n",
       "       [1.17085591],\n",
       "       [1.21700317],\n",
       "       [0.1405064 ],\n",
       "       [1.0409008 ],\n",
       "       [2.13876215],\n",
       "       [3.58263405],\n",
       "       [4.60501939],\n",
       "       [0.58772654],\n",
       "       [2.17022216],\n",
       "       [2.26824095],\n",
       "       [7.03302009],\n",
       "       [8.60316527],\n",
       "       [1.91303415],\n",
       "       [0.78521581],\n",
       "       [1.12241602],\n",
       "       [0.88600209],\n",
       "       [4.99051837],\n",
       "       [3.03038902],\n",
       "       [3.13781419],\n",
       "       [1.64651506],\n",
       "       [0.68892581],\n",
       "       [2.13904644],\n",
       "       [7.50805808],\n",
       "       [3.28364762],\n",
       "       [2.31548726],\n",
       "       [0.65250264],\n",
       "       [0.25713835],\n",
       "       [2.3220385 ],\n",
       "       [2.81970822],\n",
       "       [7.39285393],\n",
       "       [6.45569207],\n",
       "       [2.04820389],\n",
       "       [1.63130976],\n",
       "       [4.14429161],\n",
       "       [3.11279325],\n",
       "       [0.5105185 ],\n",
       "       [0.25085503],\n",
       "       [2.50504079],\n",
       "       [0.50124937],\n",
       "       [2.15837505],\n",
       "       [7.09182903],\n",
       "       [2.57899118],\n",
       "       [0.66484271],\n",
       "       [0.87935289],\n",
       "       [1.83305695],\n",
       "       [1.97213509],\n",
       "       [1.71169338],\n",
       "       [3.10018284],\n",
       "       [1.67556926],\n",
       "       [7.12660481],\n",
       "       [2.80233878],\n",
       "       [2.54362776],\n",
       "       [0.54965098],\n",
       "       [3.66550162],\n",
       "       [2.3354782 ],\n",
       "       [2.17563427],\n",
       "       [6.99120425],\n",
       "       [7.08325379],\n",
       "       [2.7129376 ],\n",
       "       [0.61462291],\n",
       "       [1.90577153],\n",
       "       [1.34332013],\n",
       "       [1.76426247],\n",
       "       [3.21355694]])"
      ]
     },
     "execution_count": 38,
     "metadata": {},
     "output_type": "execute_result"
    }
   ],
   "source": [
    "y"
   ]
  },
  {
   "cell_type": "code",
   "execution_count": 39,
   "metadata": {},
   "outputs": [],
   "source": [
    "from sklearn.preprocessing import PolynomialFeatures\n",
    "\n",
    "poly_features = PolynomialFeatures(degree=2, include_bias=False)"
   ]
  },
  {
   "cell_type": "code",
   "execution_count": 40,
   "metadata": {},
   "outputs": [],
   "source": [
    "X_poly = poly_features.fit_transform(X)"
   ]
  },
  {
   "cell_type": "code",
   "execution_count": 41,
   "metadata": {},
   "outputs": [
    {
     "data": {
      "text/plain": [
       "array([-0.00380729])"
      ]
     },
     "execution_count": 41,
     "metadata": {},
     "output_type": "execute_result"
    }
   ],
   "source": [
    "X[0]"
   ]
  },
  {
   "cell_type": "code",
   "execution_count": 43,
   "metadata": {},
   "outputs": [
    {
     "data": {
      "text/plain": [
       "array([-3.80728900e-03,  1.44954495e-05])"
      ]
     },
     "execution_count": 43,
     "metadata": {},
     "output_type": "execute_result"
    }
   ],
   "source": [
    "# X_poly now contains the original feature of X plus the square of this feature\n",
    "X_poly[0] "
   ]
  },
  {
   "cell_type": "code",
   "execution_count": 44,
   "metadata": {},
   "outputs": [
    {
     "data": {
      "text/plain": [
       "LinearRegression(copy_X=True, fit_intercept=True, n_jobs=None, normalize=False)"
      ]
     },
     "execution_count": 44,
     "metadata": {},
     "output_type": "execute_result"
    }
   ],
   "source": [
    "lin_reg = LinearRegression()\n",
    "lin_reg.fit(X_poly, y)"
   ]
  },
  {
   "cell_type": "code",
   "execution_count": 45,
   "metadata": {},
   "outputs": [
    {
     "data": {
      "text/plain": [
       "(array([1.78498109]), array([[0.91309591, 0.53015919]]))"
      ]
     },
     "execution_count": 45,
     "metadata": {},
     "output_type": "execute_result"
    }
   ],
   "source": [
    "lin_reg.intercept_, lin_reg.coef_"
   ]
  },
  {
   "cell_type": "markdown",
   "metadata": {},
   "source": [
    "Not bad.\n",
    "<br>\n",
    "Model estimates: yˆ = 0.53*x1^2 + 0.91*x1 + 1.78 || when originally was: y = 0.5*x^2 + x1 + 2.0 + Gaussian nois"
   ]
  },
  {
   "cell_type": "code",
   "execution_count": null,
   "metadata": {},
   "outputs": [],
   "source": []
  }
 ],
 "metadata": {
  "kernelspec": {
   "display_name": "Python 3",
   "language": "python",
   "name": "python3"
  },
  "language_info": {
   "codemirror_mode": {
    "name": "ipython",
    "version": 3
   },
   "file_extension": ".py",
   "mimetype": "text/x-python",
   "name": "python",
   "nbconvert_exporter": "python",
   "pygments_lexer": "ipython3",
   "version": "3.7.4"
  }
 },
 "nbformat": 4,
 "nbformat_minor": 2
}
